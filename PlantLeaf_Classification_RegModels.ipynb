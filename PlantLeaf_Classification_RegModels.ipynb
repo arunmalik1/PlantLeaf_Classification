{
  "nbformat": 4,
  "nbformat_minor": 0,
  "metadata": {
    "colab": {
      "provenance": [],
      "machine_shape": "hm",
      "authorship_tag": "ABX9TyM1jhcPy0IyUxwWW5N4dXwZ",
      "include_colab_link": true
    },
    "kernelspec": {
      "name": "python3",
      "display_name": "Python 3"
    },
    "language_info": {
      "name": "python"
    },
    "accelerator": "TPU",
    "gpuClass": "standard"
  },
  "cells": [
    {
      "cell_type": "markdown",
      "metadata": {
        "id": "view-in-github",
        "colab_type": "text"
      },
      "source": [
        "<a href=\"https://colab.research.google.com/github/arunmalik1/PlantLeaf_Classification/blob/main/PlantLeaf_Classification_RegModels.ipynb\" target=\"_parent\"><img src=\"https://colab.research.google.com/assets/colab-badge.svg\" alt=\"Open In Colab\"/></a>"
      ]
    },
    {
      "cell_type": "markdown",
      "source": [
        "This project is binary classification project using plant images. The idea is to be able to identify diseased vs healthy plants. There are 11 different plants and the entire dataet is divded into 22 categories. \n",
        "\n",
        "The dataset is from Kaggle: \n",
        "This is a collection of about 4503 images of which contains 2278 images of healthy leaf and 2225 images of the diseased leaf. Twelve plants named as Mango, Arjun, Alstonia Scholaris, Guava, Bael, Jamun, Jatropha, Pongamia Pinnata, Basil, Pomegranate, Lemon, and Chinar have been selected. Images are split between training, test, validating and prediction datasets for model training and testing purposes.\n",
        "\n"
      ],
      "metadata": {
        "id": "FIf7BhdskduB"
      }
    },
    {
      "cell_type": "markdown",
      "source": [
        "#Import Packages"
      ],
      "metadata": {
        "id": "B8VGKk0ooOn0"
      }
    },
    {
      "cell_type": "code",
      "source": [
        "#need pydicom for images\n",
        "!pip install pydicom"
      ],
      "metadata": {
        "colab": {
          "base_uri": "https://localhost:8080/"
        },
        "id": "TmFyTHVmx4iO",
        "outputId": "06e00278-6fad-401c-f68a-9078b3a42680"
      },
      "execution_count": 1,
      "outputs": [
        {
          "output_type": "stream",
          "name": "stdout",
          "text": [
            "Looking in indexes: https://pypi.org/simple, https://us-python.pkg.dev/colab-wheels/public/simple/\n",
            "Collecting pydicom\n",
            "  Downloading pydicom-2.3.1-py3-none-any.whl (2.0 MB)\n",
            "\u001b[2K     \u001b[90m━━━━━━━━━━━━━━━━━━━━━━━━━━━━━━━━━━━━━━━━\u001b[0m \u001b[32m2.0/2.0 MB\u001b[0m \u001b[31m24.4 MB/s\u001b[0m eta \u001b[36m0:00:00\u001b[0m\n",
            "\u001b[?25hInstalling collected packages: pydicom\n",
            "Successfully installed pydicom-2.3.1\n"
          ]
        }
      ]
    },
    {
      "cell_type": "code",
      "source": [
        "#install opendatasets to get the data from Kaggle\n",
        "!pip install opendatasets --upgrade"
      ],
      "metadata": {
        "colab": {
          "base_uri": "https://localhost:8080/"
        },
        "id": "ABB1vJpwx99w",
        "outputId": "0229f912-e505-447a-bff7-6efd63fce02f"
      },
      "execution_count": 2,
      "outputs": [
        {
          "output_type": "stream",
          "name": "stdout",
          "text": [
            "Looking in indexes: https://pypi.org/simple, https://us-python.pkg.dev/colab-wheels/public/simple/\n",
            "Collecting opendatasets\n",
            "  Downloading opendatasets-0.1.22-py3-none-any.whl (15 kB)\n",
            "Requirement already satisfied: click in /usr/local/lib/python3.8/dist-packages (from opendatasets) (7.1.2)\n",
            "Requirement already satisfied: kaggle in /usr/local/lib/python3.8/dist-packages (from opendatasets) (1.5.12)\n",
            "Requirement already satisfied: tqdm in /usr/local/lib/python3.8/dist-packages (from opendatasets) (4.64.1)\n",
            "Requirement already satisfied: python-dateutil in /usr/local/lib/python3.8/dist-packages (from kaggle->opendatasets) (2.8.2)\n",
            "Requirement already satisfied: urllib3 in /usr/local/lib/python3.8/dist-packages (from kaggle->opendatasets) (1.24.3)\n",
            "Requirement already satisfied: certifi in /usr/local/lib/python3.8/dist-packages (from kaggle->opendatasets) (2022.12.7)\n",
            "Requirement already satisfied: python-slugify in /usr/local/lib/python3.8/dist-packages (from kaggle->opendatasets) (8.0.0)\n",
            "Requirement already satisfied: six>=1.10 in /usr/local/lib/python3.8/dist-packages (from kaggle->opendatasets) (1.15.0)\n",
            "Requirement already satisfied: requests in /usr/local/lib/python3.8/dist-packages (from kaggle->opendatasets) (2.25.1)\n",
            "Requirement already satisfied: text-unidecode>=1.3 in /usr/local/lib/python3.8/dist-packages (from python-slugify->kaggle->opendatasets) (1.3)\n",
            "Requirement already satisfied: idna<3,>=2.5 in /usr/local/lib/python3.8/dist-packages (from requests->kaggle->opendatasets) (2.10)\n",
            "Requirement already satisfied: chardet<5,>=3.0.2 in /usr/local/lib/python3.8/dist-packages (from requests->kaggle->opendatasets) (4.0.0)\n",
            "Installing collected packages: opendatasets\n",
            "Successfully installed opendatasets-0.1.22\n"
          ]
        }
      ]
    },
    {
      "cell_type": "code",
      "source": [
        "#installing keras tuner \n",
        "!pip install keras-tuner"
      ],
      "metadata": {
        "colab": {
          "base_uri": "https://localhost:8080/"
        },
        "id": "4Vk9ii3KIhWU",
        "outputId": "2eb1929b-a4b4-418d-d2c0-da1b3ef5c698"
      },
      "execution_count": 3,
      "outputs": [
        {
          "output_type": "stream",
          "name": "stdout",
          "text": [
            "Looking in indexes: https://pypi.org/simple, https://us-python.pkg.dev/colab-wheels/public/simple/\n",
            "Collecting keras-tuner\n",
            "  Downloading keras_tuner-1.2.0-py3-none-any.whl (168 kB)\n",
            "\u001b[?25l     \u001b[90m━━━━━━━━━━━━━━━━━━━━━━━━━━━━━━━━━━━━━━━━\u001b[0m \u001b[32m0.0/168.1 KB\u001b[0m \u001b[31m?\u001b[0m eta \u001b[36m-:--:--\u001b[0m\r\u001b[2K     \u001b[90m━━━━━━━━━━━━━━━━━━━━━━━━━━━━━━━━━━━━━━━\u001b[0m \u001b[32m168.1/168.1 KB\u001b[0m \u001b[31m5.0 MB/s\u001b[0m eta \u001b[36m0:00:00\u001b[0m\n",
            "\u001b[?25hRequirement already satisfied: tensorflow>=2.0 in /usr/local/lib/python3.8/dist-packages (from keras-tuner) (2.9.2)\n",
            "Collecting kt-legacy\n",
            "  Downloading kt_legacy-1.0.4-py3-none-any.whl (9.6 kB)\n",
            "Requirement already satisfied: ipython in /usr/local/lib/python3.8/dist-packages (from keras-tuner) (7.9.0)\n",
            "Requirement already satisfied: packaging in /usr/local/lib/python3.8/dist-packages (from keras-tuner) (23.0)\n",
            "Requirement already satisfied: requests in /usr/local/lib/python3.8/dist-packages (from keras-tuner) (2.25.1)\n",
            "Requirement already satisfied: tensorflow-io-gcs-filesystem>=0.23.1 in /usr/local/lib/python3.8/dist-packages (from tensorflow>=2.0->keras-tuner) (0.30.0)\n",
            "Requirement already satisfied: h5py>=2.9.0 in /usr/local/lib/python3.8/dist-packages (from tensorflow>=2.0->keras-tuner) (3.1.0)\n",
            "Requirement already satisfied: opt-einsum>=2.3.2 in /usr/local/lib/python3.8/dist-packages (from tensorflow>=2.0->keras-tuner) (3.3.0)\n",
            "Requirement already satisfied: six>=1.12.0 in /usr/local/lib/python3.8/dist-packages (from tensorflow>=2.0->keras-tuner) (1.15.0)\n",
            "Requirement already satisfied: wrapt>=1.11.0 in /usr/local/lib/python3.8/dist-packages (from tensorflow>=2.0->keras-tuner) (1.14.1)\n",
            "Requirement already satisfied: keras<2.10.0,>=2.9.0rc0 in /usr/local/lib/python3.8/dist-packages (from tensorflow>=2.0->keras-tuner) (2.9.0)\n",
            "Requirement already satisfied: flatbuffers<2,>=1.12 in /usr/local/lib/python3.8/dist-packages (from tensorflow>=2.0->keras-tuner) (1.12)\n",
            "Requirement already satisfied: typing-extensions>=3.6.6 in /usr/local/lib/python3.8/dist-packages (from tensorflow>=2.0->keras-tuner) (4.4.0)\n",
            "Requirement already satisfied: setuptools in /usr/local/lib/python3.8/dist-packages (from tensorflow>=2.0->keras-tuner) (57.4.0)\n",
            "Requirement already satisfied: gast<=0.4.0,>=0.2.1 in /usr/local/lib/python3.8/dist-packages (from tensorflow>=2.0->keras-tuner) (0.4.0)\n",
            "Requirement already satisfied: tensorboard<2.10,>=2.9 in /usr/local/lib/python3.8/dist-packages (from tensorflow>=2.0->keras-tuner) (2.9.1)\n",
            "Requirement already satisfied: tensorflow-estimator<2.10.0,>=2.9.0rc0 in /usr/local/lib/python3.8/dist-packages (from tensorflow>=2.0->keras-tuner) (2.9.0)\n",
            "Requirement already satisfied: google-pasta>=0.1.1 in /usr/local/lib/python3.8/dist-packages (from tensorflow>=2.0->keras-tuner) (0.2.0)\n",
            "Requirement already satisfied: numpy>=1.20 in /usr/local/lib/python3.8/dist-packages (from tensorflow>=2.0->keras-tuner) (1.21.6)\n",
            "Requirement already satisfied: astunparse>=1.6.0 in /usr/local/lib/python3.8/dist-packages (from tensorflow>=2.0->keras-tuner) (1.6.3)\n",
            "Requirement already satisfied: grpcio<2.0,>=1.24.3 in /usr/local/lib/python3.8/dist-packages (from tensorflow>=2.0->keras-tuner) (1.51.1)\n",
            "Requirement already satisfied: libclang>=13.0.0 in /usr/local/lib/python3.8/dist-packages (from tensorflow>=2.0->keras-tuner) (15.0.6.1)\n",
            "Requirement already satisfied: termcolor>=1.1.0 in /usr/local/lib/python3.8/dist-packages (from tensorflow>=2.0->keras-tuner) (2.2.0)\n",
            "Requirement already satisfied: keras-preprocessing>=1.1.1 in /usr/local/lib/python3.8/dist-packages (from tensorflow>=2.0->keras-tuner) (1.1.2)\n",
            "Requirement already satisfied: absl-py>=1.0.0 in /usr/local/lib/python3.8/dist-packages (from tensorflow>=2.0->keras-tuner) (1.4.0)\n",
            "Requirement already satisfied: protobuf<3.20,>=3.9.2 in /usr/local/lib/python3.8/dist-packages (from tensorflow>=2.0->keras-tuner) (3.19.6)\n",
            "Requirement already satisfied: prompt-toolkit<2.1.0,>=2.0.0 in /usr/local/lib/python3.8/dist-packages (from ipython->keras-tuner) (2.0.10)\n",
            "Requirement already satisfied: decorator in /usr/local/lib/python3.8/dist-packages (from ipython->keras-tuner) (4.4.2)\n",
            "Collecting jedi>=0.10\n",
            "  Downloading jedi-0.18.2-py2.py3-none-any.whl (1.6 MB)\n",
            "\u001b[2K     \u001b[90m━━━━━━━━━━━━━━━━━━━━━━━━━━━━━━━━━━━━━━━━\u001b[0m \u001b[32m1.6/1.6 MB\u001b[0m \u001b[31m30.4 MB/s\u001b[0m eta \u001b[36m0:00:00\u001b[0m\n",
            "\u001b[?25hRequirement already satisfied: traitlets>=4.2 in /usr/local/lib/python3.8/dist-packages (from ipython->keras-tuner) (5.7.1)\n",
            "Requirement already satisfied: pickleshare in /usr/local/lib/python3.8/dist-packages (from ipython->keras-tuner) (0.7.5)\n",
            "Requirement already satisfied: backcall in /usr/local/lib/python3.8/dist-packages (from ipython->keras-tuner) (0.2.0)\n",
            "Requirement already satisfied: pygments in /usr/local/lib/python3.8/dist-packages (from ipython->keras-tuner) (2.6.1)\n",
            "Requirement already satisfied: pexpect in /usr/local/lib/python3.8/dist-packages (from ipython->keras-tuner) (4.8.0)\n",
            "Requirement already satisfied: idna<3,>=2.5 in /usr/local/lib/python3.8/dist-packages (from requests->keras-tuner) (2.10)\n",
            "Requirement already satisfied: chardet<5,>=3.0.2 in /usr/local/lib/python3.8/dist-packages (from requests->keras-tuner) (4.0.0)\n",
            "Requirement already satisfied: urllib3<1.27,>=1.21.1 in /usr/local/lib/python3.8/dist-packages (from requests->keras-tuner) (1.24.3)\n",
            "Requirement already satisfied: certifi>=2017.4.17 in /usr/local/lib/python3.8/dist-packages (from requests->keras-tuner) (2022.12.7)\n",
            "Requirement already satisfied: wheel<1.0,>=0.23.0 in /usr/local/lib/python3.8/dist-packages (from astunparse>=1.6.0->tensorflow>=2.0->keras-tuner) (0.38.4)\n",
            "Requirement already satisfied: parso<0.9.0,>=0.8.0 in /usr/local/lib/python3.8/dist-packages (from jedi>=0.10->ipython->keras-tuner) (0.8.3)\n",
            "Requirement already satisfied: wcwidth in /usr/local/lib/python3.8/dist-packages (from prompt-toolkit<2.1.0,>=2.0.0->ipython->keras-tuner) (0.2.6)\n",
            "Requirement already satisfied: tensorboard-plugin-wit>=1.6.0 in /usr/local/lib/python3.8/dist-packages (from tensorboard<2.10,>=2.9->tensorflow>=2.0->keras-tuner) (1.8.1)\n",
            "Requirement already satisfied: google-auth-oauthlib<0.5,>=0.4.1 in /usr/local/lib/python3.8/dist-packages (from tensorboard<2.10,>=2.9->tensorflow>=2.0->keras-tuner) (0.4.6)\n",
            "Requirement already satisfied: tensorboard-data-server<0.7.0,>=0.6.0 in /usr/local/lib/python3.8/dist-packages (from tensorboard<2.10,>=2.9->tensorflow>=2.0->keras-tuner) (0.6.1)\n",
            "Requirement already satisfied: werkzeug>=1.0.1 in /usr/local/lib/python3.8/dist-packages (from tensorboard<2.10,>=2.9->tensorflow>=2.0->keras-tuner) (1.0.1)\n",
            "Requirement already satisfied: markdown>=2.6.8 in /usr/local/lib/python3.8/dist-packages (from tensorboard<2.10,>=2.9->tensorflow>=2.0->keras-tuner) (3.4.1)\n",
            "Requirement already satisfied: google-auth<3,>=1.6.3 in /usr/local/lib/python3.8/dist-packages (from tensorboard<2.10,>=2.9->tensorflow>=2.0->keras-tuner) (2.16.0)\n",
            "Requirement already satisfied: ptyprocess>=0.5 in /usr/local/lib/python3.8/dist-packages (from pexpect->ipython->keras-tuner) (0.7.0)\n",
            "Requirement already satisfied: rsa<5,>=3.1.4 in /usr/local/lib/python3.8/dist-packages (from google-auth<3,>=1.6.3->tensorboard<2.10,>=2.9->tensorflow>=2.0->keras-tuner) (4.9)\n",
            "Requirement already satisfied: pyasn1-modules>=0.2.1 in /usr/local/lib/python3.8/dist-packages (from google-auth<3,>=1.6.3->tensorboard<2.10,>=2.9->tensorflow>=2.0->keras-tuner) (0.2.8)\n",
            "Requirement already satisfied: cachetools<6.0,>=2.0.0 in /usr/local/lib/python3.8/dist-packages (from google-auth<3,>=1.6.3->tensorboard<2.10,>=2.9->tensorflow>=2.0->keras-tuner) (5.3.0)\n",
            "Requirement already satisfied: requests-oauthlib>=0.7.0 in /usr/local/lib/python3.8/dist-packages (from google-auth-oauthlib<0.5,>=0.4.1->tensorboard<2.10,>=2.9->tensorflow>=2.0->keras-tuner) (1.3.1)\n",
            "Requirement already satisfied: importlib-metadata>=4.4 in /usr/local/lib/python3.8/dist-packages (from markdown>=2.6.8->tensorboard<2.10,>=2.9->tensorflow>=2.0->keras-tuner) (6.0.0)\n",
            "Requirement already satisfied: zipp>=0.5 in /usr/local/lib/python3.8/dist-packages (from importlib-metadata>=4.4->markdown>=2.6.8->tensorboard<2.10,>=2.9->tensorflow>=2.0->keras-tuner) (3.12.0)\n",
            "Requirement already satisfied: pyasn1<0.5.0,>=0.4.6 in /usr/local/lib/python3.8/dist-packages (from pyasn1-modules>=0.2.1->google-auth<3,>=1.6.3->tensorboard<2.10,>=2.9->tensorflow>=2.0->keras-tuner) (0.4.8)\n",
            "Requirement already satisfied: oauthlib>=3.0.0 in /usr/local/lib/python3.8/dist-packages (from requests-oauthlib>=0.7.0->google-auth-oauthlib<0.5,>=0.4.1->tensorboard<2.10,>=2.9->tensorflow>=2.0->keras-tuner) (3.2.2)\n",
            "Installing collected packages: kt-legacy, jedi, keras-tuner\n",
            "Successfully installed jedi-0.18.2 keras-tuner-1.2.0 kt-legacy-1.0.4\n"
          ]
        }
      ]
    },
    {
      "cell_type": "code",
      "source": [
        "!pip install -q -U keras-tuner"
      ],
      "metadata": {
        "id": "hrBuP3dYNT5l"
      },
      "execution_count": 4,
      "outputs": []
    },
    {
      "cell_type": "code",
      "source": [
        "!pip install git+https://github.com/keras-team/keras-preprocessing.git"
      ],
      "metadata": {
        "colab": {
          "base_uri": "https://localhost:8080/"
        },
        "id": "IbqKt-fFKWq9",
        "outputId": "6ad97328-e093-40ef-bf61-a8acb1bd3a2c"
      },
      "execution_count": 5,
      "outputs": [
        {
          "output_type": "stream",
          "name": "stdout",
          "text": [
            "Looking in indexes: https://pypi.org/simple, https://us-python.pkg.dev/colab-wheels/public/simple/\n",
            "Collecting git+https://github.com/keras-team/keras-preprocessing.git\n",
            "  Cloning https://github.com/keras-team/keras-preprocessing.git to /tmp/pip-req-build-fs6q1l9l\n",
            "  Running command git clone --filter=blob:none --quiet https://github.com/keras-team/keras-preprocessing.git /tmp/pip-req-build-fs6q1l9l\n",
            "  Resolved https://github.com/keras-team/keras-preprocessing.git to commit 3e380065d4afc7347aaee8d89325a16b22158438\n",
            "  Preparing metadata (setup.py) ... \u001b[?25l\u001b[?25hdone\n",
            "Requirement already satisfied: numpy>=1.9.1 in /usr/local/lib/python3.8/dist-packages (from Keras-Preprocessing==1.1.2) (1.21.6)\n"
          ]
        }
      ]
    },
    {
      "cell_type": "code",
      "source": [
        "!pip install --upgrade transformers\n",
        "!pip install --upgrade datasets"
      ],
      "metadata": {
        "colab": {
          "base_uri": "https://localhost:8080/"
        },
        "id": "NlSpd81wNhAS",
        "outputId": "9e486ad1-92fc-4750-d3b7-d71745e1f94b"
      },
      "execution_count": 6,
      "outputs": [
        {
          "output_type": "stream",
          "name": "stdout",
          "text": [
            "Looking in indexes: https://pypi.org/simple, https://us-python.pkg.dev/colab-wheels/public/simple/\n",
            "Collecting transformers\n",
            "  Downloading transformers-4.26.0-py3-none-any.whl (6.3 MB)\n",
            "\u001b[2K     \u001b[90m━━━━━━━━━━━━━━━━━━━━━━━━━━━━━━━━━━━━━━━━\u001b[0m \u001b[32m6.3/6.3 MB\u001b[0m \u001b[31m53.2 MB/s\u001b[0m eta \u001b[36m0:00:00\u001b[0m\n",
            "\u001b[?25hRequirement already satisfied: numpy>=1.17 in /usr/local/lib/python3.8/dist-packages (from transformers) (1.21.6)\n",
            "Collecting huggingface-hub<1.0,>=0.11.0\n",
            "  Downloading huggingface_hub-0.12.0-py3-none-any.whl (190 kB)\n",
            "\u001b[2K     \u001b[90m━━━━━━━━━━━━━━━━━━━━━━━━━━━━━━━━━━━━━━\u001b[0m \u001b[32m190.3/190.3 KB\u001b[0m \u001b[31m20.3 MB/s\u001b[0m eta \u001b[36m0:00:00\u001b[0m\n",
            "\u001b[?25hCollecting tokenizers!=0.11.3,<0.14,>=0.11.1\n",
            "  Downloading tokenizers-0.13.2-cp38-cp38-manylinux_2_17_x86_64.manylinux2014_x86_64.whl (7.6 MB)\n",
            "\u001b[2K     \u001b[90m━━━━━━━━━━━━━━━━━━━━━━━━━━━━━━━━━━━━━━━━\u001b[0m \u001b[32m7.6/7.6 MB\u001b[0m \u001b[31m92.0 MB/s\u001b[0m eta \u001b[36m0:00:00\u001b[0m\n",
            "\u001b[?25hRequirement already satisfied: packaging>=20.0 in /usr/local/lib/python3.8/dist-packages (from transformers) (23.0)\n",
            "Requirement already satisfied: regex!=2019.12.17 in /usr/local/lib/python3.8/dist-packages (from transformers) (2022.6.2)\n",
            "Requirement already satisfied: tqdm>=4.27 in /usr/local/lib/python3.8/dist-packages (from transformers) (4.64.1)\n",
            "Requirement already satisfied: pyyaml>=5.1 in /usr/local/lib/python3.8/dist-packages (from transformers) (6.0)\n",
            "Requirement already satisfied: requests in /usr/local/lib/python3.8/dist-packages (from transformers) (2.25.1)\n",
            "Requirement already satisfied: filelock in /usr/local/lib/python3.8/dist-packages (from transformers) (3.9.0)\n",
            "Requirement already satisfied: typing-extensions>=3.7.4.3 in /usr/local/lib/python3.8/dist-packages (from huggingface-hub<1.0,>=0.11.0->transformers) (4.4.0)\n",
            "Requirement already satisfied: certifi>=2017.4.17 in /usr/local/lib/python3.8/dist-packages (from requests->transformers) (2022.12.7)\n",
            "Requirement already satisfied: urllib3<1.27,>=1.21.1 in /usr/local/lib/python3.8/dist-packages (from requests->transformers) (1.24.3)\n",
            "Requirement already satisfied: idna<3,>=2.5 in /usr/local/lib/python3.8/dist-packages (from requests->transformers) (2.10)\n",
            "Requirement already satisfied: chardet<5,>=3.0.2 in /usr/local/lib/python3.8/dist-packages (from requests->transformers) (4.0.0)\n",
            "Installing collected packages: tokenizers, huggingface-hub, transformers\n",
            "Successfully installed huggingface-hub-0.12.0 tokenizers-0.13.2 transformers-4.26.0\n",
            "Looking in indexes: https://pypi.org/simple, https://us-python.pkg.dev/colab-wheels/public/simple/\n",
            "Collecting datasets\n",
            "  Downloading datasets-2.9.0-py3-none-any.whl (462 kB)\n",
            "\u001b[2K     \u001b[90m━━━━━━━━━━━━━━━━━━━━━━━━━━━━━━━━━━━━━━━\u001b[0m \u001b[32m462.8/462.8 KB\u001b[0m \u001b[31m9.6 MB/s\u001b[0m eta \u001b[36m0:00:00\u001b[0m\n",
            "\u001b[?25hRequirement already satisfied: requests>=2.19.0 in /usr/local/lib/python3.8/dist-packages (from datasets) (2.25.1)\n",
            "Requirement already satisfied: packaging in /usr/local/lib/python3.8/dist-packages (from datasets) (23.0)\n",
            "Requirement already satisfied: fsspec[http]>=2021.11.1 in /usr/local/lib/python3.8/dist-packages (from datasets) (2023.1.0)\n",
            "Collecting xxhash\n",
            "  Downloading xxhash-3.2.0-cp38-cp38-manylinux_2_17_x86_64.manylinux2014_x86_64.whl (213 kB)\n",
            "\u001b[2K     \u001b[90m━━━━━━━━━━━━━━━━━━━━━━━━━━━━━━━━━━━━━━\u001b[0m \u001b[32m213.0/213.0 KB\u001b[0m \u001b[31m22.7 MB/s\u001b[0m eta \u001b[36m0:00:00\u001b[0m\n",
            "\u001b[?25hRequirement already satisfied: pyarrow>=6.0.0 in /usr/local/lib/python3.8/dist-packages (from datasets) (9.0.0)\n",
            "Requirement already satisfied: tqdm>=4.62.1 in /usr/local/lib/python3.8/dist-packages (from datasets) (4.64.1)\n",
            "Collecting responses<0.19\n",
            "  Downloading responses-0.18.0-py3-none-any.whl (38 kB)\n",
            "Requirement already satisfied: pandas in /usr/local/lib/python3.8/dist-packages (from datasets) (1.3.5)\n",
            "Requirement already satisfied: huggingface-hub<1.0.0,>=0.2.0 in /usr/local/lib/python3.8/dist-packages (from datasets) (0.12.0)\n",
            "Requirement already satisfied: pyyaml>=5.1 in /usr/local/lib/python3.8/dist-packages (from datasets) (6.0)\n",
            "Requirement already satisfied: aiohttp in /usr/local/lib/python3.8/dist-packages (from datasets) (3.8.3)\n",
            "Requirement already satisfied: dill<0.3.7 in /usr/local/lib/python3.8/dist-packages (from datasets) (0.3.6)\n",
            "Collecting multiprocess\n",
            "  Downloading multiprocess-0.70.14-py38-none-any.whl (132 kB)\n",
            "\u001b[2K     \u001b[90m━━━━━━━━━━━━━━━━━━━━━━━━━━━━━━━━━━━━━━\u001b[0m \u001b[32m132.0/132.0 KB\u001b[0m \u001b[31m15.5 MB/s\u001b[0m eta \u001b[36m0:00:00\u001b[0m\n",
            "\u001b[?25hRequirement already satisfied: numpy>=1.17 in /usr/local/lib/python3.8/dist-packages (from datasets) (1.21.6)\n",
            "Requirement already satisfied: multidict<7.0,>=4.5 in /usr/local/lib/python3.8/dist-packages (from aiohttp->datasets) (6.0.4)\n",
            "Requirement already satisfied: yarl<2.0,>=1.0 in /usr/local/lib/python3.8/dist-packages (from aiohttp->datasets) (1.8.2)\n",
            "Requirement already satisfied: aiosignal>=1.1.2 in /usr/local/lib/python3.8/dist-packages (from aiohttp->datasets) (1.3.1)\n",
            "Requirement already satisfied: attrs>=17.3.0 in /usr/local/lib/python3.8/dist-packages (from aiohttp->datasets) (22.2.0)\n",
            "Requirement already satisfied: async-timeout<5.0,>=4.0.0a3 in /usr/local/lib/python3.8/dist-packages (from aiohttp->datasets) (4.0.2)\n",
            "Requirement already satisfied: charset-normalizer<3.0,>=2.0 in /usr/local/lib/python3.8/dist-packages (from aiohttp->datasets) (2.1.1)\n",
            "Requirement already satisfied: frozenlist>=1.1.1 in /usr/local/lib/python3.8/dist-packages (from aiohttp->datasets) (1.3.3)\n",
            "Requirement already satisfied: typing-extensions>=3.7.4.3 in /usr/local/lib/python3.8/dist-packages (from huggingface-hub<1.0.0,>=0.2.0->datasets) (4.4.0)\n",
            "Requirement already satisfied: filelock in /usr/local/lib/python3.8/dist-packages (from huggingface-hub<1.0.0,>=0.2.0->datasets) (3.9.0)\n",
            "Requirement already satisfied: idna<3,>=2.5 in /usr/local/lib/python3.8/dist-packages (from requests>=2.19.0->datasets) (2.10)\n",
            "Requirement already satisfied: urllib3<1.27,>=1.21.1 in /usr/local/lib/python3.8/dist-packages (from requests>=2.19.0->datasets) (1.24.3)\n",
            "Requirement already satisfied: chardet<5,>=3.0.2 in /usr/local/lib/python3.8/dist-packages (from requests>=2.19.0->datasets) (4.0.0)\n",
            "Requirement already satisfied: certifi>=2017.4.17 in /usr/local/lib/python3.8/dist-packages (from requests>=2.19.0->datasets) (2022.12.7)\n",
            "Collecting urllib3<1.27,>=1.21.1\n",
            "  Downloading urllib3-1.26.14-py2.py3-none-any.whl (140 kB)\n",
            "\u001b[2K     \u001b[90m━━━━━━━━━━━━━━━━━━━━━━━━━━━━━━━━━━━━━━\u001b[0m \u001b[32m140.6/140.6 KB\u001b[0m \u001b[31m14.6 MB/s\u001b[0m eta \u001b[36m0:00:00\u001b[0m\n",
            "\u001b[?25hRequirement already satisfied: pytz>=2017.3 in /usr/local/lib/python3.8/dist-packages (from pandas->datasets) (2022.7.1)\n",
            "Requirement already satisfied: python-dateutil>=2.7.3 in /usr/local/lib/python3.8/dist-packages (from pandas->datasets) (2.8.2)\n",
            "Requirement already satisfied: six>=1.5 in /usr/local/lib/python3.8/dist-packages (from python-dateutil>=2.7.3->pandas->datasets) (1.15.0)\n",
            "Installing collected packages: xxhash, urllib3, multiprocess, responses, datasets\n",
            "  Attempting uninstall: urllib3\n",
            "    Found existing installation: urllib3 1.24.3\n",
            "    Uninstalling urllib3-1.24.3:\n",
            "      Successfully uninstalled urllib3-1.24.3\n",
            "Successfully installed datasets-2.9.0 multiprocess-0.70.14 responses-0.18.0 urllib3-1.26.14 xxhash-3.2.0\n"
          ]
        }
      ]
    },
    {
      "cell_type": "code",
      "source": [
        "#import packages \n",
        "import pandas as pd\n",
        "import numpy as np\n",
        "import scipy\n",
        "\n",
        "\n",
        "#import plot \n",
        "from pathlib import Path\n",
        "import matplotlib.pyplot as plt\n",
        "import matplotlib.image as mpimg\n",
        "from IPython.display import Image\n",
        "%matplotlib inline\n",
        "from PIL import Image\n",
        "import PIL.Image\n",
        "import seaborn as sns\n",
        "from tabulate import tabulate\n",
        "import os\n",
        "\n",
        "#import keras and tenserflow and pydicom\n",
        "import keras\n",
        "import pydicom\n",
        "import keras_tuner as kt\n",
        "from keras import layers\n",
        "from kerastuner import RandomSearch\n",
        "from tensorflow.keras.layers import Dropout\n",
        "from tensorflow.keras.regularizers import L1\n",
        "from tensorflow.keras.regularizers import L2\n",
        "from tensorflow.keras.optimizers import Adam\n",
        "from tensorflow.keras.layers import BatchNormalization\n",
        "from kerastuner.engine.hyperparameters import HyperParameters\n",
        "\n",
        "\n",
        "#import tenserflow functions\n",
        "import tensorflow as tf\n",
        "from tensorflow.keras.preprocessing import image\n",
        "from tensorflow.keras.utils import to_categorical\n",
        "from tensorflow.keras.models import Sequential\n",
        "from tensorflow.keras.layers import Dense # creates densely connected layer object\n",
        "from tensorflow.keras.layers import Flatten # takes 2D input and turns into 1D array\n",
        "from tensorflow.keras.layers import Conv2D # convolution layer\n",
        "from tensorflow.keras.layers import MaxPooling2D # max pooling layer\n",
        "from tensorflow.keras.preprocessing.image import ImageDataGenerator\n",
        "from keras.layers import Dense, Activation, Flatten, Dropout, BatchNormalization\n",
        "\n",
        "\n"
      ],
      "metadata": {
        "id": "ucxWiFiglXiU"
      },
      "execution_count": 19,
      "outputs": []
    },
    {
      "cell_type": "markdown",
      "source": [
        "#Import Data"
      ],
      "metadata": {
        "id": "DjiRCnKGoRxZ"
      }
    },
    {
      "cell_type": "code",
      "source": [
        "#load the data \n",
        "import opendatasets as od\n",
        "od.download(\"https://www.kaggle.com/datasets/csafrit2/plant-leaves-for-image-classification?select=Plants_2\", force=True)"
      ],
      "metadata": {
        "colab": {
          "base_uri": "https://localhost:8080/"
        },
        "id": "ZCxWYHuUouTs",
        "outputId": "62b044ee-5738-4663-b121-a74447cd1ad2"
      },
      "execution_count": 8,
      "outputs": [
        {
          "output_type": "stream",
          "name": "stdout",
          "text": [
            "Please provide your Kaggle credentials to download this dataset. Learn more: http://bit.ly/kaggle-creds\n",
            "Your Kaggle username: arunmalik78\n",
            "Your Kaggle Key: ··········\n",
            "Downloading plant-leaves-for-image-classification.zip to ./plant-leaves-for-image-classification\n"
          ]
        },
        {
          "output_type": "stream",
          "name": "stderr",
          "text": [
            "100%|██████████| 6.56G/6.56G [00:46<00:00, 150MB/s]\n"
          ]
        },
        {
          "output_type": "stream",
          "name": "stdout",
          "text": [
            "\n"
          ]
        }
      ]
    },
    {
      "cell_type": "code",
      "source": [
        "train_ds = keras.utils.image_dataset_from_directory(\n",
        "    directory='/content/plant-leaves-for-image-classification/Plants_2/train',\n",
        "    labels = 'inferred',\n",
        "    label_mode = 'categorical',\n",
        "    image_size = (256,256),\n",
        "    batch_size = 32)"
      ],
      "metadata": {
        "colab": {
          "base_uri": "https://localhost:8080/"
        },
        "id": "GryhUdXMvevF",
        "outputId": "2664805d-1196-49c3-b120-46c6fbe4a775"
      },
      "execution_count": 9,
      "outputs": [
        {
          "output_type": "stream",
          "name": "stdout",
          "text": [
            "Found 4274 files belonging to 22 classes.\n"
          ]
        }
      ]
    },
    {
      "cell_type": "code",
      "source": [
        "test_ds = keras.utils.image_dataset_from_directory(\n",
        "    directory='/content/plant-leaves-for-image-classification/Plants_2/test',\n",
        "    labels = 'inferred',\n",
        "    label_mode = 'categorical',\n",
        "    image_size = (256,256)\n",
        "    )"
      ],
      "metadata": {
        "colab": {
          "base_uri": "https://localhost:8080/"
        },
        "id": "DXw9daiHxwpq",
        "outputId": "652f93a9-1470-4c60-88b7-7bfe12535f50"
      },
      "execution_count": 10,
      "outputs": [
        {
          "output_type": "stream",
          "name": "stdout",
          "text": [
            "Found 110 files belonging to 22 classes.\n"
          ]
        }
      ]
    },
    {
      "cell_type": "code",
      "source": [
        "validation_ds = keras.utils.image_dataset_from_directory(\n",
        "    directory='/content/plant-leaves-for-image-classification/Plants_2/valid',\n",
        "    labels = 'inferred',\n",
        "    label_mode = 'categorical',\n",
        "    image_size = (256,256)\n",
        "    )"
      ],
      "metadata": {
        "colab": {
          "base_uri": "https://localhost:8080/"
        },
        "id": "DGANvpmF1QGU",
        "outputId": "8aaa13ae-275e-407b-ab5a-fd355dd289ba"
      },
      "execution_count": 11,
      "outputs": [
        {
          "output_type": "stream",
          "name": "stdout",
          "text": [
            "Found 110 files belonging to 22 classes.\n"
          ]
        }
      ]
    },
    {
      "cell_type": "code",
      "source": [
        "train_ds"
      ],
      "metadata": {
        "colab": {
          "base_uri": "https://localhost:8080/"
        },
        "id": "F1b6gSREK9My",
        "outputId": "ba6aa964-cea7-4d2d-e9d9-9b8d47dcd0e0"
      },
      "execution_count": 12,
      "outputs": [
        {
          "output_type": "execute_result",
          "data": {
            "text/plain": [
              "<BatchDataset element_spec=(TensorSpec(shape=(None, 256, 256, 3), dtype=tf.float32, name=None), TensorSpec(shape=(None, 22), dtype=tf.float32, name=None))>"
            ]
          },
          "metadata": {},
          "execution_count": 12
        }
      ]
    },
    {
      "cell_type": "markdown",
      "source": [
        "#Create a base CNN Model"
      ],
      "metadata": {
        "id": "46M1Mclc5P3j"
      }
    },
    {
      "cell_type": "code",
      "source": [
        "#get the feature images and labels needed for model creation\n",
        "# features, labels = next(iter(train_ds))"
      ],
      "metadata": {
        "id": "_A7JtFHGZBGi"
      },
      "execution_count": 13,
      "outputs": []
    },
    {
      "cell_type": "code",
      "source": [
        "base_model1 = Sequential()\n",
        "# define 3x3 filter window sizes. Create 32 filters.\n",
        "base_model1.add(Conv2D(filters=32,\n",
        "                        kernel_size=(3, 3), strides = (2,2),\n",
        "                        activation='relu',\n",
        "                        input_shape=(256, 256, 3)))\n",
        "\n",
        "# max pool in 2x2 window\n",
        "base_model1.add(MaxPooling2D(pool_size=(4, 4)))\n",
        "# define 3x3 filter window sizes. Create 64 filters.\n",
        "base_model1.add(Conv2D(64, (3, 3), activation='relu'))\n",
        "base_model1.add(MaxPooling2D((2, 2)))\n",
        "base_model1.add(Conv2D(128, (3, 3), activation='relu'))\n",
        "base_model1.add(MaxPooling2D((2, 2)))\n",
        "base_model1.add(Conv2D(256, (3, 3), activation='relu'))\n",
        "\n",
        "# transition to dense fully-connected part of network\n",
        "base_model1.add(Flatten())\n",
        "base_model1.add(Dense(64, activation='relu'))\n",
        "base_model1.add(Dense(22, activation='softmax'))"
      ],
      "metadata": {
        "id": "IueRCtd42d1B"
      },
      "execution_count": 14,
      "outputs": []
    },
    {
      "cell_type": "code",
      "source": [
        "base_model1.compile(optimizer='Adam', loss='categorical_crossentropy',  metrics=['accuracy'])"
      ],
      "metadata": {
        "id": "7yWIF4k75X85"
      },
      "execution_count": 15,
      "outputs": []
    },
    {
      "cell_type": "code",
      "source": [
        "history_cnn = base_model1.fit(train_ds, epochs= 20, validation_data= validation_ds)"
      ],
      "metadata": {
        "colab": {
          "base_uri": "https://localhost:8080/"
        },
        "id": "bBUiNhCl5qbB",
        "outputId": "a7b34b6e-a6c0-4475-f635-952e29a3cc2b"
      },
      "execution_count": 17,
      "outputs": [
        {
          "output_type": "stream",
          "name": "stdout",
          "text": [
            "Epoch 1/20\n",
            "134/134 [==============================] - 45s 310ms/step - loss: 3.3368 - accuracy: 0.1888 - val_loss: 2.9039 - val_accuracy: 0.1818\n",
            "Epoch 2/20\n",
            "134/134 [==============================] - 44s 310ms/step - loss: 1.7997 - accuracy: 0.4410 - val_loss: 1.8298 - val_accuracy: 0.4636\n",
            "Epoch 3/20\n",
            "134/134 [==============================] - 44s 307ms/step - loss: 1.3279 - accuracy: 0.5709 - val_loss: 1.5025 - val_accuracy: 0.5364\n",
            "Epoch 4/20\n",
            "134/134 [==============================] - 44s 310ms/step - loss: 0.9346 - accuracy: 0.7066 - val_loss: 1.1771 - val_accuracy: 0.6455\n",
            "Epoch 5/20\n",
            "134/134 [==============================] - 46s 313ms/step - loss: 0.7633 - accuracy: 0.7564 - val_loss: 1.4409 - val_accuracy: 0.5818\n",
            "Epoch 6/20\n",
            "134/134 [==============================] - 44s 309ms/step - loss: 0.6248 - accuracy: 0.7906 - val_loss: 1.6294 - val_accuracy: 0.6000\n",
            "Epoch 7/20\n",
            "134/134 [==============================] - 44s 309ms/step - loss: 0.5017 - accuracy: 0.8360 - val_loss: 1.3745 - val_accuracy: 0.6818\n",
            "Epoch 8/20\n",
            "134/134 [==============================] - 44s 311ms/step - loss: 0.4352 - accuracy: 0.8545 - val_loss: 1.4375 - val_accuracy: 0.6455\n",
            "Epoch 9/20\n",
            "134/134 [==============================] - 44s 310ms/step - loss: 0.3333 - accuracy: 0.8889 - val_loss: 1.6548 - val_accuracy: 0.6727\n",
            "Epoch 10/20\n",
            "134/134 [==============================] - 44s 308ms/step - loss: 0.2758 - accuracy: 0.9062 - val_loss: 2.3237 - val_accuracy: 0.6364\n",
            "Epoch 11/20\n",
            "134/134 [==============================] - 44s 309ms/step - loss: 0.2157 - accuracy: 0.9289 - val_loss: 1.6945 - val_accuracy: 0.6727\n",
            "Epoch 12/20\n",
            "134/134 [==============================] - 44s 307ms/step - loss: 0.2249 - accuracy: 0.9261 - val_loss: 1.5633 - val_accuracy: 0.6545\n",
            "Epoch 13/20\n",
            "134/134 [==============================] - 44s 307ms/step - loss: 0.1789 - accuracy: 0.9366 - val_loss: 2.3470 - val_accuracy: 0.6545\n",
            "Epoch 14/20\n",
            "134/134 [==============================] - 44s 310ms/step - loss: 0.1791 - accuracy: 0.9410 - val_loss: 1.5434 - val_accuracy: 0.6909\n",
            "Epoch 15/20\n",
            "134/134 [==============================] - 44s 308ms/step - loss: 0.1697 - accuracy: 0.9445 - val_loss: 1.0463 - val_accuracy: 0.7909\n",
            "Epoch 16/20\n",
            "134/134 [==============================] - 44s 309ms/step - loss: 0.1443 - accuracy: 0.9544 - val_loss: 1.8016 - val_accuracy: 0.6364\n",
            "Epoch 17/20\n",
            "134/134 [==============================] - 44s 310ms/step - loss: 0.1357 - accuracy: 0.9525 - val_loss: 1.6707 - val_accuracy: 0.7545\n",
            "Epoch 18/20\n",
            "134/134 [==============================] - 44s 311ms/step - loss: 0.0926 - accuracy: 0.9686 - val_loss: 2.0191 - val_accuracy: 0.7091\n",
            "Epoch 19/20\n",
            "134/134 [==============================] - 44s 312ms/step - loss: 0.0898 - accuracy: 0.9696 - val_loss: 2.3936 - val_accuracy: 0.7000\n",
            "Epoch 20/20\n",
            "134/134 [==============================] - 44s 309ms/step - loss: 0.1623 - accuracy: 0.9453 - val_loss: 1.5644 - val_accuracy: 0.8000\n"
          ]
        }
      ]
    },
    {
      "cell_type": "code",
      "source": [
        "train_cnn_history = pd.DataFrame(history_cnn.history)\n",
        "train_cnn_history.index.name = 'epochs'\n",
        "\n",
        "col_list = ['loss', 'val_loss']\n",
        "train_cnn_history[col_list].plot()\n",
        "plt.ylabel('Categorical cross entropy')\n",
        "plt.title('Training loss history')\n",
        "plt.show()"
      ],
      "metadata": {
        "colab": {
          "base_uri": "https://localhost:8080/",
          "height": 295
        },
        "id": "Aitj47MV-Ew6",
        "outputId": "82364a79-f7bc-43e2-cd5e-1f4a305f4efe"
      },
      "execution_count": 41,
      "outputs": [
        {
          "output_type": "display_data",
          "data": {
            "text/plain": [
              "<Figure size 432x288 with 1 Axes>"
            ],
            "image/png": "[encoded data removed]"
          },
          "metadata": {
            "needs_background": "light"
          }
        }
      ]
    },
    {
      "cell_type": "code",
      "source": [
        "col_list = ['accuracy', 'val_accuracy']\n",
        "train_cnn_history[col_list].plot()\n",
        "plt.ylabel('Accuracy')\n",
        "plt.title('Training loss history')\n",
        "plt.show()"
      ],
      "metadata": {
        "colab": {
          "base_uri": "https://localhost:8080/",
          "height": 295
        },
        "id": "WkmJcsc_PjLQ",
        "outputId": "c7ebbf87-f979-4911-fa71-90a7ddbf1549"
      },
      "execution_count": 42,
      "outputs": [
        {
          "output_type": "display_data",
          "data": {
            "text/plain": [
              "<Figure size 432x288 with 1 Axes>"
            ],
            "image/png": "[encoded data removed]"
          },
          "metadata": {
            "needs_background": "light"
          }
        }
      ]
    },
    {
      "cell_type": "code",
      "source": [
        "base_model1.save('BaseModel.h5')"
      ],
      "metadata": {
        "id": "wNrhgLaO-c3Y"
      },
      "execution_count": null,
      "outputs": []
    },
    {
      "cell_type": "markdown",
      "source": [
        "#Building in a simpler base model because of over fitting "
      ],
      "metadata": {
        "id": "yF6dlxz_mcia"
      }
    },
    {
      "cell_type": "code",
      "source": [
        "base_model2 = Sequential()\n",
        "# define 3x3 filter window sizes. Create 32 filters.\n",
        "base_model2.add(Conv2D(filters=32,\n",
        "                        kernel_size=(3, 3), strides = (2,2),\n",
        "                        activation='relu',\n",
        "                        input_shape=(256, 256, 3)))\n",
        "\n",
        "# max pool in 2x2 window\n",
        "# define 3x3 filter window sizes. Create 32 filters.\n",
        "base_model2.add(MaxPooling2D((2, 2)))\n",
        "base_model2.add(Conv2D(32, (3, 3), activation='relu'))\n",
        "\n",
        "base_model2.add(MaxPooling2D((2, 2)))\n",
        "base_model2.add(Conv2D(32, (3, 3), activation='relu'))\n",
        "\n",
        "# transition to dense fully-connected part of network\n",
        "base_model2.add(Flatten())\n",
        "base_model2.add(Dense(32, activation='relu'))\n",
        "base_model2.add(Dense(22, activation='softmax'))"
      ],
      "metadata": {
        "id": "JonLGT9AmSnJ"
      },
      "execution_count": 24,
      "outputs": []
    },
    {
      "cell_type": "code",
      "source": [
        "base_model2.compile(optimizer='Adam', loss='categorical_crossentropy',  metrics=['accuracy'])"
      ],
      "metadata": {
        "id": "deDRtXJMmSre"
      },
      "execution_count": 25,
      "outputs": []
    },
    {
      "cell_type": "code",
      "source": [
        "history_cnn = base_model2.fit(train_ds, epochs= 20, validation_data= validation_ds)"
      ],
      "metadata": {
        "colab": {
          "base_uri": "https://localhost:8080/"
        },
        "id": "zNSMtxBimSvZ",
        "outputId": "75721352-4d79-4ce6-8aad-345992e18666"
      },
      "execution_count": 26,
      "outputs": [
        {
          "output_type": "stream",
          "name": "stdout",
          "text": [
            "Epoch 1/20\n",
            "134/134 [==============================] - 46s 319ms/step - loss: 4.9845 - accuracy: 0.1998 - val_loss: 2.6297 - val_accuracy: 0.1545\n",
            "Epoch 2/20\n",
            "134/134 [==============================] - 46s 322ms/step - loss: 1.8931 - accuracy: 0.4389 - val_loss: 2.2485 - val_accuracy: 0.3091\n",
            "Epoch 3/20\n",
            "134/134 [==============================] - 46s 324ms/step - loss: 1.2212 - accuracy: 0.6329 - val_loss: 2.3201 - val_accuracy: 0.3727\n",
            "Epoch 4/20\n",
            "134/134 [==============================] - 46s 322ms/step - loss: 0.7786 - accuracy: 0.7564 - val_loss: 2.6675 - val_accuracy: 0.4364\n",
            "Epoch 5/20\n",
            "134/134 [==============================] - 46s 322ms/step - loss: 0.4629 - accuracy: 0.8561 - val_loss: 2.6378 - val_accuracy: 0.4727\n",
            "Epoch 6/20\n",
            "134/134 [==============================] - 46s 324ms/step - loss: 0.2936 - accuracy: 0.9118 - val_loss: 3.1537 - val_accuracy: 0.4545\n",
            "Epoch 7/20\n",
            "134/134 [==============================] - 46s 325ms/step - loss: 0.2074 - accuracy: 0.9361 - val_loss: 3.7206 - val_accuracy: 0.3364\n",
            "Epoch 8/20\n",
            "134/134 [==============================] - 46s 323ms/step - loss: 0.2021 - accuracy: 0.9364 - val_loss: 3.8215 - val_accuracy: 0.4909\n",
            "Epoch 9/20\n",
            "134/134 [==============================] - 47s 325ms/step - loss: 0.1789 - accuracy: 0.9457 - val_loss: 4.1743 - val_accuracy: 0.4364\n",
            "Epoch 10/20\n",
            "134/134 [==============================] - 47s 328ms/step - loss: 0.1492 - accuracy: 0.9530 - val_loss: 3.9839 - val_accuracy: 0.4727\n",
            "Epoch 11/20\n",
            "134/134 [==============================] - 47s 327ms/step - loss: 0.1046 - accuracy: 0.9677 - val_loss: 4.2062 - val_accuracy: 0.5182\n",
            "Epoch 12/20\n",
            "134/134 [==============================] - 47s 327ms/step - loss: 0.1031 - accuracy: 0.9672 - val_loss: 5.4577 - val_accuracy: 0.4000\n",
            "Epoch 13/20\n",
            "134/134 [==============================] - 47s 326ms/step - loss: 0.1328 - accuracy: 0.9593 - val_loss: 4.5321 - val_accuracy: 0.3182\n",
            "Epoch 14/20\n",
            "134/134 [==============================] - 47s 324ms/step - loss: 0.1506 - accuracy: 0.9516 - val_loss: 4.1681 - val_accuracy: 0.3636\n",
            "Epoch 15/20\n",
            "134/134 [==============================] - 46s 325ms/step - loss: 0.0794 - accuracy: 0.9761 - val_loss: 5.4485 - val_accuracy: 0.4000\n",
            "Epoch 16/20\n",
            "134/134 [==============================] - 47s 327ms/step - loss: 0.0630 - accuracy: 0.9813 - val_loss: 5.9153 - val_accuracy: 0.3909\n",
            "Epoch 17/20\n",
            "134/134 [==============================] - 46s 323ms/step - loss: 0.0824 - accuracy: 0.9752 - val_loss: 6.0427 - val_accuracy: 0.3909\n",
            "Epoch 18/20\n",
            "134/134 [==============================] - 46s 321ms/step - loss: 0.0962 - accuracy: 0.9724 - val_loss: 4.7921 - val_accuracy: 0.4000\n",
            "Epoch 19/20\n",
            "134/134 [==============================] - 46s 325ms/step - loss: 0.1614 - accuracy: 0.9558 - val_loss: 4.8446 - val_accuracy: 0.3182\n",
            "Epoch 20/20\n",
            "134/134 [==============================] - 47s 327ms/step - loss: 0.1416 - accuracy: 0.9588 - val_loss: 5.3617 - val_accuracy: 0.4455\n"
          ]
        }
      ]
    },
    {
      "cell_type": "code",
      "source": [
        "train_cnn_history = pd.DataFrame(history_cnn.history)\n",
        "train_cnn_history.index.name = 'epochs'\n",
        "\n",
        "col_list = ['loss', 'val_loss']\n",
        "train_cnn_history[col_list].plot()\n",
        "plt.ylabel('Categorical cross entropy')\n",
        "plt.title('Training loss history')\n",
        "plt.show()"
      ],
      "metadata": {
        "colab": {
          "base_uri": "https://localhost:8080/",
          "height": 295
        },
        "id": "5J5oZ2OMmSy4",
        "outputId": "cef27e95-5f90-4d97-d210-14313cb6f9d3"
      },
      "execution_count": 27,
      "outputs": [
        {
          "output_type": "display_data",
          "data": {
            "text/plain": [
              "<Figure size 432x288 with 1 Axes>"
            ],
            "image/png": "[encoded data removed]"
          },
          "metadata": {
            "needs_background": "light"
          }
        }
      ]
    },
    {
      "cell_type": "code",
      "source": [
        "col_list = ['accuracy', 'val_accuracy']\n",
        "train_cnn_history[col_list].plot()\n",
        "plt.ylabel('Accuracy')\n",
        "plt.title('Training loss history')\n",
        "plt.show()"
      ],
      "metadata": {
        "colab": {
          "base_uri": "https://localhost:8080/",
          "height": 295
        },
        "id": "V3vp1r7DmS2Z",
        "outputId": "4d8ba802-dbc2-40ae-c28c-460ad882374c"
      },
      "execution_count": 28,
      "outputs": [
        {
          "output_type": "display_data",
          "data": {
            "text/plain": [
              "<Figure size 432x288 with 1 Axes>"
            ],
            "image/png": "[encoded data removed]"
          },
          "metadata": {
            "needs_background": "light"
          }
        }
      ]
    },
    {
      "cell_type": "markdown",
      "source": [
        "#Use regularizer techniques "
      ],
      "metadata": {
        "id": "EhsCw-nNueBZ"
      }
    },
    {
      "cell_type": "markdown",
      "source": [
        "L1 (Lasso Regression)"
      ],
      "metadata": {
        "id": "QF48ozizuG6N"
      }
    },
    {
      "cell_type": "code",
      "source": [
        "reg = L1(1e-5)"
      ],
      "metadata": {
        "id": "Ihi-QvZIuCmG"
      },
      "execution_count": 29,
      "outputs": []
    },
    {
      "cell_type": "code",
      "source": [
        "L1_model = Sequential()\n",
        "# define 3x3 filter window sizes. Create 32 filters.\n",
        "L1_model.add(Conv2D(filters=32,\n",
        "                        kernel_size=(3, 3), strides = (3,3),\n",
        "                        activation='relu',\n",
        "                        input_shape=(256, 256, 3)))\n",
        "\n",
        "# max pool in 2x2 window\n",
        "L1_model.add(BatchNormalization())\n",
        "L1_model.add(MaxPooling2D(pool_size=(4, 4)))\n",
        "L1_model.add(Conv2D(32, (3, 3), activation='relu', kernel_regularizer = reg))\n",
        "\n",
        "L1_model.add(BatchNormalization())\n",
        "L1_model.add(MaxPooling2D((2, 2)))\n",
        "L1_model.add(Conv2D(32, (3, 3), activation='relu', kernel_regularizer = reg))\n",
        "\n",
        "# transition to dense fully-connected part of network\n",
        "L1_model.add(Flatten())\n",
        "L1_model.add(Dense(64, activation='relu'))\n",
        "L1_model.add(Dropout(0.5)) \n",
        "L1_model.add(Dense(22, activation='softmax'))"
      ],
      "metadata": {
        "id": "tolOzjc_uCpt"
      },
      "execution_count": 35,
      "outputs": []
    },
    {
      "cell_type": "code",
      "source": [
        "opt = Adam(learning_rate=0.0001, beta_1=0.9, beta_2=0.999, epsilon=1e-05)\n",
        "L1_model.compile(optimizer=opt, loss='categorical_crossentropy',  metrics=['accuracy'])"
      ],
      "metadata": {
        "id": "8F25zKVbuCvf"
      },
      "execution_count": 36,
      "outputs": []
    },
    {
      "cell_type": "code",
      "source": [
        "history_cnn = L1_model.fit(train_ds, epochs= 50, validation_data= validation_ds)"
      ],
      "metadata": {
        "colab": {
          "base_uri": "https://localhost:8080/"
        },
        "id": "tfegnRNfuCyr",
        "outputId": "09479934-1cf1-4a1c-82c1-d07abecbdacb"
      },
      "execution_count": 37,
      "outputs": [
        {
          "output_type": "stream",
          "name": "stdout",
          "text": [
            "Epoch 1/50\n",
            "134/134 [==============================] - 47s 323ms/step - loss: 3.3062 - accuracy: 0.0849 - val_loss: 3.0378 - val_accuracy: 0.0636\n",
            "Epoch 2/50\n",
            "134/134 [==============================] - 46s 322ms/step - loss: 2.8612 - accuracy: 0.1362 - val_loss: 2.8732 - val_accuracy: 0.1545\n",
            "Epoch 3/50\n",
            "134/134 [==============================] - 46s 317ms/step - loss: 2.5986 - accuracy: 0.2103 - val_loss: 2.5790 - val_accuracy: 0.2182\n",
            "Epoch 4/50\n",
            "134/134 [==============================] - 47s 326ms/step - loss: 2.3583 - accuracy: 0.2733 - val_loss: 2.3389 - val_accuracy: 0.2636\n",
            "Epoch 5/50\n",
            "134/134 [==============================] - 47s 323ms/step - loss: 2.1419 - accuracy: 0.3435 - val_loss: 2.1326 - val_accuracy: 0.3091\n",
            "Epoch 6/50\n",
            "134/134 [==============================] - 47s 330ms/step - loss: 1.9437 - accuracy: 0.3994 - val_loss: 1.9770 - val_accuracy: 0.3545\n",
            "Epoch 7/50\n",
            "134/134 [==============================] - 48s 335ms/step - loss: 1.7551 - accuracy: 0.4593 - val_loss: 1.8498 - val_accuracy: 0.4273\n",
            "Epoch 8/50\n",
            "134/134 [==============================] - 45s 315ms/step - loss: 1.6057 - accuracy: 0.4944 - val_loss: 1.7139 - val_accuracy: 0.4545\n",
            "Epoch 9/50\n",
            "134/134 [==============================] - 45s 312ms/step - loss: 1.4698 - accuracy: 0.5360 - val_loss: 1.5288 - val_accuracy: 0.5545\n",
            "Epoch 10/50\n",
            "134/134 [==============================] - 46s 323ms/step - loss: 1.3455 - accuracy: 0.5812 - val_loss: 1.5743 - val_accuracy: 0.5364\n",
            "Epoch 11/50\n",
            "134/134 [==============================] - 47s 330ms/step - loss: 1.2791 - accuracy: 0.5976 - val_loss: 1.4755 - val_accuracy: 0.5545\n",
            "Epoch 12/50\n",
            "134/134 [==============================] - 47s 326ms/step - loss: 1.1842 - accuracy: 0.6252 - val_loss: 1.3976 - val_accuracy: 0.6182\n",
            "Epoch 13/50\n",
            "134/134 [==============================] - 47s 327ms/step - loss: 1.1252 - accuracy: 0.6509 - val_loss: 1.3901 - val_accuracy: 0.6000\n",
            "Epoch 14/50\n",
            "134/134 [==============================] - 45s 316ms/step - loss: 1.0569 - accuracy: 0.6657 - val_loss: 1.2983 - val_accuracy: 0.6364\n",
            "Epoch 15/50\n",
            "134/134 [==============================] - 48s 334ms/step - loss: 1.0137 - accuracy: 0.6893 - val_loss: 1.2778 - val_accuracy: 0.6364\n",
            "Epoch 16/50\n",
            "134/134 [==============================] - 44s 310ms/step - loss: 0.9271 - accuracy: 0.7087 - val_loss: 1.3202 - val_accuracy: 0.6455\n",
            "Epoch 17/50\n",
            "134/134 [==============================] - 45s 314ms/step - loss: 0.8809 - accuracy: 0.7270 - val_loss: 1.3282 - val_accuracy: 0.6273\n",
            "Epoch 18/50\n",
            "134/134 [==============================] - 46s 320ms/step - loss: 0.8586 - accuracy: 0.7321 - val_loss: 1.2912 - val_accuracy: 0.6364\n",
            "Epoch 19/50\n",
            "134/134 [==============================] - 47s 322ms/step - loss: 0.8191 - accuracy: 0.7398 - val_loss: 1.2864 - val_accuracy: 0.6636\n",
            "Epoch 20/50\n",
            "134/134 [==============================] - 45s 311ms/step - loss: 0.7617 - accuracy: 0.7553 - val_loss: 1.1846 - val_accuracy: 0.6818\n",
            "Epoch 21/50\n",
            "134/134 [==============================] - 45s 311ms/step - loss: 0.7152 - accuracy: 0.7726 - val_loss: 1.2268 - val_accuracy: 0.6455\n",
            "Epoch 22/50\n",
            "134/134 [==============================] - 49s 344ms/step - loss: 0.7242 - accuracy: 0.7700 - val_loss: 1.1772 - val_accuracy: 0.6818\n",
            "Epoch 23/50\n",
            "134/134 [==============================] - 45s 313ms/step - loss: 0.6696 - accuracy: 0.7890 - val_loss: 1.1804 - val_accuracy: 0.6818\n",
            "Epoch 24/50\n",
            "134/134 [==============================] - 46s 320ms/step - loss: 0.6608 - accuracy: 0.7908 - val_loss: 1.2798 - val_accuracy: 0.6636\n",
            "Epoch 25/50\n",
            "134/134 [==============================] - 45s 316ms/step - loss: 0.6480 - accuracy: 0.7871 - val_loss: 1.1848 - val_accuracy: 0.7000\n",
            "Epoch 26/50\n",
            "134/134 [==============================] - 44s 307ms/step - loss: 0.6185 - accuracy: 0.8070 - val_loss: 1.2791 - val_accuracy: 0.6364\n",
            "Epoch 27/50\n",
            "134/134 [==============================] - 46s 323ms/step - loss: 0.5918 - accuracy: 0.8121 - val_loss: 1.1634 - val_accuracy: 0.6727\n",
            "Epoch 28/50\n",
            "134/134 [==============================] - 45s 311ms/step - loss: 0.5703 - accuracy: 0.8205 - val_loss: 1.2564 - val_accuracy: 0.6909\n",
            "Epoch 29/50\n",
            "134/134 [==============================] - 45s 313ms/step - loss: 0.5423 - accuracy: 0.8252 - val_loss: 1.2222 - val_accuracy: 0.7091\n",
            "Epoch 30/50\n",
            "134/134 [==============================] - 46s 317ms/step - loss: 0.5184 - accuracy: 0.8355 - val_loss: 1.2363 - val_accuracy: 0.6455\n",
            "Epoch 31/50\n",
            "134/134 [==============================] - 45s 313ms/step - loss: 0.5051 - accuracy: 0.8358 - val_loss: 1.2773 - val_accuracy: 0.6909\n",
            "Epoch 32/50\n",
            "134/134 [==============================] - 45s 314ms/step - loss: 0.4750 - accuracy: 0.8432 - val_loss: 1.1889 - val_accuracy: 0.7273\n",
            "Epoch 33/50\n",
            "134/134 [==============================] - 45s 313ms/step - loss: 0.4770 - accuracy: 0.8498 - val_loss: 1.1750 - val_accuracy: 0.7273\n",
            "Epoch 34/50\n",
            "134/134 [==============================] - 46s 317ms/step - loss: 0.4531 - accuracy: 0.8568 - val_loss: 1.1487 - val_accuracy: 0.7091\n",
            "Epoch 35/50\n",
            "134/134 [==============================] - 46s 316ms/step - loss: 0.4359 - accuracy: 0.8610 - val_loss: 1.1732 - val_accuracy: 0.7273\n",
            "Epoch 36/50\n",
            "134/134 [==============================] - 46s 317ms/step - loss: 0.4418 - accuracy: 0.8620 - val_loss: 1.2064 - val_accuracy: 0.6909\n",
            "Epoch 37/50\n",
            "134/134 [==============================] - 47s 324ms/step - loss: 0.4222 - accuracy: 0.8615 - val_loss: 1.3411 - val_accuracy: 0.6455\n",
            "Epoch 38/50\n",
            "134/134 [==============================] - 45s 312ms/step - loss: 0.3918 - accuracy: 0.8730 - val_loss: 1.1435 - val_accuracy: 0.7273\n",
            "Epoch 39/50\n",
            "134/134 [==============================] - 44s 309ms/step - loss: 0.3997 - accuracy: 0.8699 - val_loss: 1.3040 - val_accuracy: 0.7000\n",
            "Epoch 40/50\n",
            "134/134 [==============================] - 46s 318ms/step - loss: 0.4011 - accuracy: 0.8694 - val_loss: 1.3115 - val_accuracy: 0.6909\n",
            "Epoch 41/50\n",
            "134/134 [==============================] - 46s 316ms/step - loss: 0.3821 - accuracy: 0.8769 - val_loss: 1.2760 - val_accuracy: 0.6909\n",
            "Epoch 42/50\n",
            "134/134 [==============================] - 44s 309ms/step - loss: 0.3636 - accuracy: 0.8835 - val_loss: 1.3356 - val_accuracy: 0.6909\n",
            "Epoch 43/50\n",
            "134/134 [==============================] - 45s 314ms/step - loss: 0.3571 - accuracy: 0.8842 - val_loss: 1.4559 - val_accuracy: 0.6727\n",
            "Epoch 44/50\n",
            "134/134 [==============================] - 45s 313ms/step - loss: 0.3579 - accuracy: 0.8825 - val_loss: 1.3052 - val_accuracy: 0.6909\n",
            "Epoch 45/50\n",
            "134/134 [==============================] - 45s 314ms/step - loss: 0.3381 - accuracy: 0.8889 - val_loss: 1.2796 - val_accuracy: 0.7182\n",
            "Epoch 46/50\n",
            "134/134 [==============================] - 45s 313ms/step - loss: 0.3323 - accuracy: 0.8935 - val_loss: 1.2856 - val_accuracy: 0.7182\n",
            "Epoch 47/50\n",
            "134/134 [==============================] - 44s 307ms/step - loss: 0.3141 - accuracy: 0.8975 - val_loss: 1.3877 - val_accuracy: 0.7000\n",
            "Epoch 48/50\n",
            "134/134 [==============================] - 45s 312ms/step - loss: 0.3105 - accuracy: 0.8964 - val_loss: 1.2583 - val_accuracy: 0.7182\n",
            "Epoch 49/50\n",
            "134/134 [==============================] - 45s 316ms/step - loss: 0.2974 - accuracy: 0.9052 - val_loss: 1.2776 - val_accuracy: 0.6818\n",
            "Epoch 50/50\n",
            "134/134 [==============================] - 45s 312ms/step - loss: 0.2979 - accuracy: 0.9020 - val_loss: 1.3127 - val_accuracy: 0.7182\n"
          ]
        }
      ]
    },
    {
      "cell_type": "code",
      "source": [
        "train_cnn_history = pd.DataFrame(history_cnn.history)\n",
        "train_cnn_history.index.name = 'epochs'\n",
        "\n",
        "col_list = ['loss', 'val_loss']\n",
        "train_cnn_history[col_list].plot()\n",
        "plt.ylabel('Categorical cross entropy')\n",
        "plt.title('Training loss history')\n",
        "plt.show()"
      ],
      "metadata": {
        "colab": {
          "base_uri": "https://localhost:8080/",
          "height": 295
        },
        "id": "vehsogSEvJFs",
        "outputId": "f09d2adc-2e99-43f4-b1e1-a6b1e939b388"
      },
      "execution_count": 38,
      "outputs": [
        {
          "output_type": "display_data",
          "data": {
            "text/plain": [
              "<Figure size 432x288 with 1 Axes>"
            ],
            "image/png": "[encoded data removed]"
          },
          "metadata": {
            "needs_background": "light"
          }
        }
      ]
    },
    {
      "cell_type": "code",
      "source": [
        "col_list = ['accuracy', 'val_accuracy']\n",
        "train_cnn_history[col_list].plot()\n",
        "plt.ylabel('Accuracy')\n",
        "plt.title('Training loss history')\n",
        "plt.show()"
      ],
      "metadata": {
        "colab": {
          "base_uri": "https://localhost:8080/",
          "height": 295
        },
        "id": "s0m9bbpfvJIb",
        "outputId": "83198f88-75a0-408b-b337-979e6004468e"
      },
      "execution_count": 39,
      "outputs": [
        {
          "output_type": "display_data",
          "data": {
            "text/plain": [
              "<Figure size 432x288 with 1 Axes>"
            ],
            "image/png": "[encoded data removed]"
          },
          "metadata": {
            "needs_background": "light"
          }
        }
      ]
    },
    {
      "cell_type": "markdown",
      "source": [
        "#Add data augmentation to further enchance model capabilities"
      ],
      "metadata": {
        "id": "e6Fce9u9txYq"
      }
    },
    {
      "cell_type": "markdown",
      "source": [
        "L1 (Lasso Regression) + Data Augmentation"
      ],
      "metadata": {
        "id": "2KuLCaTIt84v"
      }
    },
    {
      "cell_type": "code",
      "source": [
        "reg = L1(3e-5)"
      ],
      "metadata": {
        "id": "TXlgFW-ztxnm"
      },
      "execution_count": 95,
      "outputs": []
    },
    {
      "cell_type": "code",
      "source": [
        "data_augmentation = tf.keras.Sequential([\n",
        "  layers.RandomFlip(\"horizontal_and_vertical\"),\n",
        "  layers.RandomRotation(0.5),\n",
        "])"
      ],
      "metadata": {
        "id": "wZrTO8Qrvnlq"
      },
      "execution_count": 96,
      "outputs": []
    },
    {
      "cell_type": "code",
      "source": [
        "L1_model2 = Sequential()\n",
        "# define 3x3 filter window sizes. Create 32 filters.\n",
        "L1_model2.add(Conv2D(filters=32, kernel_size=(3, 3), strides = (2,2),\n",
        "                     activation='relu', input_shape=(256, 256, 3),\n",
        "                     kernel_regularizer = reg))\n",
        "\n",
        "# max pool in 2x2 window\n",
        "L1_model2.add(BatchNormalization())\n",
        "L1_model2.add(MaxPooling2D(pool_size=(4, 4)))\n",
        "data_augmentation\n",
        "L1_model2.add(Conv2D(32, (3, 3), activation='relu', kernel_regularizer = reg))\n",
        "\n",
        "L1_model2.add(BatchNormalization())\n",
        "L1_model2.add(MaxPooling2D((2, 2)))\n",
        "data_augmentation\n",
        "L1_model2.add(Conv2D(32, (3, 3), activation='relu', kernel_regularizer = reg))\n",
        "\n",
        "L1_model2.add(BatchNormalization())\n",
        "L1_model2.add(MaxPooling2D((2, 2)))\n",
        "data_augmentation\n",
        "L1_model2.add(Conv2D(32, (3, 3), activation='relu', kernel_regularizer = reg))\n",
        "\n",
        "# transition to dense fully-connected part of network\n",
        "L1_model2.add(Flatten())\n",
        "L1_model2.add(Dense(64, activation='relu'))\n",
        "L1_model2.add(Dropout(0.6)) \n",
        "L1_model2.add(Dense(22, activation='softmax'))"
      ],
      "metadata": {
        "id": "n_34WvQPuGAD"
      },
      "execution_count": 97,
      "outputs": []
    },
    {
      "cell_type": "code",
      "source": [
        "opt = Adam(learning_rate=0.0001, beta_1=0.9, beta_2=0.999, epsilon=1e-05)\n",
        "L1_model2.compile(optimizer=opt, loss='categorical_crossentropy',  metrics=['accuracy'])"
      ],
      "metadata": {
        "id": "wyzb9dlWuGDD"
      },
      "execution_count": 98,
      "outputs": []
    },
    {
      "cell_type": "code",
      "source": [
        "history_cnn = L1_model2.fit(train_ds, epochs= 50, validation_data= validation_ds)"
      ],
      "metadata": {
        "colab": {
          "base_uri": "https://localhost:8080/",
          "height": 1000
        },
        "id": "pmEK4yo_txqJ",
        "outputId": "c654cca1-d802-4084-e0e9-617153909650"
      },
      "execution_count": 99,
      "outputs": [
        {
          "output_type": "stream",
          "name": "stdout",
          "text": [
            "Epoch 1/50\n",
            "134/134 [==============================] - 52s 353ms/step - loss: 3.2714 - accuracy: 0.0824 - val_loss: 3.0949 - val_accuracy: 0.0818\n",
            "Epoch 2/50\n",
            "134/134 [==============================] - 50s 348ms/step - loss: 2.8173 - accuracy: 0.1785 - val_loss: 2.8309 - val_accuracy: 0.1091\n",
            "Epoch 3/50\n",
            "134/134 [==============================] - 49s 346ms/step - loss: 2.4908 - accuracy: 0.2482 - val_loss: 2.4781 - val_accuracy: 0.2000\n",
            "Epoch 4/50\n",
            "134/134 [==============================] - 50s 348ms/step - loss: 2.1856 - accuracy: 0.3397 - val_loss: 2.1544 - val_accuracy: 0.3182\n",
            "Epoch 5/50\n",
            "134/134 [==============================] - 51s 354ms/step - loss: 1.9435 - accuracy: 0.4216 - val_loss: 1.9827 - val_accuracy: 0.3636\n",
            "Epoch 6/50\n",
            "134/134 [==============================] - 50s 346ms/step - loss: 1.7656 - accuracy: 0.4696 - val_loss: 1.7787 - val_accuracy: 0.4364\n",
            "Epoch 7/50\n",
            "134/134 [==============================] - 50s 349ms/step - loss: 1.6226 - accuracy: 0.5042 - val_loss: 1.6368 - val_accuracy: 0.4545\n",
            "Epoch 8/50\n",
            "134/134 [==============================] - 50s 350ms/step - loss: 1.4982 - accuracy: 0.5393 - val_loss: 1.5763 - val_accuracy: 0.5000\n",
            "Epoch 9/50\n",
            "134/134 [==============================] - 50s 349ms/step - loss: 1.3988 - accuracy: 0.5648 - val_loss: 1.4499 - val_accuracy: 0.5091\n",
            "Epoch 10/50\n",
            "134/134 [==============================] - 50s 347ms/step - loss: 1.2953 - accuracy: 0.5957 - val_loss: 1.3748 - val_accuracy: 0.5636\n",
            "Epoch 11/50\n",
            "134/134 [==============================] - 50s 346ms/step - loss: 1.2244 - accuracy: 0.6158 - val_loss: 1.3281 - val_accuracy: 0.5545\n",
            "Epoch 12/50\n",
            "134/134 [==============================] - 50s 350ms/step - loss: 1.1597 - accuracy: 0.6416 - val_loss: 1.2236 - val_accuracy: 0.6000\n",
            "Epoch 13/50\n",
            "134/134 [==============================] - 50s 348ms/step - loss: 1.0607 - accuracy: 0.6671 - val_loss: 1.2305 - val_accuracy: 0.5636\n",
            "Epoch 14/50\n",
            "134/134 [==============================] - 50s 351ms/step - loss: 1.0163 - accuracy: 0.6855 - val_loss: 1.2076 - val_accuracy: 0.5909\n",
            "Epoch 15/50\n",
            "134/134 [==============================] - 50s 351ms/step - loss: 0.9682 - accuracy: 0.6930 - val_loss: 1.1841 - val_accuracy: 0.5909\n",
            "Epoch 16/50\n",
            "134/134 [==============================] - 51s 354ms/step - loss: 0.9380 - accuracy: 0.7005 - val_loss: 1.3136 - val_accuracy: 0.6091\n",
            "Epoch 17/50\n",
            "134/134 [==============================] - 51s 354ms/step - loss: 0.8853 - accuracy: 0.7197 - val_loss: 1.0745 - val_accuracy: 0.6091\n",
            "Epoch 18/50\n",
            "134/134 [==============================] - 50s 352ms/step - loss: 0.8615 - accuracy: 0.7270 - val_loss: 1.1605 - val_accuracy: 0.6273\n",
            "Epoch 19/50\n",
            "134/134 [==============================] - 51s 355ms/step - loss: 0.8184 - accuracy: 0.7384 - val_loss: 1.1348 - val_accuracy: 0.6364\n",
            "Epoch 20/50\n",
            "134/134 [==============================] - 60s 428ms/step - loss: 0.7951 - accuracy: 0.7492 - val_loss: 1.0080 - val_accuracy: 0.6545\n",
            "Epoch 21/50\n",
            "134/134 [==============================] - 50s 349ms/step - loss: 0.7447 - accuracy: 0.7642 - val_loss: 1.0129 - val_accuracy: 0.6273\n",
            "Epoch 22/50\n",
            "134/134 [==============================] - 50s 348ms/step - loss: 0.7348 - accuracy: 0.7635 - val_loss: 0.9483 - val_accuracy: 0.6818\n",
            "Epoch 23/50\n",
            "134/134 [==============================] - 50s 349ms/step - loss: 0.6788 - accuracy: 0.7864 - val_loss: 1.0189 - val_accuracy: 0.6818\n",
            "Epoch 24/50\n",
            "134/134 [==============================] - 49s 346ms/step - loss: 0.6572 - accuracy: 0.7847 - val_loss: 0.9584 - val_accuracy: 0.7000\n",
            "Epoch 25/50\n",
            "134/134 [==============================] - 50s 346ms/step - loss: 0.6264 - accuracy: 0.8032 - val_loss: 1.0768 - val_accuracy: 0.6636\n",
            "Epoch 26/50\n",
            "134/134 [==============================] - 51s 351ms/step - loss: 0.6080 - accuracy: 0.8086 - val_loss: 1.1045 - val_accuracy: 0.6909\n",
            "Epoch 27/50\n",
            "134/134 [==============================] - 50s 347ms/step - loss: 0.6229 - accuracy: 0.8072 - val_loss: 0.9645 - val_accuracy: 0.7000\n",
            "Epoch 28/50\n",
            "134/134 [==============================] - 50s 346ms/step - loss: 0.5676 - accuracy: 0.8077 - val_loss: 0.9685 - val_accuracy: 0.6818\n",
            "Epoch 29/50\n",
            "134/134 [==============================] - 50s 348ms/step - loss: 0.5548 - accuracy: 0.8245 - val_loss: 0.9266 - val_accuracy: 0.7000\n",
            "Epoch 30/50\n",
            "134/134 [==============================] - 50s 346ms/step - loss: 0.5421 - accuracy: 0.8196 - val_loss: 0.9652 - val_accuracy: 0.6545\n",
            "Epoch 31/50\n",
            "134/134 [==============================] - 50s 348ms/step - loss: 0.5310 - accuracy: 0.8252 - val_loss: 0.9448 - val_accuracy: 0.7000\n",
            "Epoch 32/50\n",
            "134/134 [==============================] - 50s 347ms/step - loss: 0.5103 - accuracy: 0.8327 - val_loss: 0.9815 - val_accuracy: 0.6727\n",
            "Epoch 33/50\n",
            "134/134 [==============================] - 50s 349ms/step - loss: 0.4928 - accuracy: 0.8442 - val_loss: 0.9710 - val_accuracy: 0.6909\n",
            "Epoch 34/50\n",
            "134/134 [==============================] - 50s 348ms/step - loss: 0.4954 - accuracy: 0.8411 - val_loss: 0.9782 - val_accuracy: 0.6909\n",
            "Epoch 35/50\n",
            "  9/134 [=>............................] - ETA: 43s - loss: 0.4249 - accuracy: 0.8611"
          ]
        },
        {
          "output_type": "error",
          "ename": "KeyboardInterrupt",
          "evalue": "ignored",
          "traceback": [
            "\u001b[0;31m---------------------------------------------------------------------------\u001b[0m",
            "\u001b[0;31mKeyboardInterrupt\u001b[0m                         Traceback (most recent call last)",
            "\u001b[0;32m<ipython-input-99-0ebfc1c5d4d7>\u001b[0m in \u001b[0;36m<module>\u001b[0;34m\u001b[0m\n\u001b[0;32m----> 1\u001b[0;31m \u001b[0mhistory_cnn\u001b[0m \u001b[0;34m=\u001b[0m \u001b[0mL1_model2\u001b[0m\u001b[0;34m.\u001b[0m\u001b[0mfit\u001b[0m\u001b[0;34m(\u001b[0m\u001b[0mtrain_ds\u001b[0m\u001b[0;34m,\u001b[0m \u001b[0mepochs\u001b[0m\u001b[0;34m=\u001b[0m \u001b[0;36m50\u001b[0m\u001b[0;34m,\u001b[0m \u001b[0mvalidation_data\u001b[0m\u001b[0;34m=\u001b[0m \u001b[0mvalidation_ds\u001b[0m\u001b[0;34m)\u001b[0m\u001b[0;34m\u001b[0m\u001b[0;34m\u001b[0m\u001b[0m\n\u001b[0m",
            "\u001b[0;32m/usr/local/lib/python3.8/dist-packages/keras/utils/traceback_utils.py\u001b[0m in \u001b[0;36merror_handler\u001b[0;34m(*args, **kwargs)\u001b[0m\n\u001b[1;32m     62\u001b[0m     \u001b[0mfiltered_tb\u001b[0m \u001b[0;34m=\u001b[0m \u001b[0;32mNone\u001b[0m\u001b[0;34m\u001b[0m\u001b[0;34m\u001b[0m\u001b[0m\n\u001b[1;32m     63\u001b[0m     \u001b[0;32mtry\u001b[0m\u001b[0;34m:\u001b[0m\u001b[0;34m\u001b[0m\u001b[0;34m\u001b[0m\u001b[0m\n\u001b[0;32m---> 64\u001b[0;31m       \u001b[0;32mreturn\u001b[0m \u001b[0mfn\u001b[0m\u001b[0;34m(\u001b[0m\u001b[0;34m*\u001b[0m\u001b[0margs\u001b[0m\u001b[0;34m,\u001b[0m \u001b[0;34m**\u001b[0m\u001b[0mkwargs\u001b[0m\u001b[0;34m)\u001b[0m\u001b[0;34m\u001b[0m\u001b[0;34m\u001b[0m\u001b[0m\n\u001b[0m\u001b[1;32m     65\u001b[0m     \u001b[0;32mexcept\u001b[0m \u001b[0mException\u001b[0m \u001b[0;32mas\u001b[0m \u001b[0me\u001b[0m\u001b[0;34m:\u001b[0m  \u001b[0;31m# pylint: disable=broad-except\u001b[0m\u001b[0;34m\u001b[0m\u001b[0;34m\u001b[0m\u001b[0m\n\u001b[1;32m     66\u001b[0m       \u001b[0mfiltered_tb\u001b[0m \u001b[0;34m=\u001b[0m \u001b[0m_process_traceback_frames\u001b[0m\u001b[0;34m(\u001b[0m\u001b[0me\u001b[0m\u001b[0;34m.\u001b[0m\u001b[0m__traceback__\u001b[0m\u001b[0;34m)\u001b[0m\u001b[0;34m\u001b[0m\u001b[0;34m\u001b[0m\u001b[0m\n",
            "\u001b[0;32m/usr/local/lib/python3.8/dist-packages/keras/engine/training.py\u001b[0m in \u001b[0;36mfit\u001b[0;34m(self, x, y, batch_size, epochs, verbose, callbacks, validation_split, validation_data, shuffle, class_weight, sample_weight, initial_epoch, steps_per_epoch, validation_steps, validation_batch_size, validation_freq, max_queue_size, workers, use_multiprocessing)\u001b[0m\n\u001b[1;32m   1407\u001b[0m                 _r=1):\n\u001b[1;32m   1408\u001b[0m               \u001b[0mcallbacks\u001b[0m\u001b[0;34m.\u001b[0m\u001b[0mon_train_batch_begin\u001b[0m\u001b[0;34m(\u001b[0m\u001b[0mstep\u001b[0m\u001b[0;34m)\u001b[0m\u001b[0;34m\u001b[0m\u001b[0;34m\u001b[0m\u001b[0m\n\u001b[0;32m-> 1409\u001b[0;31m               \u001b[0mtmp_logs\u001b[0m \u001b[0;34m=\u001b[0m \u001b[0mself\u001b[0m\u001b[0;34m.\u001b[0m\u001b[0mtrain_function\u001b[0m\u001b[0;34m(\u001b[0m\u001b[0miterator\u001b[0m\u001b[0;34m)\u001b[0m\u001b[0;34m\u001b[0m\u001b[0;34m\u001b[0m\u001b[0m\n\u001b[0m\u001b[1;32m   1410\u001b[0m               \u001b[0;32mif\u001b[0m \u001b[0mdata_handler\u001b[0m\u001b[0;34m.\u001b[0m\u001b[0mshould_sync\u001b[0m\u001b[0;34m:\u001b[0m\u001b[0;34m\u001b[0m\u001b[0;34m\u001b[0m\u001b[0m\n\u001b[1;32m   1411\u001b[0m                 \u001b[0mcontext\u001b[0m\u001b[0;34m.\u001b[0m\u001b[0masync_wait\u001b[0m\u001b[0;34m(\u001b[0m\u001b[0;34m)\u001b[0m\u001b[0;34m\u001b[0m\u001b[0;34m\u001b[0m\u001b[0m\n",
            "\u001b[0;32m/usr/local/lib/python3.8/dist-packages/tensorflow/python/util/traceback_utils.py\u001b[0m in \u001b[0;36merror_handler\u001b[0;34m(*args, **kwargs)\u001b[0m\n\u001b[1;32m    148\u001b[0m     \u001b[0mfiltered_tb\u001b[0m \u001b[0;34m=\u001b[0m \u001b[0;32mNone\u001b[0m\u001b[0;34m\u001b[0m\u001b[0;34m\u001b[0m\u001b[0m\n\u001b[1;32m    149\u001b[0m     \u001b[0;32mtry\u001b[0m\u001b[0;34m:\u001b[0m\u001b[0;34m\u001b[0m\u001b[0;34m\u001b[0m\u001b[0m\n\u001b[0;32m--> 150\u001b[0;31m       \u001b[0;32mreturn\u001b[0m \u001b[0mfn\u001b[0m\u001b[0;34m(\u001b[0m\u001b[0;34m*\u001b[0m\u001b[0margs\u001b[0m\u001b[0;34m,\u001b[0m \u001b[0;34m**\u001b[0m\u001b[0mkwargs\u001b[0m\u001b[0;34m)\u001b[0m\u001b[0;34m\u001b[0m\u001b[0;34m\u001b[0m\u001b[0m\n\u001b[0m\u001b[1;32m    151\u001b[0m     \u001b[0;32mexcept\u001b[0m \u001b[0mException\u001b[0m \u001b[0;32mas\u001b[0m \u001b[0me\u001b[0m\u001b[0;34m:\u001b[0m\u001b[0;34m\u001b[0m\u001b[0;34m\u001b[0m\u001b[0m\n\u001b[1;32m    152\u001b[0m       \u001b[0mfiltered_tb\u001b[0m \u001b[0;34m=\u001b[0m \u001b[0m_process_traceback_frames\u001b[0m\u001b[0;34m(\u001b[0m\u001b[0me\u001b[0m\u001b[0;34m.\u001b[0m\u001b[0m__traceback__\u001b[0m\u001b[0;34m)\u001b[0m\u001b[0;34m\u001b[0m\u001b[0;34m\u001b[0m\u001b[0m\n",
            "\u001b[0;32m/usr/local/lib/python3.8/dist-packages/tensorflow/python/eager/def_function.py\u001b[0m in \u001b[0;36m__call__\u001b[0;34m(self, *args, **kwds)\u001b[0m\n\u001b[1;32m    913\u001b[0m \u001b[0;34m\u001b[0m\u001b[0m\n\u001b[1;32m    914\u001b[0m       \u001b[0;32mwith\u001b[0m \u001b[0mOptionalXlaContext\u001b[0m\u001b[0;34m(\u001b[0m\u001b[0mself\u001b[0m\u001b[0;34m.\u001b[0m\u001b[0m_jit_compile\u001b[0m\u001b[0;34m)\u001b[0m\u001b[0;34m:\u001b[0m\u001b[0;34m\u001b[0m\u001b[0;34m\u001b[0m\u001b[0m\n\u001b[0;32m--> 915\u001b[0;31m         \u001b[0mresult\u001b[0m \u001b[0;34m=\u001b[0m \u001b[0mself\u001b[0m\u001b[0;34m.\u001b[0m\u001b[0m_call\u001b[0m\u001b[0;34m(\u001b[0m\u001b[0;34m*\u001b[0m\u001b[0margs\u001b[0m\u001b[0;34m,\u001b[0m \u001b[0;34m**\u001b[0m\u001b[0mkwds\u001b[0m\u001b[0;34m)\u001b[0m\u001b[0;34m\u001b[0m\u001b[0;34m\u001b[0m\u001b[0m\n\u001b[0m\u001b[1;32m    916\u001b[0m \u001b[0;34m\u001b[0m\u001b[0m\n\u001b[1;32m    917\u001b[0m       \u001b[0mnew_tracing_count\u001b[0m \u001b[0;34m=\u001b[0m \u001b[0mself\u001b[0m\u001b[0;34m.\u001b[0m\u001b[0mexperimental_get_tracing_count\u001b[0m\u001b[0;34m(\u001b[0m\u001b[0;34m)\u001b[0m\u001b[0;34m\u001b[0m\u001b[0;34m\u001b[0m\u001b[0m\n",
            "\u001b[0;32m/usr/local/lib/python3.8/dist-packages/tensorflow/python/eager/def_function.py\u001b[0m in \u001b[0;36m_call\u001b[0;34m(self, *args, **kwds)\u001b[0m\n\u001b[1;32m    945\u001b[0m       \u001b[0;31m# In this case we have created variables on the first call, so we run the\u001b[0m\u001b[0;34m\u001b[0m\u001b[0;34m\u001b[0m\u001b[0;34m\u001b[0m\u001b[0m\n\u001b[1;32m    946\u001b[0m       \u001b[0;31m# defunned version which is guaranteed to never create variables.\u001b[0m\u001b[0;34m\u001b[0m\u001b[0;34m\u001b[0m\u001b[0;34m\u001b[0m\u001b[0m\n\u001b[0;32m--> 947\u001b[0;31m       \u001b[0;32mreturn\u001b[0m \u001b[0mself\u001b[0m\u001b[0;34m.\u001b[0m\u001b[0m_stateless_fn\u001b[0m\u001b[0;34m(\u001b[0m\u001b[0;34m*\u001b[0m\u001b[0margs\u001b[0m\u001b[0;34m,\u001b[0m \u001b[0;34m**\u001b[0m\u001b[0mkwds\u001b[0m\u001b[0;34m)\u001b[0m  \u001b[0;31m# pylint: disable=not-callable\u001b[0m\u001b[0;34m\u001b[0m\u001b[0;34m\u001b[0m\u001b[0m\n\u001b[0m\u001b[1;32m    948\u001b[0m     \u001b[0;32melif\u001b[0m \u001b[0mself\u001b[0m\u001b[0;34m.\u001b[0m\u001b[0m_stateful_fn\u001b[0m \u001b[0;32mis\u001b[0m \u001b[0;32mnot\u001b[0m \u001b[0;32mNone\u001b[0m\u001b[0;34m:\u001b[0m\u001b[0;34m\u001b[0m\u001b[0;34m\u001b[0m\u001b[0m\n\u001b[1;32m    949\u001b[0m       \u001b[0;31m# Release the lock early so that multiple threads can perform the call\u001b[0m\u001b[0;34m\u001b[0m\u001b[0;34m\u001b[0m\u001b[0;34m\u001b[0m\u001b[0m\n",
            "\u001b[0;32m/usr/local/lib/python3.8/dist-packages/tensorflow/python/eager/function.py\u001b[0m in \u001b[0;36m__call__\u001b[0;34m(self, *args, **kwargs)\u001b[0m\n\u001b[1;32m   2451\u001b[0m       (graph_function,\n\u001b[1;32m   2452\u001b[0m        filtered_flat_args) = self._maybe_define_function(args, kwargs)\n\u001b[0;32m-> 2453\u001b[0;31m     return graph_function._call_flat(\n\u001b[0m\u001b[1;32m   2454\u001b[0m         filtered_flat_args, captured_inputs=graph_function.captured_inputs)  # pylint: disable=protected-access\n\u001b[1;32m   2455\u001b[0m \u001b[0;34m\u001b[0m\u001b[0m\n",
            "\u001b[0;32m/usr/local/lib/python3.8/dist-packages/tensorflow/python/eager/function.py\u001b[0m in \u001b[0;36m_call_flat\u001b[0;34m(self, args, captured_inputs, cancellation_manager)\u001b[0m\n\u001b[1;32m   1858\u001b[0m         and executing_eagerly):\n\u001b[1;32m   1859\u001b[0m       \u001b[0;31m# No tape is watching; skip to running the function.\u001b[0m\u001b[0;34m\u001b[0m\u001b[0;34m\u001b[0m\u001b[0;34m\u001b[0m\u001b[0m\n\u001b[0;32m-> 1860\u001b[0;31m       return self._build_call_outputs(self._inference_function.call(\n\u001b[0m\u001b[1;32m   1861\u001b[0m           ctx, args, cancellation_manager=cancellation_manager))\n\u001b[1;32m   1862\u001b[0m     forward_backward = self._select_forward_and_backward_functions(\n",
            "\u001b[0;32m/usr/local/lib/python3.8/dist-packages/tensorflow/python/eager/function.py\u001b[0m in \u001b[0;36mcall\u001b[0;34m(self, ctx, args, cancellation_manager)\u001b[0m\n\u001b[1;32m    495\u001b[0m       \u001b[0;32mwith\u001b[0m \u001b[0m_InterpolateFunctionError\u001b[0m\u001b[0;34m(\u001b[0m\u001b[0mself\u001b[0m\u001b[0;34m)\u001b[0m\u001b[0;34m:\u001b[0m\u001b[0;34m\u001b[0m\u001b[0;34m\u001b[0m\u001b[0m\n\u001b[1;32m    496\u001b[0m         \u001b[0;32mif\u001b[0m \u001b[0mcancellation_manager\u001b[0m \u001b[0;32mis\u001b[0m \u001b[0;32mNone\u001b[0m\u001b[0;34m:\u001b[0m\u001b[0;34m\u001b[0m\u001b[0;34m\u001b[0m\u001b[0m\n\u001b[0;32m--> 497\u001b[0;31m           outputs = execute.execute(\n\u001b[0m\u001b[1;32m    498\u001b[0m               \u001b[0mstr\u001b[0m\u001b[0;34m(\u001b[0m\u001b[0mself\u001b[0m\u001b[0;34m.\u001b[0m\u001b[0msignature\u001b[0m\u001b[0;34m.\u001b[0m\u001b[0mname\u001b[0m\u001b[0;34m)\u001b[0m\u001b[0;34m,\u001b[0m\u001b[0;34m\u001b[0m\u001b[0;34m\u001b[0m\u001b[0m\n\u001b[1;32m    499\u001b[0m               \u001b[0mnum_outputs\u001b[0m\u001b[0;34m=\u001b[0m\u001b[0mself\u001b[0m\u001b[0;34m.\u001b[0m\u001b[0m_num_outputs\u001b[0m\u001b[0;34m,\u001b[0m\u001b[0;34m\u001b[0m\u001b[0;34m\u001b[0m\u001b[0m\n",
            "\u001b[0;32m/usr/local/lib/python3.8/dist-packages/tensorflow/python/eager/execute.py\u001b[0m in \u001b[0;36mquick_execute\u001b[0;34m(op_name, num_outputs, inputs, attrs, ctx, name)\u001b[0m\n\u001b[1;32m     52\u001b[0m   \u001b[0;32mtry\u001b[0m\u001b[0;34m:\u001b[0m\u001b[0;34m\u001b[0m\u001b[0;34m\u001b[0m\u001b[0m\n\u001b[1;32m     53\u001b[0m     \u001b[0mctx\u001b[0m\u001b[0;34m.\u001b[0m\u001b[0mensure_initialized\u001b[0m\u001b[0;34m(\u001b[0m\u001b[0;34m)\u001b[0m\u001b[0;34m\u001b[0m\u001b[0;34m\u001b[0m\u001b[0m\n\u001b[0;32m---> 54\u001b[0;31m     tensors = pywrap_tfe.TFE_Py_Execute(ctx._handle, device_name, op_name,\n\u001b[0m\u001b[1;32m     55\u001b[0m                                         inputs, attrs, num_outputs)\n\u001b[1;32m     56\u001b[0m   \u001b[0;32mexcept\u001b[0m \u001b[0mcore\u001b[0m\u001b[0;34m.\u001b[0m\u001b[0m_NotOkStatusException\u001b[0m \u001b[0;32mas\u001b[0m \u001b[0me\u001b[0m\u001b[0;34m:\u001b[0m\u001b[0;34m\u001b[0m\u001b[0;34m\u001b[0m\u001b[0m\n",
            "\u001b[0;31mKeyboardInterrupt\u001b[0m: "
          ]
        }
      ]
    },
    {
      "cell_type": "code",
      "source": [
        "train_cnn_history = pd.DataFrame(history_cnn.history)\n",
        "train_cnn_history.index.name = 'epochs'\n",
        "\n",
        "col_list = ['loss', 'val_loss']\n",
        "train_cnn_history[col_list].plot()\n",
        "plt.ylabel('Categorical cross entropy')\n",
        "plt.title('Training loss history')\n",
        "plt.show()"
      ],
      "metadata": {
        "colab": {
          "base_uri": "https://localhost:8080/",
          "height": 295
        },
        "id": "AwBjxTC8txs6",
        "outputId": "aa5bdda6-a85d-4e76-b483-cef9a9fc2e7f"
      },
      "execution_count": 83,
      "outputs": [
        {
          "output_type": "display_data",
          "data": {
            "text/plain": [
              "<Figure size 432x288 with 1 Axes>"
            ],
            "image/png": "[encoded data removed]"
          },
          "metadata": {
            "needs_background": "light"
          }
        }
      ]
    },
    {
      "cell_type": "code",
      "source": [
        "col_list = ['accuracy', 'val_accuracy']\n",
        "train_cnn_history[col_list].plot()\n",
        "plt.ylabel('Accuracy')\n",
        "plt.title('Training loss history')\n",
        "plt.show()"
      ],
      "metadata": {
        "colab": {
          "base_uri": "https://localhost:8080/",
          "height": 295
        },
        "id": "KVLLrEqk9BsQ",
        "outputId": "6d29de35-d31c-4672-dc9e-afa34a7b0bd0"
      },
      "execution_count": 84,
      "outputs": [
        {
          "output_type": "display_data",
          "data": {
            "text/plain": [
              "<Figure size 432x288 with 1 Axes>"
            ],
            "image/png": "[encoded data removed]"
          },
          "metadata": {
            "needs_background": "light"
          }
        }
      ]
    },
    {
      "cell_type": "markdown",
      "source": [
        "#L2 (Ridge Regression) regularizer with Augmentation"
      ],
      "metadata": {
        "id": "13CYYmPEl7FN"
      }
    },
    {
      "cell_type": "code",
      "source": [
        "reg = L2(1e-5)"
      ],
      "metadata": {
        "id": "zyOqj0Q_bsY-"
      },
      "execution_count": 117,
      "outputs": []
    },
    {
      "cell_type": "code",
      "source": [
        "data_augmentation = tf.keras.Sequential([\n",
        "  layers.RandomFlip(\"horizontal_and_vertical\"),\n",
        "  layers.RandomRotation(0.5),\n",
        "])"
      ],
      "metadata": {
        "id": "W1z9LGmTNhH0"
      },
      "execution_count": 118,
      "outputs": []
    },
    {
      "cell_type": "code",
      "source": [
        "L2_model = Sequential()\n",
        "# define 3x3 filter window sizes. Create 32 filters.\n",
        "L2_model.add(Conv2D(filters=32,\n",
        "                        kernel_size=(3, 3), strides = (2,2),\n",
        "                        activation='relu',\n",
        "                        input_shape=(256, 256, 3),\n",
        "                        kernel_regularizer = reg))\n",
        "\n",
        "# max pool in 2x2 window\n",
        "L2_model.add(BatchNormalization())\n",
        "L2_model.add(MaxPooling2D(pool_size=(4, 4)))\n",
        "data_augmentation\n",
        "L2_model.add(Conv2D(32, (3, 3), activation='relu', kernel_regularizer = reg))\n",
        "\n",
        "L2_model.add(BatchNormalization())\n",
        "L2_model.add(MaxPooling2D((2, 2)))\n",
        "data_augmentation\n",
        "L2_model.add(Conv2D(32, (3, 3), activation='relu', kernel_regularizer = reg))\n",
        "\n",
        "# transition to dense fully-connected part of network\n",
        "L2_model.add(Flatten())\n",
        "L2_model.add(Dense(64, activation='relu'))\n",
        "L1_model2.add(Dropout(0.6)) \n",
        "L2_model.add(Dense(22, activation='softmax'))"
      ],
      "metadata": {
        "id": "ofABLec6mQn1"
      },
      "execution_count": 119,
      "outputs": []
    },
    {
      "cell_type": "code",
      "source": [
        "opt = Adam(learning_rate=0.0001, beta_1=0.9, beta_2=0.999, epsilon=1e-05)\n",
        "L2_model.compile(optimizer=opt, loss='categorical_crossentropy',  metrics=['accuracy'])"
      ],
      "metadata": {
        "id": "tRSuspJqmmx0"
      },
      "execution_count": 120,
      "outputs": []
    },
    {
      "cell_type": "code",
      "source": [
        "history_cnn = L2_model.fit(train_ds, epochs= 30, validation_data= validation_ds)"
      ],
      "metadata": {
        "colab": {
          "base_uri": "https://localhost:8080/"
        },
        "id": "IA2_kPmVmm0R",
        "outputId": "612e4662-e83c-4579-8e85-a9e048e74deb"
      },
      "execution_count": 121,
      "outputs": [
        {
          "output_type": "stream",
          "name": "stdout",
          "text": [
            "Epoch 1/30\n",
            "134/134 [==============================] - 51s 352ms/step - loss: 2.5277 - accuracy: 0.2721 - val_loss: 3.1712 - val_accuracy: 0.1727\n",
            "Epoch 2/30\n",
            "134/134 [==============================] - 49s 345ms/step - loss: 1.2509 - accuracy: 0.6348 - val_loss: 1.6420 - val_accuracy: 0.6000\n",
            "Epoch 3/30\n",
            "134/134 [==============================] - 49s 344ms/step - loss: 0.7120 - accuracy: 0.8000 - val_loss: 1.3373 - val_accuracy: 0.6818\n",
            "Epoch 4/30\n",
            "134/134 [==============================] - 49s 342ms/step - loss: 0.4776 - accuracy: 0.8643 - val_loss: 1.3426 - val_accuracy: 0.6909\n",
            "Epoch 5/30\n",
            "134/134 [==============================] - 50s 347ms/step - loss: 0.3655 - accuracy: 0.8947 - val_loss: 1.2408 - val_accuracy: 0.7091\n",
            "Epoch 6/30\n",
            "134/134 [==============================] - 49s 347ms/step - loss: 0.2707 - accuracy: 0.9300 - val_loss: 1.3082 - val_accuracy: 0.7091\n",
            "Epoch 7/30\n",
            "134/134 [==============================] - 50s 347ms/step - loss: 0.2127 - accuracy: 0.9457 - val_loss: 1.1960 - val_accuracy: 0.7455\n",
            "Epoch 8/30\n",
            "134/134 [==============================] - 50s 348ms/step - loss: 0.1593 - accuracy: 0.9623 - val_loss: 1.3723 - val_accuracy: 0.7000\n",
            "Epoch 9/30\n",
            "134/134 [==============================] - 47s 327ms/step - loss: 0.1297 - accuracy: 0.9724 - val_loss: 1.2421 - val_accuracy: 0.7364\n",
            "Epoch 10/30\n",
            "134/134 [==============================] - 53s 381ms/step - loss: 0.1010 - accuracy: 0.9780 - val_loss: 1.1695 - val_accuracy: 0.7273\n",
            "Epoch 11/30\n",
            "134/134 [==============================] - 49s 334ms/step - loss: 0.0865 - accuracy: 0.9815 - val_loss: 1.2762 - val_accuracy: 0.7455\n",
            "Epoch 12/30\n",
            "134/134 [==============================] - 46s 325ms/step - loss: 0.0779 - accuracy: 0.9827 - val_loss: 1.2449 - val_accuracy: 0.7364\n",
            "Epoch 13/30\n",
            "134/134 [==============================] - 47s 328ms/step - loss: 0.0634 - accuracy: 0.9881 - val_loss: 1.2465 - val_accuracy: 0.7364\n",
            "Epoch 14/30\n",
            "134/134 [==============================] - 47s 327ms/step - loss: 0.0543 - accuracy: 0.9906 - val_loss: 1.3566 - val_accuracy: 0.7364\n",
            "Epoch 15/30\n",
            "134/134 [==============================] - 46s 324ms/step - loss: 0.0393 - accuracy: 0.9953 - val_loss: 1.2125 - val_accuracy: 0.7545\n",
            "Epoch 16/30\n",
            "134/134 [==============================] - 47s 330ms/step - loss: 0.0428 - accuracy: 0.9927 - val_loss: 1.3478 - val_accuracy: 0.7364\n",
            "Epoch 17/30\n",
            "134/134 [==============================] - 47s 331ms/step - loss: 0.0279 - accuracy: 0.9967 - val_loss: 1.1968 - val_accuracy: 0.7727\n",
            "Epoch 18/30\n",
            "134/134 [==============================] - 47s 331ms/step - loss: 0.0382 - accuracy: 0.9923 - val_loss: 1.1777 - val_accuracy: 0.7636\n",
            "Epoch 19/30\n",
            "134/134 [==============================] - 47s 328ms/step - loss: 0.0267 - accuracy: 0.9956 - val_loss: 1.1274 - val_accuracy: 0.7727\n",
            "Epoch 20/30\n",
            "134/134 [==============================] - 47s 328ms/step - loss: 0.0288 - accuracy: 0.9956 - val_loss: 1.2775 - val_accuracy: 0.7727\n",
            "Epoch 21/30\n",
            "134/134 [==============================] - 47s 327ms/step - loss: 0.0187 - accuracy: 0.9984 - val_loss: 1.1875 - val_accuracy: 0.7818\n",
            "Epoch 22/30\n",
            "134/134 [==============================] - 46s 326ms/step - loss: 0.0199 - accuracy: 0.9972 - val_loss: 1.1192 - val_accuracy: 0.7455\n",
            "Epoch 23/30\n",
            "134/134 [==============================] - 47s 331ms/step - loss: 0.0170 - accuracy: 0.9988 - val_loss: 1.5042 - val_accuracy: 0.7000\n",
            "Epoch 24/30\n",
            "134/134 [==============================] - 47s 329ms/step - loss: 0.0174 - accuracy: 0.9977 - val_loss: 1.2870 - val_accuracy: 0.7545\n",
            "Epoch 25/30\n",
            "134/134 [==============================] - 47s 329ms/step - loss: 0.0144 - accuracy: 0.9977 - val_loss: 1.3796 - val_accuracy: 0.7636\n",
            "Epoch 26/30\n",
            "134/134 [==============================] - 47s 330ms/step - loss: 0.0123 - accuracy: 0.9991 - val_loss: 1.2650 - val_accuracy: 0.7818\n",
            "Epoch 27/30\n",
            "134/134 [==============================] - 46s 322ms/step - loss: 0.0096 - accuracy: 0.9991 - val_loss: 1.2445 - val_accuracy: 0.7545\n",
            "Epoch 28/30\n",
            "134/134 [==============================] - 45s 319ms/step - loss: 0.0173 - accuracy: 0.9963 - val_loss: 1.2797 - val_accuracy: 0.7727\n",
            "Epoch 29/30\n",
            "134/134 [==============================] - 45s 318ms/step - loss: 0.0166 - accuracy: 0.9977 - val_loss: 1.2346 - val_accuracy: 0.7818\n",
            "Epoch 30/30\n",
            "134/134 [==============================] - 46s 322ms/step - loss: 0.0482 - accuracy: 0.9895 - val_loss: 1.2081 - val_accuracy: 0.7818\n"
          ]
        }
      ]
    },
    {
      "cell_type": "code",
      "source": [
        "train_cnn_history = pd.DataFrame(history_cnn.history)\n",
        "train_cnn_history.index.name = 'epochs'\n",
        "\n",
        "col_list = ['loss', 'val_loss']\n",
        "train_cnn_history[col_list].plot()\n",
        "plt.ylabel('Categorical cross entropy')\n",
        "plt.title('Training loss history')\n",
        "plt.show()"
      ],
      "metadata": {
        "colab": {
          "base_uri": "https://localhost:8080/",
          "height": 295
        },
        "id": "U9YYVlrAm_dS",
        "outputId": "eb5eb308-a4cb-4728-a72e-8f8c2971613a"
      },
      "execution_count": 124,
      "outputs": [
        {
          "output_type": "display_data",
          "data": {
            "text/plain": [
              "<Figure size 432x288 with 1 Axes>"
            ],
            "image/png": "[encoded data removed]"
          },
          "metadata": {
            "needs_background": "light"
          }
        }
      ]
    },
    {
      "cell_type": "code",
      "source": [
        "col_list = ['accuracy', 'val_accuracy']\n",
        "train_cnn_history[col_list].plot()\n",
        "plt.ylabel('Accuracy')\n",
        "plt.title('Training loss history')\n",
        "plt.show()"
      ],
      "metadata": {
        "colab": {
          "base_uri": "https://localhost:8080/",
          "height": 295
        },
        "id": "Bzplzke7m_gK",
        "outputId": "bbd24790-6760-48ed-bb9a-9c44f6e1934a"
      },
      "execution_count": 125,
      "outputs": [
        {
          "output_type": "display_data",
          "data": {
            "text/plain": [
              "<Figure size 432x288 with 1 Axes>"
            ],
            "image/png": "[encoded data removed]"
          },
          "metadata": {
            "needs_background": "light"
          }
        }
      ]
    },
    {
      "cell_type": "markdown",
      "source": [
        "#Create KerasTuner "
      ],
      "metadata": {
        "id": "LRfCqmTcC4Hi"
      }
    },
    {
      "cell_type": "code",
      "source": [
        "def build_model(hp):  \n",
        "  model= keras.Sequential([\n",
        "    keras.layers.Conv2D(\n",
        "        filters=hp.Int('conv_1_filter', min_value=32, max_value=64, step=2),\n",
        "        kernel_size=hp.Choice('conv_1_kernel', values = [3,5]),\n",
        "        activation='relu',\n",
        "        input_shape=(256,256,3)\n",
        "    ),\n",
        "    keras.layers.Conv2D(\n",
        "        filters=hp.Int('conv_2_filter', min_value=32, max_value=64, step=2),\n",
        "        kernel_size=hp.Choice('conv_2_kernel', values = [3,5]),\n",
        "        activation='relu'\n",
        "    ),\n",
        "    keras.layers.Flatten(),\n",
        "    keras.layers.Dense(\n",
        "        units=hp.Int('dense_1_units', min_value=32, max_value=64, step=2),\n",
        "        activation='relu'\n",
        "    ),\n",
        "    keras.layers.Dense(10, activation='softmax')\n",
        "  ])\n",
        "  \n",
        "  model.compile(optimizer=keras.optimizers.Adam(hp.Choice('learning_rate', values=[1e-2, 1e-3])),\n",
        "              loss='sparse_categorical_crossentropy',\n",
        "              metrics=['accuracy'])\n",
        "  \n",
        "  return model"
      ],
      "metadata": {
        "id": "amW-2eUP580i"
      },
      "execution_count": null,
      "outputs": []
    },
    {
      "cell_type": "code",
      "source": [
        "tuner = RandomSearch(build_model,\n",
        "                     objective='val_accuracy',\n",
        "                     max_trials=5, \n",
        "                     directory= 'test_dir',\n",
        "                     project_name= 'intro_to_kt')"
      ],
      "metadata": {
        "id": "g8vJIqycDEu6"
      },
      "execution_count": null,
      "outputs": []
    },
    {
      "cell_type": "code",
      "source": [
        "tuner.search(train_ds, epochs=10, validation_data = validation_ds)"
      ],
      "metadata": {
        "colab": {
          "base_uri": "https://localhost:8080/",
          "height": 318
        },
        "id": "RHFJny4WDEyA",
        "outputId": "2c840ffc-1590-4750-b865-9180cad56792"
      },
      "execution_count": null,
      "outputs": [
        {
          "output_type": "error",
          "ename": "KeyError",
          "evalue": "ignored",
          "traceback": [
            "\u001b[0;31m---------------------------------------------------------------------------\u001b[0m",
            "\u001b[0;31mKeyError\u001b[0m                                  Traceback (most recent call last)",
            "\u001b[0;32m<ipython-input-266-437976bd4e11>\u001b[0m in \u001b[0;36m<module>\u001b[0;34m\u001b[0m\n\u001b[0;32m----> 1\u001b[0;31m \u001b[0mtuner\u001b[0m\u001b[0;34m.\u001b[0m\u001b[0msearch\u001b[0m\u001b[0;34m(\u001b[0m\u001b[0mtrain_ds\u001b[0m\u001b[0;34m,\u001b[0m \u001b[0mepochs\u001b[0m\u001b[0;34m=\u001b[0m\u001b[0;36m10\u001b[0m\u001b[0;34m,\u001b[0m \u001b[0mvalidation_data\u001b[0m \u001b[0;34m=\u001b[0m \u001b[0mvalidation_ds\u001b[0m\u001b[0;34m)\u001b[0m\u001b[0;34m\u001b[0m\u001b[0;34m\u001b[0m\u001b[0m\n\u001b[0m",
            "\u001b[0;32m/usr/local/lib/python3.8/dist-packages/keras_tuner/engine/base_tuner.py\u001b[0m in \u001b[0;36msearch\u001b[0;34m(self, *fit_args, **fit_kwargs)\u001b[0m\n\u001b[1;32m    198\u001b[0m         \u001b[0;32mwhile\u001b[0m \u001b[0;32mTrue\u001b[0m\u001b[0;34m:\u001b[0m\u001b[0;34m\u001b[0m\u001b[0;34m\u001b[0m\u001b[0m\n\u001b[1;32m    199\u001b[0m             \u001b[0mself\u001b[0m\u001b[0;34m.\u001b[0m\u001b[0mpre_create_trial\u001b[0m\u001b[0;34m(\u001b[0m\u001b[0;34m)\u001b[0m\u001b[0;34m\u001b[0m\u001b[0;34m\u001b[0m\u001b[0m\n\u001b[0;32m--> 200\u001b[0;31m             \u001b[0mtrial\u001b[0m \u001b[0;34m=\u001b[0m \u001b[0mself\u001b[0m\u001b[0;34m.\u001b[0m\u001b[0moracle\u001b[0m\u001b[0;34m.\u001b[0m\u001b[0mcreate_trial\u001b[0m\u001b[0;34m(\u001b[0m\u001b[0mself\u001b[0m\u001b[0;34m.\u001b[0m\u001b[0mtuner_id\u001b[0m\u001b[0;34m)\u001b[0m\u001b[0;34m\u001b[0m\u001b[0;34m\u001b[0m\u001b[0m\n\u001b[0m\u001b[1;32m    201\u001b[0m             \u001b[0;32mif\u001b[0m \u001b[0mtrial\u001b[0m\u001b[0;34m.\u001b[0m\u001b[0mstatus\u001b[0m \u001b[0;34m==\u001b[0m \u001b[0mtrial_module\u001b[0m\u001b[0;34m.\u001b[0m\u001b[0mTrialStatus\u001b[0m\u001b[0;34m.\u001b[0m\u001b[0mSTOPPED\u001b[0m\u001b[0;34m:\u001b[0m\u001b[0;34m\u001b[0m\u001b[0;34m\u001b[0m\u001b[0m\n\u001b[1;32m    202\u001b[0m                 \u001b[0;31m# Oracle triggered exit.\u001b[0m\u001b[0;34m\u001b[0m\u001b[0;34m\u001b[0m\u001b[0;34m\u001b[0m\u001b[0m\n",
            "\u001b[0;32m/usr/local/lib/python3.8/dist-packages/keras_tuner/engine/oracle.py\u001b[0m in \u001b[0;36mwrapped_func\u001b[0;34m(*args, **kwargs)\u001b[0m\n\u001b[1;32m    102\u001b[0m             \u001b[0mLOCKS\u001b[0m\u001b[0;34m[\u001b[0m\u001b[0moracle\u001b[0m\u001b[0;34m]\u001b[0m\u001b[0;34m.\u001b[0m\u001b[0macquire\u001b[0m\u001b[0;34m(\u001b[0m\u001b[0;34m)\u001b[0m\u001b[0;34m\u001b[0m\u001b[0;34m\u001b[0m\u001b[0m\n\u001b[1;32m    103\u001b[0m             \u001b[0mTHREADS\u001b[0m\u001b[0;34m[\u001b[0m\u001b[0moracle\u001b[0m\u001b[0;34m]\u001b[0m \u001b[0;34m=\u001b[0m \u001b[0mthread_name\u001b[0m\u001b[0;34m\u001b[0m\u001b[0;34m\u001b[0m\u001b[0m\n\u001b[0;32m--> 104\u001b[0;31m         \u001b[0mret_val\u001b[0m \u001b[0;34m=\u001b[0m \u001b[0mfunc\u001b[0m\u001b[0;34m(\u001b[0m\u001b[0;34m*\u001b[0m\u001b[0margs\u001b[0m\u001b[0;34m,\u001b[0m \u001b[0;34m**\u001b[0m\u001b[0mkwargs\u001b[0m\u001b[0;34m)\u001b[0m\u001b[0;34m\u001b[0m\u001b[0;34m\u001b[0m\u001b[0m\n\u001b[0m\u001b[1;32m    105\u001b[0m         \u001b[0;32mif\u001b[0m \u001b[0mneed_acquire\u001b[0m\u001b[0;34m:\u001b[0m\u001b[0;34m\u001b[0m\u001b[0;34m\u001b[0m\u001b[0m\n\u001b[1;32m    106\u001b[0m             \u001b[0mTHREADS\u001b[0m\u001b[0;34m[\u001b[0m\u001b[0moracle\u001b[0m\u001b[0;34m]\u001b[0m \u001b[0;34m=\u001b[0m \u001b[0;32mNone\u001b[0m\u001b[0;34m\u001b[0m\u001b[0;34m\u001b[0m\u001b[0m\n",
            "\u001b[0;32m/usr/local/lib/python3.8/dist-packages/keras_tuner/engine/oracle.py\u001b[0m in \u001b[0;36mcreate_trial\u001b[0;34m(self, tuner_id)\u001b[0m\n\u001b[1;32m    300\u001b[0m         \u001b[0;31m# Pick the Trials waiting for retry first.\u001b[0m\u001b[0;34m\u001b[0m\u001b[0;34m\u001b[0m\u001b[0;34m\u001b[0m\u001b[0m\n\u001b[1;32m    301\u001b[0m         \u001b[0;32mif\u001b[0m \u001b[0mlen\u001b[0m\u001b[0;34m(\u001b[0m\u001b[0mself\u001b[0m\u001b[0;34m.\u001b[0m\u001b[0m_retry_queue\u001b[0m\u001b[0;34m)\u001b[0m \u001b[0;34m>\u001b[0m \u001b[0;36m0\u001b[0m\u001b[0;34m:\u001b[0m\u001b[0;34m\u001b[0m\u001b[0;34m\u001b[0m\u001b[0m\n\u001b[0;32m--> 302\u001b[0;31m             \u001b[0mtrial\u001b[0m \u001b[0;34m=\u001b[0m \u001b[0mself\u001b[0m\u001b[0;34m.\u001b[0m\u001b[0mtrials\u001b[0m\u001b[0;34m[\u001b[0m\u001b[0mself\u001b[0m\u001b[0;34m.\u001b[0m\u001b[0m_retry_queue\u001b[0m\u001b[0;34m.\u001b[0m\u001b[0mpop\u001b[0m\u001b[0;34m(\u001b[0m\u001b[0;34m)\u001b[0m\u001b[0;34m]\u001b[0m\u001b[0;34m\u001b[0m\u001b[0;34m\u001b[0m\u001b[0m\n\u001b[0m\u001b[1;32m    303\u001b[0m             \u001b[0mtrial\u001b[0m\u001b[0;34m.\u001b[0m\u001b[0mstatus\u001b[0m \u001b[0;34m=\u001b[0m \u001b[0mtrial_module\u001b[0m\u001b[0;34m.\u001b[0m\u001b[0mTrialStatus\u001b[0m\u001b[0;34m.\u001b[0m\u001b[0mRUNNING\u001b[0m\u001b[0;34m\u001b[0m\u001b[0;34m\u001b[0m\u001b[0m\n\u001b[1;32m    304\u001b[0m             \u001b[0mself\u001b[0m\u001b[0;34m.\u001b[0m\u001b[0mongoing_trials\u001b[0m\u001b[0;34m[\u001b[0m\u001b[0mtuner_id\u001b[0m\u001b[0;34m]\u001b[0m \u001b[0;34m=\u001b[0m \u001b[0mtrial\u001b[0m\u001b[0;34m\u001b[0m\u001b[0;34m\u001b[0m\u001b[0m\n",
            "\u001b[0;31mKeyError\u001b[0m: <keras_tuner.engine.trial.Trial object at 0x7ff443f2fcd0>"
          ]
        }
      ]
    }
  ]
}