{
  "nbformat": 4,
  "nbformat_minor": 0,
  "metadata": {
    "colab": {
      "provenance": [],
      "machine_shape": "hm",
      "authorship_tag": "ABX9TyNuwf7p3nd+OiCEXbRLBbwR",
      "include_colab_link": true
    },
    "kernelspec": {
      "name": "python3",
      "display_name": "Python 3"
    },
    "language_info": {
      "name": "python"
    },
    "accelerator": "TPU",
    "gpuClass": "standard"
  },
  "cells": [
    {
      "cell_type": "markdown",
      "metadata": {
        "id": "view-in-github",
        "colab_type": "text"
      },
      "source": [
        "<a href=\"https://colab.research.google.com/github/arunmalik1/PlantLeaf_Classification/blob/main/PlantLeaf_Classification_MultiModels.ipynb\" target=\"_parent\"><img src=\"https://colab.research.google.com/assets/colab-badge.svg\" alt=\"Open In Colab\"/></a>"
      ]
    },
    {
      "cell_type": "markdown",
      "source": [
        "This project is binary classification project using plant images. The idea is to be able to identify diseased vs healthy plants. There are 11 different plants and the entire dataet is divded into 22 categories. \n",
        "\n",
        "The dataset is from Kaggle: \n",
        "This is a collection of about 4503 images of which contains 2278 images of healthy leaf and 2225 images of the diseased leaf. Twelve plants named as Mango, Arjun, Alstonia Scholaris, Guava, Bael, Jamun, Jatropha, Pongamia Pinnata, Basil, Pomegranate, Lemon, and Chinar have been selected. Images are split between training, test, validating and prediction datasets for model training and testing purposes.\n",
        "\n"
      ],
      "metadata": {
        "id": "FIf7BhdskduB"
      }
    },
    {
      "cell_type": "markdown",
      "source": [
        "#Import Packages"
      ],
      "metadata": {
        "id": "B8VGKk0ooOn0"
      }
    },
    {
      "cell_type": "code",
      "source": [
        "#need pydicom for images\n",
        "!pip install pydicom"
      ],
      "metadata": {
        "colab": {
          "base_uri": "https://localhost:8080/"
        },
        "id": "TmFyTHVmx4iO",
        "outputId": "41ad2a31-c28d-45f3-ff82-0266312a66b8"
      },
      "execution_count": 1,
      "outputs": [
        {
          "output_type": "stream",
          "name": "stdout",
          "text": [
            "Looking in indexes: https://pypi.org/simple, https://us-python.pkg.dev/colab-wheels/public/simple/\n",
            "Collecting pydicom\n",
            "  Downloading pydicom-2.3.1-py3-none-any.whl (2.0 MB)\n",
            "\u001b[2K     \u001b[90m━━━━━━━━━━━━━━━━━━━━━━━━━━━━━━━━━━━━━━━━\u001b[0m \u001b[32m2.0/2.0 MB\u001b[0m \u001b[31m24.1 MB/s\u001b[0m eta \u001b[36m0:00:00\u001b[0m\n",
            "\u001b[?25hInstalling collected packages: pydicom\n",
            "Successfully installed pydicom-2.3.1\n"
          ]
        }
      ]
    },
    {
      "cell_type": "code",
      "source": [
        "#install opendatasets to get the data from Kaggle\n",
        "!pip install opendatasets --upgrade"
      ],
      "metadata": {
        "colab": {
          "base_uri": "https://localhost:8080/"
        },
        "id": "ABB1vJpwx99w",
        "outputId": "6c9b64ae-fff2-4ddc-ab0d-760b80f93fa4"
      },
      "execution_count": 2,
      "outputs": [
        {
          "output_type": "stream",
          "name": "stdout",
          "text": [
            "Looking in indexes: https://pypi.org/simple, https://us-python.pkg.dev/colab-wheels/public/simple/\n",
            "Collecting opendatasets\n",
            "  Downloading opendatasets-0.1.22-py3-none-any.whl (15 kB)\n",
            "Requirement already satisfied: tqdm in /usr/local/lib/python3.8/dist-packages (from opendatasets) (4.64.1)\n",
            "Requirement already satisfied: click in /usr/local/lib/python3.8/dist-packages (from opendatasets) (7.1.2)\n",
            "Requirement already satisfied: kaggle in /usr/local/lib/python3.8/dist-packages (from opendatasets) (1.5.12)\n",
            "Requirement already satisfied: six>=1.10 in /usr/local/lib/python3.8/dist-packages (from kaggle->opendatasets) (1.15.0)\n",
            "Requirement already satisfied: requests in /usr/local/lib/python3.8/dist-packages (from kaggle->opendatasets) (2.25.1)\n",
            "Requirement already satisfied: certifi in /usr/local/lib/python3.8/dist-packages (from kaggle->opendatasets) (2022.12.7)\n",
            "Requirement already satisfied: python-slugify in /usr/local/lib/python3.8/dist-packages (from kaggle->opendatasets) (8.0.0)\n",
            "Requirement already satisfied: urllib3 in /usr/local/lib/python3.8/dist-packages (from kaggle->opendatasets) (1.24.3)\n",
            "Requirement already satisfied: python-dateutil in /usr/local/lib/python3.8/dist-packages (from kaggle->opendatasets) (2.8.2)\n",
            "Requirement already satisfied: text-unidecode>=1.3 in /usr/local/lib/python3.8/dist-packages (from python-slugify->kaggle->opendatasets) (1.3)\n",
            "Requirement already satisfied: chardet<5,>=3.0.2 in /usr/local/lib/python3.8/dist-packages (from requests->kaggle->opendatasets) (4.0.0)\n",
            "Requirement already satisfied: idna<3,>=2.5 in /usr/local/lib/python3.8/dist-packages (from requests->kaggle->opendatasets) (2.10)\n",
            "Installing collected packages: opendatasets\n",
            "Successfully installed opendatasets-0.1.22\n"
          ]
        }
      ]
    },
    {
      "cell_type": "code",
      "source": [
        "#installing keras tuner \n",
        "!pip install keras-tuner"
      ],
      "metadata": {
        "colab": {
          "base_uri": "https://localhost:8080/"
        },
        "id": "4Vk9ii3KIhWU",
        "outputId": "4d75437e-98c4-4cb7-d500-3ea7038834e4"
      },
      "execution_count": 3,
      "outputs": [
        {
          "output_type": "stream",
          "name": "stdout",
          "text": [
            "Looking in indexes: https://pypi.org/simple, https://us-python.pkg.dev/colab-wheels/public/simple/\n",
            "Collecting keras-tuner\n",
            "  Downloading keras_tuner-1.2.0-py3-none-any.whl (168 kB)\n",
            "\u001b[2K     \u001b[90m━━━━━━━━━━━━━━━━━━━━━━━━━━━━━━━━━━━━━━━\u001b[0m \u001b[32m168.1/168.1 KB\u001b[0m \u001b[31m4.4 MB/s\u001b[0m eta \u001b[36m0:00:00\u001b[0m\n",
            "\u001b[?25hRequirement already satisfied: tensorflow>=2.0 in /usr/local/lib/python3.8/dist-packages (from keras-tuner) (2.9.2)\n",
            "Requirement already satisfied: requests in /usr/local/lib/python3.8/dist-packages (from keras-tuner) (2.25.1)\n",
            "Requirement already satisfied: ipython in /usr/local/lib/python3.8/dist-packages (from keras-tuner) (7.9.0)\n",
            "Requirement already satisfied: packaging in /usr/local/lib/python3.8/dist-packages (from keras-tuner) (23.0)\n",
            "Collecting kt-legacy\n",
            "  Downloading kt_legacy-1.0.4-py3-none-any.whl (9.6 kB)\n",
            "Requirement already satisfied: tensorflow-io-gcs-filesystem>=0.23.1 in /usr/local/lib/python3.8/dist-packages (from tensorflow>=2.0->keras-tuner) (0.30.0)\n",
            "Requirement already satisfied: keras<2.10.0,>=2.9.0rc0 in /usr/local/lib/python3.8/dist-packages (from tensorflow>=2.0->keras-tuner) (2.9.0)\n",
            "Requirement already satisfied: keras-preprocessing>=1.1.1 in /usr/local/lib/python3.8/dist-packages (from tensorflow>=2.0->keras-tuner) (1.1.2)\n",
            "Requirement already satisfied: opt-einsum>=2.3.2 in /usr/local/lib/python3.8/dist-packages (from tensorflow>=2.0->keras-tuner) (3.3.0)\n",
            "Requirement already satisfied: gast<=0.4.0,>=0.2.1 in /usr/local/lib/python3.8/dist-packages (from tensorflow>=2.0->keras-tuner) (0.4.0)\n",
            "Requirement already satisfied: astunparse>=1.6.0 in /usr/local/lib/python3.8/dist-packages (from tensorflow>=2.0->keras-tuner) (1.6.3)\n",
            "Requirement already satisfied: grpcio<2.0,>=1.24.3 in /usr/local/lib/python3.8/dist-packages (from tensorflow>=2.0->keras-tuner) (1.51.1)\n",
            "Requirement already satisfied: tensorflow-estimator<2.10.0,>=2.9.0rc0 in /usr/local/lib/python3.8/dist-packages (from tensorflow>=2.0->keras-tuner) (2.9.0)\n",
            "Requirement already satisfied: numpy>=1.20 in /usr/local/lib/python3.8/dist-packages (from tensorflow>=2.0->keras-tuner) (1.21.6)\n",
            "Requirement already satisfied: h5py>=2.9.0 in /usr/local/lib/python3.8/dist-packages (from tensorflow>=2.0->keras-tuner) (3.1.0)\n",
            "Requirement already satisfied: protobuf<3.20,>=3.9.2 in /usr/local/lib/python3.8/dist-packages (from tensorflow>=2.0->keras-tuner) (3.19.6)\n",
            "Requirement already satisfied: tensorboard<2.10,>=2.9 in /usr/local/lib/python3.8/dist-packages (from tensorflow>=2.0->keras-tuner) (2.9.1)\n",
            "Requirement already satisfied: google-pasta>=0.1.1 in /usr/local/lib/python3.8/dist-packages (from tensorflow>=2.0->keras-tuner) (0.2.0)\n",
            "Requirement already satisfied: typing-extensions>=3.6.6 in /usr/local/lib/python3.8/dist-packages (from tensorflow>=2.0->keras-tuner) (4.4.0)\n",
            "Requirement already satisfied: libclang>=13.0.0 in /usr/local/lib/python3.8/dist-packages (from tensorflow>=2.0->keras-tuner) (15.0.6.1)\n",
            "Requirement already satisfied: absl-py>=1.0.0 in /usr/local/lib/python3.8/dist-packages (from tensorflow>=2.0->keras-tuner) (1.4.0)\n",
            "Requirement already satisfied: termcolor>=1.1.0 in /usr/local/lib/python3.8/dist-packages (from tensorflow>=2.0->keras-tuner) (2.2.0)\n",
            "Requirement already satisfied: setuptools in /usr/local/lib/python3.8/dist-packages (from tensorflow>=2.0->keras-tuner) (57.4.0)\n",
            "Requirement already satisfied: six>=1.12.0 in /usr/local/lib/python3.8/dist-packages (from tensorflow>=2.0->keras-tuner) (1.15.0)\n",
            "Requirement already satisfied: wrapt>=1.11.0 in /usr/local/lib/python3.8/dist-packages (from tensorflow>=2.0->keras-tuner) (1.14.1)\n",
            "Requirement already satisfied: flatbuffers<2,>=1.12 in /usr/local/lib/python3.8/dist-packages (from tensorflow>=2.0->keras-tuner) (1.12)\n",
            "Requirement already satisfied: pexpect in /usr/local/lib/python3.8/dist-packages (from ipython->keras-tuner) (4.8.0)\n",
            "Requirement already satisfied: prompt-toolkit<2.1.0,>=2.0.0 in /usr/local/lib/python3.8/dist-packages (from ipython->keras-tuner) (2.0.10)\n",
            "Requirement already satisfied: decorator in /usr/local/lib/python3.8/dist-packages (from ipython->keras-tuner) (4.4.2)\n",
            "Collecting jedi>=0.10\n",
            "  Downloading jedi-0.18.2-py2.py3-none-any.whl (1.6 MB)\n",
            "\u001b[2K     \u001b[90m━━━━━━━━━━━━━━━━━━━━━━━━━━━━━━━━━━━━━━━━\u001b[0m \u001b[32m1.6/1.6 MB\u001b[0m \u001b[31m34.1 MB/s\u001b[0m eta \u001b[36m0:00:00\u001b[0m\n",
            "\u001b[?25hRequirement already satisfied: traitlets>=4.2 in /usr/local/lib/python3.8/dist-packages (from ipython->keras-tuner) (5.7.1)\n",
            "Requirement already satisfied: pygments in /usr/local/lib/python3.8/dist-packages (from ipython->keras-tuner) (2.6.1)\n",
            "Requirement already satisfied: backcall in /usr/local/lib/python3.8/dist-packages (from ipython->keras-tuner) (0.2.0)\n",
            "Requirement already satisfied: pickleshare in /usr/local/lib/python3.8/dist-packages (from ipython->keras-tuner) (0.7.5)\n",
            "Requirement already satisfied: urllib3<1.27,>=1.21.1 in /usr/local/lib/python3.8/dist-packages (from requests->keras-tuner) (1.24.3)\n",
            "Requirement already satisfied: chardet<5,>=3.0.2 in /usr/local/lib/python3.8/dist-packages (from requests->keras-tuner) (4.0.0)\n",
            "Requirement already satisfied: idna<3,>=2.5 in /usr/local/lib/python3.8/dist-packages (from requests->keras-tuner) (2.10)\n",
            "Requirement already satisfied: certifi>=2017.4.17 in /usr/local/lib/python3.8/dist-packages (from requests->keras-tuner) (2022.12.7)\n",
            "Requirement already satisfied: wheel<1.0,>=0.23.0 in /usr/local/lib/python3.8/dist-packages (from astunparse>=1.6.0->tensorflow>=2.0->keras-tuner) (0.38.4)\n",
            "Requirement already satisfied: parso<0.9.0,>=0.8.0 in /usr/local/lib/python3.8/dist-packages (from jedi>=0.10->ipython->keras-tuner) (0.8.3)\n",
            "Requirement already satisfied: wcwidth in /usr/local/lib/python3.8/dist-packages (from prompt-toolkit<2.1.0,>=2.0.0->ipython->keras-tuner) (0.2.6)\n",
            "Requirement already satisfied: werkzeug>=1.0.1 in /usr/local/lib/python3.8/dist-packages (from tensorboard<2.10,>=2.9->tensorflow>=2.0->keras-tuner) (1.0.1)\n",
            "Requirement already satisfied: markdown>=2.6.8 in /usr/local/lib/python3.8/dist-packages (from tensorboard<2.10,>=2.9->tensorflow>=2.0->keras-tuner) (3.4.1)\n",
            "Requirement already satisfied: tensorboard-plugin-wit>=1.6.0 in /usr/local/lib/python3.8/dist-packages (from tensorboard<2.10,>=2.9->tensorflow>=2.0->keras-tuner) (1.8.1)\n",
            "Requirement already satisfied: tensorboard-data-server<0.7.0,>=0.6.0 in /usr/local/lib/python3.8/dist-packages (from tensorboard<2.10,>=2.9->tensorflow>=2.0->keras-tuner) (0.6.1)\n",
            "Requirement already satisfied: google-auth<3,>=1.6.3 in /usr/local/lib/python3.8/dist-packages (from tensorboard<2.10,>=2.9->tensorflow>=2.0->keras-tuner) (2.16.0)\n",
            "Requirement already satisfied: google-auth-oauthlib<0.5,>=0.4.1 in /usr/local/lib/python3.8/dist-packages (from tensorboard<2.10,>=2.9->tensorflow>=2.0->keras-tuner) (0.4.6)\n",
            "Requirement already satisfied: ptyprocess>=0.5 in /usr/local/lib/python3.8/dist-packages (from pexpect->ipython->keras-tuner) (0.7.0)\n",
            "Requirement already satisfied: cachetools<6.0,>=2.0.0 in /usr/local/lib/python3.8/dist-packages (from google-auth<3,>=1.6.3->tensorboard<2.10,>=2.9->tensorflow>=2.0->keras-tuner) (5.3.0)\n",
            "Requirement already satisfied: rsa<5,>=3.1.4 in /usr/local/lib/python3.8/dist-packages (from google-auth<3,>=1.6.3->tensorboard<2.10,>=2.9->tensorflow>=2.0->keras-tuner) (4.9)\n",
            "Requirement already satisfied: pyasn1-modules>=0.2.1 in /usr/local/lib/python3.8/dist-packages (from google-auth<3,>=1.6.3->tensorboard<2.10,>=2.9->tensorflow>=2.0->keras-tuner) (0.2.8)\n",
            "Requirement already satisfied: requests-oauthlib>=0.7.0 in /usr/local/lib/python3.8/dist-packages (from google-auth-oauthlib<0.5,>=0.4.1->tensorboard<2.10,>=2.9->tensorflow>=2.0->keras-tuner) (1.3.1)\n",
            "Requirement already satisfied: importlib-metadata>=4.4 in /usr/local/lib/python3.8/dist-packages (from markdown>=2.6.8->tensorboard<2.10,>=2.9->tensorflow>=2.0->keras-tuner) (6.0.0)\n",
            "Requirement already satisfied: zipp>=0.5 in /usr/local/lib/python3.8/dist-packages (from importlib-metadata>=4.4->markdown>=2.6.8->tensorboard<2.10,>=2.9->tensorflow>=2.0->keras-tuner) (3.12.0)\n",
            "Requirement already satisfied: pyasn1<0.5.0,>=0.4.6 in /usr/local/lib/python3.8/dist-packages (from pyasn1-modules>=0.2.1->google-auth<3,>=1.6.3->tensorboard<2.10,>=2.9->tensorflow>=2.0->keras-tuner) (0.4.8)\n",
            "Requirement already satisfied: oauthlib>=3.0.0 in /usr/local/lib/python3.8/dist-packages (from requests-oauthlib>=0.7.0->google-auth-oauthlib<0.5,>=0.4.1->tensorboard<2.10,>=2.9->tensorflow>=2.0->keras-tuner) (3.2.2)\n",
            "Installing collected packages: kt-legacy, jedi, keras-tuner\n",
            "Successfully installed jedi-0.18.2 keras-tuner-1.2.0 kt-legacy-1.0.4\n"
          ]
        }
      ]
    },
    {
      "cell_type": "code",
      "source": [
        "!pip install -q -U keras-tuner"
      ],
      "metadata": {
        "id": "hrBuP3dYNT5l"
      },
      "execution_count": 4,
      "outputs": []
    },
    {
      "cell_type": "code",
      "source": [
        "!pip install git+https://github.com/keras-team/keras-preprocessing.git"
      ],
      "metadata": {
        "colab": {
          "base_uri": "https://localhost:8080/"
        },
        "id": "IbqKt-fFKWq9",
        "outputId": "8e7adcff-1aa7-4601-e65e-13fe89958189"
      },
      "execution_count": 12,
      "outputs": [
        {
          "output_type": "stream",
          "name": "stdout",
          "text": [
            "Looking in indexes: https://pypi.org/simple, https://us-python.pkg.dev/colab-wheels/public/simple/\n",
            "Collecting git+https://github.com/keras-team/keras-preprocessing.git\n",
            "  Cloning https://github.com/keras-team/keras-preprocessing.git to /tmp/pip-req-build-sjc5_cpd\n",
            "  Running command git clone --filter=blob:none --quiet https://github.com/keras-team/keras-preprocessing.git /tmp/pip-req-build-sjc5_cpd\n",
            "  Resolved https://github.com/keras-team/keras-preprocessing.git to commit 3e380065d4afc7347aaee8d89325a16b22158438\n",
            "  Preparing metadata (setup.py) ... \u001b[?25l\u001b[?25hdone\n",
            "Requirement already satisfied: numpy>=1.9.1 in /usr/local/lib/python3.8/dist-packages (from Keras-Preprocessing==1.1.2) (1.21.6)\n"
          ]
        }
      ]
    },
    {
      "cell_type": "code",
      "source": [
        "!pip install --upgrade transformers\n",
        "!pip install --upgrade datasets"
      ],
      "metadata": {
        "colab": {
          "base_uri": "https://localhost:8080/",
          "height": 1000
        },
        "id": "NlSpd81wNhAS",
        "outputId": "a0396c50-7f05-4f69-a796-9fdbb48d00b1"
      },
      "execution_count": 29,
      "outputs": [
        {
          "output_type": "stream",
          "name": "stdout",
          "text": [
            "Looking in indexes: https://pypi.org/simple, https://us-python.pkg.dev/colab-wheels/public/simple/\n",
            "Collecting transformers\n",
            "  Downloading transformers-4.26.0-py3-none-any.whl (6.3 MB)\n",
            "\u001b[2K     \u001b[90m━━━━━━━━━━━━━━━━━━━━━━━━━━━━━━━━━━━━━━━━\u001b[0m \u001b[32m6.3/6.3 MB\u001b[0m \u001b[31m45.1 MB/s\u001b[0m eta \u001b[36m0:00:00\u001b[0m\n",
            "\u001b[?25hRequirement already satisfied: filelock in /usr/local/lib/python3.8/dist-packages (from transformers) (3.9.0)\n",
            "Requirement already satisfied: requests in /usr/local/lib/python3.8/dist-packages (from transformers) (2.25.1)\n",
            "Collecting tokenizers!=0.11.3,<0.14,>=0.11.1\n",
            "  Downloading tokenizers-0.13.2-cp38-cp38-manylinux_2_17_x86_64.manylinux2014_x86_64.whl (7.6 MB)\n",
            "\u001b[2K     \u001b[90m━━━━━━━━━━━━━━━━━━━━━━━━━━━━━━━━━━━━━━━━\u001b[0m \u001b[32m7.6/7.6 MB\u001b[0m \u001b[31m77.6 MB/s\u001b[0m eta \u001b[36m0:00:00\u001b[0m\n",
            "\u001b[?25hRequirement already satisfied: tqdm>=4.27 in /usr/local/lib/python3.8/dist-packages (from transformers) (4.64.1)\n",
            "Requirement already satisfied: regex!=2019.12.17 in /usr/local/lib/python3.8/dist-packages (from transformers) (2022.6.2)\n",
            "Requirement already satisfied: packaging>=20.0 in /usr/local/lib/python3.8/dist-packages (from transformers) (23.0)\n",
            "Requirement already satisfied: numpy>=1.17 in /usr/local/lib/python3.8/dist-packages (from transformers) (1.21.6)\n",
            "Requirement already satisfied: pyyaml>=5.1 in /usr/local/lib/python3.8/dist-packages (from transformers) (6.0)\n",
            "Collecting huggingface-hub<1.0,>=0.11.0\n",
            "  Downloading huggingface_hub-0.12.0-py3-none-any.whl (190 kB)\n",
            "\u001b[2K     \u001b[90m━━━━━━━━━━━━━━━━━━━━━━━━━━━━━━━━━━━━━━\u001b[0m \u001b[32m190.3/190.3 KB\u001b[0m \u001b[31m18.8 MB/s\u001b[0m eta \u001b[36m0:00:00\u001b[0m\n",
            "\u001b[?25hRequirement already satisfied: typing-extensions>=3.7.4.3 in /usr/local/lib/python3.8/dist-packages (from huggingface-hub<1.0,>=0.11.0->transformers) (4.4.0)\n",
            "Requirement already satisfied: urllib3<1.27,>=1.21.1 in /usr/local/lib/python3.8/dist-packages (from requests->transformers) (1.24.3)\n",
            "Requirement already satisfied: certifi>=2017.4.17 in /usr/local/lib/python3.8/dist-packages (from requests->transformers) (2022.12.7)\n",
            "Requirement already satisfied: chardet<5,>=3.0.2 in /usr/local/lib/python3.8/dist-packages (from requests->transformers) (4.0.0)\n",
            "Requirement already satisfied: idna<3,>=2.5 in /usr/local/lib/python3.8/dist-packages (from requests->transformers) (2.10)\n",
            "Installing collected packages: tokenizers, huggingface-hub, transformers\n",
            "Successfully installed huggingface-hub-0.12.0 tokenizers-0.13.2 transformers-4.26.0\n",
            "Looking in indexes: https://pypi.org/simple, https://us-python.pkg.dev/colab-wheels/public/simple/\n",
            "Collecting datasets\n",
            "  Downloading datasets-2.9.0-py3-none-any.whl (462 kB)\n",
            "\u001b[2K     \u001b[90m━━━━━━━━━━━━━━━━━━━━━━━━━━━━━━━━━━━━━━━\u001b[0m \u001b[32m462.8/462.8 KB\u001b[0m \u001b[31m9.7 MB/s\u001b[0m eta \u001b[36m0:00:00\u001b[0m\n",
            "\u001b[?25hRequirement already satisfied: tqdm>=4.62.1 in /usr/local/lib/python3.8/dist-packages (from datasets) (4.64.1)\n",
            "Requirement already satisfied: fsspec[http]>=2021.11.1 in /usr/local/lib/python3.8/dist-packages (from datasets) (2023.1.0)\n",
            "Collecting multiprocess\n",
            "  Downloading multiprocess-0.70.14-py38-none-any.whl (132 kB)\n",
            "\u001b[2K     \u001b[90m━━━━━━━━━━━━━━━━━━━━━━━━━━━━━━━━━━━━━━\u001b[0m \u001b[32m132.0/132.0 KB\u001b[0m \u001b[31m13.9 MB/s\u001b[0m eta \u001b[36m0:00:00\u001b[0m\n",
            "\u001b[?25hRequirement already satisfied: pyarrow>=6.0.0 in /usr/local/lib/python3.8/dist-packages (from datasets) (9.0.0)\n",
            "Requirement already satisfied: packaging in /usr/local/lib/python3.8/dist-packages (from datasets) (23.0)\n",
            "Collecting responses<0.19\n",
            "  Downloading responses-0.18.0-py3-none-any.whl (38 kB)\n",
            "Requirement already satisfied: pyyaml>=5.1 in /usr/local/lib/python3.8/dist-packages (from datasets) (6.0)\n",
            "Requirement already satisfied: dill<0.3.7 in /usr/local/lib/python3.8/dist-packages (from datasets) (0.3.6)\n",
            "Requirement already satisfied: requests>=2.19.0 in /usr/local/lib/python3.8/dist-packages (from datasets) (2.25.1)\n",
            "Collecting xxhash\n",
            "  Downloading xxhash-3.2.0-cp38-cp38-manylinux_2_17_x86_64.manylinux2014_x86_64.whl (213 kB)\n",
            "\u001b[2K     \u001b[90m━━━━━━━━━━━━━━━━━━━━━━━━━━━━━━━━━━━━━━\u001b[0m \u001b[32m213.0/213.0 KB\u001b[0m \u001b[31m23.0 MB/s\u001b[0m eta \u001b[36m0:00:00\u001b[0m\n",
            "\u001b[?25hRequirement already satisfied: numpy>=1.17 in /usr/local/lib/python3.8/dist-packages (from datasets) (1.21.6)\n",
            "Requirement already satisfied: pandas in /usr/local/lib/python3.8/dist-packages (from datasets) (1.3.5)\n",
            "Requirement already satisfied: aiohttp in /usr/local/lib/python3.8/dist-packages (from datasets) (3.8.3)\n",
            "Requirement already satisfied: huggingface-hub<1.0.0,>=0.2.0 in /usr/local/lib/python3.8/dist-packages (from datasets) (0.12.0)\n",
            "Requirement already satisfied: aiosignal>=1.1.2 in /usr/local/lib/python3.8/dist-packages (from aiohttp->datasets) (1.3.1)\n",
            "Requirement already satisfied: multidict<7.0,>=4.5 in /usr/local/lib/python3.8/dist-packages (from aiohttp->datasets) (6.0.4)\n",
            "Requirement already satisfied: yarl<2.0,>=1.0 in /usr/local/lib/python3.8/dist-packages (from aiohttp->datasets) (1.8.2)\n",
            "Requirement already satisfied: frozenlist>=1.1.1 in /usr/local/lib/python3.8/dist-packages (from aiohttp->datasets) (1.3.3)\n",
            "Requirement already satisfied: attrs>=17.3.0 in /usr/local/lib/python3.8/dist-packages (from aiohttp->datasets) (22.2.0)\n",
            "Requirement already satisfied: charset-normalizer<3.0,>=2.0 in /usr/local/lib/python3.8/dist-packages (from aiohttp->datasets) (2.1.1)\n",
            "Requirement already satisfied: async-timeout<5.0,>=4.0.0a3 in /usr/local/lib/python3.8/dist-packages (from aiohttp->datasets) (4.0.2)\n",
            "Requirement already satisfied: typing-extensions>=3.7.4.3 in /usr/local/lib/python3.8/dist-packages (from huggingface-hub<1.0.0,>=0.2.0->datasets) (4.4.0)\n",
            "Requirement already satisfied: filelock in /usr/local/lib/python3.8/dist-packages (from huggingface-hub<1.0.0,>=0.2.0->datasets) (3.9.0)\n",
            "Requirement already satisfied: idna<3,>=2.5 in /usr/local/lib/python3.8/dist-packages (from requests>=2.19.0->datasets) (2.10)\n",
            "Requirement already satisfied: urllib3<1.27,>=1.21.1 in /usr/local/lib/python3.8/dist-packages (from requests>=2.19.0->datasets) (1.24.3)\n",
            "Requirement already satisfied: chardet<5,>=3.0.2 in /usr/local/lib/python3.8/dist-packages (from requests>=2.19.0->datasets) (4.0.0)\n",
            "Requirement already satisfied: certifi>=2017.4.17 in /usr/local/lib/python3.8/dist-packages (from requests>=2.19.0->datasets) (2022.12.7)\n",
            "Collecting urllib3<1.27,>=1.21.1\n",
            "  Downloading urllib3-1.26.14-py2.py3-none-any.whl (140 kB)\n",
            "\u001b[2K     \u001b[90m━━━━━━━━━━━━━━━━━━━━━━━━━━━━━━━━━━━━━━\u001b[0m \u001b[32m140.6/140.6 KB\u001b[0m \u001b[31m13.7 MB/s\u001b[0m eta \u001b[36m0:00:00\u001b[0m\n",
            "\u001b[?25hRequirement already satisfied: python-dateutil>=2.7.3 in /usr/local/lib/python3.8/dist-packages (from pandas->datasets) (2.8.2)\n",
            "Requirement already satisfied: pytz>=2017.3 in /usr/local/lib/python3.8/dist-packages (from pandas->datasets) (2022.7.1)\n",
            "Requirement already satisfied: six>=1.5 in /usr/local/lib/python3.8/dist-packages (from python-dateutil>=2.7.3->pandas->datasets) (1.15.0)\n",
            "Installing collected packages: xxhash, urllib3, multiprocess, responses, datasets\n",
            "  Attempting uninstall: urllib3\n",
            "    Found existing installation: urllib3 1.24.3\n",
            "    Uninstalling urllib3-1.24.3:\n",
            "      Successfully uninstalled urllib3-1.24.3\n",
            "Successfully installed datasets-2.9.0 multiprocess-0.70.14 responses-0.18.0 urllib3-1.26.14 xxhash-3.2.0\n"
          ]
        },
        {
          "output_type": "display_data",
          "data": {
            "application/vnd.colab-display-data+json": {
              "pip_warning": {
                "packages": [
                  "urllib3"
                ]
              }
            }
          },
          "metadata": {}
        }
      ]
    },
    {
      "cell_type": "code",
      "source": [
        "#import packages \n",
        "import pandas as pd\n",
        "import numpy as np\n",
        "import scipy\n",
        "\n",
        "\n",
        "#import plot \n",
        "from pathlib import Path\n",
        "import matplotlib.pyplot as plt\n",
        "import matplotlib.image as mpimg\n",
        "from IPython.display import Image\n",
        "%matplotlib inline\n",
        "from PIL import Image\n",
        "import PIL.Image\n",
        "import seaborn as sns\n",
        "from tabulate import tabulate\n",
        "import os\n",
        "\n",
        "#import keras and tenserflow and pydicom\n",
        "import keras\n",
        "import pydicom\n",
        "import keras_tuner as kt\n",
        "from keras import layers\n",
        "from kerastuner import RandomSearch\n",
        "from tensorflow.keras.layers import Dropout\n",
        "from tensorflow.keras.regularizers import L1\n",
        "from tensorflow.keras.regularizers import L2\n",
        "from tensorflow.keras.optimizers import Adam\n",
        "from kerastuner.engine.hyperparameters import HyperParameters\n",
        "\n",
        "\n",
        "#import tenserflow functions\n",
        "import tensorflow as tf\n",
        "from tensorflow.keras.preprocessing import image\n",
        "from tensorflow.keras.utils import to_categorical\n",
        "from tensorflow.keras.models import Sequential\n",
        "from tensorflow.keras.layers import Dense # creates densely connected layer object\n",
        "from tensorflow.keras.layers import Flatten # takes 2D input and turns into 1D array\n",
        "from tensorflow.keras.layers import Conv2D # convolution layer\n",
        "from tensorflow.keras.layers import MaxPooling2D # max pooling layer\n",
        "from tensorflow.keras.preprocessing.image import ImageDataGenerator\n",
        "from keras.layers import Dense, Activation, Flatten, Dropout, BatchNormalization\n",
        "\n",
        "\n"
      ],
      "metadata": {
        "id": "ucxWiFiglXiU"
      },
      "execution_count": 30,
      "outputs": []
    },
    {
      "cell_type": "markdown",
      "source": [
        "#Import Data"
      ],
      "metadata": {
        "id": "DjiRCnKGoRxZ"
      }
    },
    {
      "cell_type": "code",
      "source": [
        "#load the data \n",
        "import opendatasets as od\n",
        "od.download(\"https://www.kaggle.com/datasets/csafrit2/plant-leaves-for-image-classification?select=Plants_2\", force=True)"
      ],
      "metadata": {
        "colab": {
          "base_uri": "https://localhost:8080/"
        },
        "id": "ZCxWYHuUouTs",
        "outputId": "15488526-ff0d-4718-984d-547be0b17d2c"
      },
      "execution_count": 6,
      "outputs": [
        {
          "output_type": "stream",
          "name": "stdout",
          "text": [
            "Please provide your Kaggle credentials to download this dataset. Learn more: http://bit.ly/kaggle-creds\n",
            "Your Kaggle username: arunmalik78\n",
            "Your Kaggle Key: ··········\n",
            "Downloading plant-leaves-for-image-classification.zip to ./plant-leaves-for-image-classification\n"
          ]
        },
        {
          "output_type": "stream",
          "name": "stderr",
          "text": [
            "100%|██████████| 6.56G/6.56G [01:02<00:00, 113MB/s]\n"
          ]
        },
        {
          "output_type": "stream",
          "name": "stdout",
          "text": [
            "\n"
          ]
        }
      ]
    },
    {
      "cell_type": "code",
      "source": [
        "train_ds = keras.utils.image_dataset_from_directory(\n",
        "    directory='/content/plant-leaves-for-image-classification/Plants_2/train',\n",
        "    labels = 'inferred',\n",
        "    label_mode = 'categorical',\n",
        "    image_size = (256,256),\n",
        "    batch_size = 32)"
      ],
      "metadata": {
        "colab": {
          "base_uri": "https://localhost:8080/"
        },
        "id": "GryhUdXMvevF",
        "outputId": "75fbf1be-17ea-43de-9121-ab653ca2e87e"
      },
      "execution_count": 26,
      "outputs": [
        {
          "output_type": "stream",
          "name": "stdout",
          "text": [
            "Found 4274 files belonging to 22 classes.\n"
          ]
        }
      ]
    },
    {
      "cell_type": "code",
      "source": [
        "test_ds = keras.utils.image_dataset_from_directory(\n",
        "    directory='/content/plant-leaves-for-image-classification/Plants_2/test',\n",
        "    labels = 'inferred',\n",
        "    label_mode = 'categorical',\n",
        "    image_size = (256,256)\n",
        "    )"
      ],
      "metadata": {
        "colab": {
          "base_uri": "https://localhost:8080/"
        },
        "id": "DXw9daiHxwpq",
        "outputId": "d24e0c0d-f717-430c-d0a7-dfea03d219a4"
      },
      "execution_count": 8,
      "outputs": [
        {
          "output_type": "stream",
          "name": "stdout",
          "text": [
            "Found 110 files belonging to 22 classes.\n"
          ]
        }
      ]
    },
    {
      "cell_type": "code",
      "source": [
        "validation_ds = keras.utils.image_dataset_from_directory(\n",
        "    directory='/content/plant-leaves-for-image-classification/Plants_2/valid',\n",
        "    labels = 'inferred',\n",
        "    label_mode = 'categorical',\n",
        "    image_size = (256,256)\n",
        "    )"
      ],
      "metadata": {
        "colab": {
          "base_uri": "https://localhost:8080/"
        },
        "id": "DGANvpmF1QGU",
        "outputId": "da9d4d66-ff9e-4dfd-95e0-cc3b339b0568"
      },
      "execution_count": 9,
      "outputs": [
        {
          "output_type": "stream",
          "name": "stdout",
          "text": [
            "Found 110 files belonging to 22 classes.\n"
          ]
        }
      ]
    },
    {
      "cell_type": "code",
      "source": [
        "train_ds"
      ],
      "metadata": {
        "colab": {
          "base_uri": "https://localhost:8080/"
        },
        "id": "F1b6gSREK9My",
        "outputId": "93bb5111-bd37-429c-e42f-046285c162b6"
      },
      "execution_count": 33,
      "outputs": [
        {
          "output_type": "execute_result",
          "data": {
            "text/plain": [
              "<BatchDataset element_spec=(TensorSpec(shape=(None, 256, 256, 3), dtype=tf.float32, name=None), TensorSpec(shape=(None, 22), dtype=tf.float32, name=None))>"
            ]
          },
          "metadata": {},
          "execution_count": 33
        }
      ]
    },
    {
      "cell_type": "markdown",
      "source": [
        "#Create a base CNN Model"
      ],
      "metadata": {
        "id": "46M1Mclc5P3j"
      }
    },
    {
      "cell_type": "code",
      "source": [
        "#get the feature images and labels needed for model creation\n",
        "# features, labels = next(iter(train_ds))"
      ],
      "metadata": {
        "id": "_A7JtFHGZBGi"
      },
      "execution_count": null,
      "outputs": []
    },
    {
      "cell_type": "code",
      "source": [
        "base_model1 = Sequential()\n",
        "# define 3x3 filter window sizes. Create 32 filters.\n",
        "base_model1.add(Conv2D(filters=32,\n",
        "                        kernel_size=(3, 3), strides = (2,2),\n",
        "                        activation='relu',\n",
        "                        input_shape=(256, 256, 3)))\n",
        "\n",
        "# max pool in 2x2 window\n",
        "base_model1.add(MaxPooling2D(pool_size=(4, 4)))\n",
        "# define 3x3 filter window sizes. Create 64 filters.\n",
        "base_model1.add(Conv2D(64, (3, 3), activation='relu'))\n",
        "base_model1.add(MaxPooling2D((2, 2)))\n",
        "base_model1.add(Conv2D(128, (3, 3), activation='relu'))\n",
        "base_model1.add(MaxPooling2D((2, 2)))\n",
        "base_model1.add(Conv2D(256, (3, 3), activation='relu'))\n",
        "\n",
        "# transition to dense fully-connected part of network\n",
        "base_model1.add(Flatten())\n",
        "base_model1.add(Dense(64, activation='relu'))\n",
        "base_model1.add(Dense(22, activation='softmax'))"
      ],
      "metadata": {
        "id": "IueRCtd42d1B"
      },
      "execution_count": 34,
      "outputs": []
    },
    {
      "cell_type": "code",
      "source": [
        "base_model1.compile(optimizer='Adam', loss='categorical_crossentropy',  metrics=['accuracy'])"
      ],
      "metadata": {
        "id": "7yWIF4k75X85"
      },
      "execution_count": 36,
      "outputs": []
    },
    {
      "cell_type": "code",
      "source": [
        "history_cnn = base_model.fit(train_ds, epochs= 20, validation_data= validation_ds)"
      ],
      "metadata": {
        "colab": {
          "base_uri": "https://localhost:8080/"
        },
        "id": "bBUiNhCl5qbB",
        "outputId": "d63d0666-f7d3-4e48-fc2a-a185031e5dcf"
      },
      "execution_count": 40,
      "outputs": [
        {
          "output_type": "stream",
          "name": "stdout",
          "text": [
            "Epoch 1/20\n",
            "134/134 [==============================] - 49s 342ms/step - loss: 0.0975 - accuracy: 0.9705 - val_loss: 2.4547 - val_accuracy: 0.6636\n",
            "Epoch 2/20\n",
            "134/134 [==============================] - 48s 341ms/step - loss: 0.1629 - accuracy: 0.9469 - val_loss: 3.3705 - val_accuracy: 0.6000\n",
            "Epoch 3/20\n",
            "134/134 [==============================] - 48s 340ms/step - loss: 0.1161 - accuracy: 0.9644 - val_loss: 1.8374 - val_accuracy: 0.7273\n",
            "Epoch 4/20\n",
            "134/134 [==============================] - 49s 340ms/step - loss: 0.0919 - accuracy: 0.9715 - val_loss: 1.7935 - val_accuracy: 0.7000\n",
            "Epoch 5/20\n",
            "134/134 [==============================] - 49s 342ms/step - loss: 0.1037 - accuracy: 0.9677 - val_loss: 2.4868 - val_accuracy: 0.7000\n",
            "Epoch 6/20\n",
            "134/134 [==============================] - 49s 340ms/step - loss: 0.0626 - accuracy: 0.9820 - val_loss: 1.9251 - val_accuracy: 0.7091\n",
            "Epoch 7/20\n",
            "134/134 [==============================] - 49s 345ms/step - loss: 0.0674 - accuracy: 0.9771 - val_loss: 2.0082 - val_accuracy: 0.7455\n",
            "Epoch 8/20\n",
            "134/134 [==============================] - 49s 342ms/step - loss: 0.0402 - accuracy: 0.9853 - val_loss: 2.7285 - val_accuracy: 0.6727\n",
            "Epoch 9/20\n",
            "134/134 [==============================] - 49s 344ms/step - loss: 0.1628 - accuracy: 0.9558 - val_loss: 2.1197 - val_accuracy: 0.6636\n",
            "Epoch 10/20\n",
            "134/134 [==============================] - 49s 344ms/step - loss: 0.1543 - accuracy: 0.9504 - val_loss: 2.2755 - val_accuracy: 0.6091\n",
            "Epoch 11/20\n",
            "134/134 [==============================] - 53s 369ms/step - loss: 0.1777 - accuracy: 0.9450 - val_loss: 2.4237 - val_accuracy: 0.7091\n",
            "Epoch 12/20\n",
            "134/134 [==============================] - 49s 342ms/step - loss: 0.0255 - accuracy: 0.9920 - val_loss: 2.6587 - val_accuracy: 0.6909\n",
            "Epoch 13/20\n",
            "134/134 [==============================] - 49s 344ms/step - loss: 0.0087 - accuracy: 0.9979 - val_loss: 2.6621 - val_accuracy: 0.6636\n",
            "Epoch 14/20\n",
            "134/134 [==============================] - 49s 343ms/step - loss: 0.0683 - accuracy: 0.9799 - val_loss: 4.2479 - val_accuracy: 0.6545\n",
            "Epoch 15/20\n",
            "134/134 [==============================] - 49s 345ms/step - loss: 0.0815 - accuracy: 0.9731 - val_loss: 3.7851 - val_accuracy: 0.6636\n",
            "Epoch 16/20\n",
            "134/134 [==============================] - 49s 342ms/step - loss: 0.0982 - accuracy: 0.9710 - val_loss: 3.5333 - val_accuracy: 0.7091\n",
            "Epoch 17/20\n",
            "134/134 [==============================] - 50s 346ms/step - loss: 0.1399 - accuracy: 0.9591 - val_loss: 2.5017 - val_accuracy: 0.6364\n",
            "Epoch 18/20\n",
            "134/134 [==============================] - 49s 345ms/step - loss: 0.0787 - accuracy: 0.9754 - val_loss: 2.9220 - val_accuracy: 0.6545\n",
            "Epoch 19/20\n",
            "134/134 [==============================] - 49s 344ms/step - loss: 0.0391 - accuracy: 0.9897 - val_loss: 3.3439 - val_accuracy: 0.6727\n",
            "Epoch 20/20\n",
            "134/134 [==============================] - 49s 344ms/step - loss: 0.0324 - accuracy: 0.9897 - val_loss: 3.5900 - val_accuracy: 0.6364\n"
          ]
        }
      ]
    },
    {
      "cell_type": "code",
      "source": [
        "train_cnn_history = pd.DataFrame(history_cnn.history)\n",
        "train_cnn_history.index.name = 'epochs'\n",
        "\n",
        "col_list = ['loss', 'val_loss']\n",
        "train_cnn_history[col_list].plot()\n",
        "plt.ylabel('Categorical cross entropy')\n",
        "plt.title('Training loss history')\n",
        "plt.show()"
      ],
      "metadata": {
        "colab": {
          "base_uri": "https://localhost:8080/",
          "height": 295
        },
        "id": "Aitj47MV-Ew6",
        "outputId": "82364a79-f7bc-43e2-cd5e-1f4a305f4efe"
      },
      "execution_count": 41,
      "outputs": [
        {
          "output_type": "display_data",
          "data": {
            "text/plain": [
              "<Figure size 432x288 with 1 Axes>"
            ],
            "image/png": "[encoded data removed]"
          },
          "metadata": {
            "needs_background": "light"
          }
        }
      ]
    },
    {
      "cell_type": "code",
      "source": [
        "col_list = ['accuracy', 'val_accuracy']\n",
        "train_cnn_history[col_list].plot()\n",
        "plt.ylabel('Accuracy')\n",
        "plt.title('Training loss history')\n",
        "plt.show()"
      ],
      "metadata": {
        "colab": {
          "base_uri": "https://localhost:8080/",
          "height": 295
        },
        "id": "WkmJcsc_PjLQ",
        "outputId": "c7ebbf87-f979-4911-fa71-90a7ddbf1549"
      },
      "execution_count": 42,
      "outputs": [
        {
          "output_type": "display_data",
          "data": {
            "text/plain": [
              "<Figure size 432x288 with 1 Axes>"
            ],
            "image/png": "[encoded data removed]"
          },
          "metadata": {
            "needs_background": "light"
          }
        }
      ]
    },
    {
      "cell_type": "code",
      "source": [
        "base_model1.save('BaseModel.h5')"
      ],
      "metadata": {
        "id": "wNrhgLaO-c3Y"
      },
      "execution_count": null,
      "outputs": []
    },
    {
      "cell_type": "markdown",
      "source": [
        "#Building in a simpler base model because of over fitting "
      ],
      "metadata": {
        "id": "yF6dlxz_mcia"
      }
    },
    {
      "cell_type": "code",
      "source": [
        "base_model2 = Sequential()\n",
        "# define 3x3 filter window sizes. Create 32 filters.\n",
        "base_model2.add(Conv2D(filters=32,\n",
        "                        kernel_size=(3, 3), strides = (2,2),\n",
        "                        activation='relu',\n",
        "                        input_shape=(256, 256, 3)))\n",
        "\n",
        "# max pool in 2x2 window\n",
        "# define 3x3 filter window sizes. Create 64 filters.\n",
        "base_model2.add(Conv2D(32, (3, 3), activation='relu'))\n",
        "base_model2.add(MaxPooling2D((2, 2)))\n",
        "base_model2.add(Conv2D(32, (3, 3), activation='relu'))\n",
        "\n",
        "# transition to dense fully-connected part of network\n",
        "base_model2.add(Flatten())\n",
        "base_model2.add(Dense(32, activation='relu'))\n",
        "base_model2.add(Dense(22, activation='softmax'))"
      ],
      "metadata": {
        "id": "JonLGT9AmSnJ"
      },
      "execution_count": 77,
      "outputs": []
    },
    {
      "cell_type": "code",
      "source": [
        "base_model2.compile(optimizer='Adam', loss='categorical_crossentropy',  metrics=['accuracy'])"
      ],
      "metadata": {
        "id": "deDRtXJMmSre"
      },
      "execution_count": 78,
      "outputs": []
    },
    {
      "cell_type": "code",
      "source": [
        "history_cnn = base_model2.fit(train_ds, epochs= 20, validation_data= validation_ds)"
      ],
      "metadata": {
        "colab": {
          "base_uri": "https://localhost:8080/"
        },
        "id": "zNSMtxBimSvZ",
        "outputId": "72a55c12-9d29-485f-da94-2b393ef6f32e"
      },
      "execution_count": 79,
      "outputs": [
        {
          "output_type": "stream",
          "name": "stdout",
          "text": [
            "Epoch 1/20\n",
            "134/134 [==============================] - 54s 376ms/step - loss: 2.9115 - accuracy: 0.2204 - val_loss: 2.3511 - val_accuracy: 0.2545\n",
            "Epoch 2/20\n",
            "134/134 [==============================] - 54s 379ms/step - loss: 1.5758 - accuracy: 0.5005 - val_loss: 1.8163 - val_accuracy: 0.4455\n",
            "Epoch 3/20\n",
            "134/134 [==============================] - 51s 357ms/step - loss: 1.1326 - accuracy: 0.6376 - val_loss: 1.5795 - val_accuracy: 0.5364\n",
            "Epoch 4/20\n",
            "134/134 [==============================] - 54s 375ms/step - loss: 0.8885 - accuracy: 0.7183 - val_loss: 2.1132 - val_accuracy: 0.5909\n",
            "Epoch 5/20\n",
            "134/134 [==============================] - 54s 377ms/step - loss: 0.6977 - accuracy: 0.7784 - val_loss: 1.6484 - val_accuracy: 0.6364\n",
            "Epoch 6/20\n",
            "134/134 [==============================] - 54s 380ms/step - loss: 0.5635 - accuracy: 0.8168 - val_loss: 1.6971 - val_accuracy: 0.5909\n",
            "Epoch 7/20\n",
            "134/134 [==============================] - 53s 372ms/step - loss: 0.4625 - accuracy: 0.8456 - val_loss: 1.6479 - val_accuracy: 0.6545\n",
            "Epoch 8/20\n",
            "134/134 [==============================] - 54s 377ms/step - loss: 0.3782 - accuracy: 0.8744 - val_loss: 1.6454 - val_accuracy: 0.7000\n",
            "Epoch 9/20\n",
            "134/134 [==============================] - 56s 388ms/step - loss: 0.2867 - accuracy: 0.9064 - val_loss: 1.9317 - val_accuracy: 0.6455\n",
            "Epoch 10/20\n",
            "134/134 [==============================] - 55s 382ms/step - loss: 0.2577 - accuracy: 0.9137 - val_loss: 1.5432 - val_accuracy: 0.7182\n",
            "Epoch 11/20\n",
            "134/134 [==============================] - 56s 390ms/step - loss: 0.2176 - accuracy: 0.9275 - val_loss: 1.7491 - val_accuracy: 0.7636\n",
            "Epoch 12/20\n",
            "134/134 [==============================] - 54s 374ms/step - loss: 0.2271 - accuracy: 0.9242 - val_loss: 1.5968 - val_accuracy: 0.8000\n",
            "Epoch 13/20\n",
            "134/134 [==============================] - 54s 378ms/step - loss: 0.1573 - accuracy: 0.9471 - val_loss: 2.1878 - val_accuracy: 0.7091\n",
            "Epoch 14/20\n",
            "134/134 [==============================] - 50s 349ms/step - loss: 0.1846 - accuracy: 0.9382 - val_loss: 2.9195 - val_accuracy: 0.6364\n",
            "Epoch 15/20\n",
            "134/134 [==============================] - 51s 359ms/step - loss: 0.2229 - accuracy: 0.9216 - val_loss: 1.7834 - val_accuracy: 0.7727\n",
            "Epoch 16/20\n",
            "134/134 [==============================] - 49s 346ms/step - loss: 0.1391 - accuracy: 0.9591 - val_loss: 2.2850 - val_accuracy: 0.7182\n",
            "Epoch 17/20\n",
            "134/134 [==============================] - 51s 356ms/step - loss: 0.0781 - accuracy: 0.9740 - val_loss: 2.8876 - val_accuracy: 0.6545\n",
            "Epoch 18/20\n",
            "134/134 [==============================] - 51s 357ms/step - loss: 0.1360 - accuracy: 0.9541 - val_loss: 1.9307 - val_accuracy: 0.7364\n",
            "Epoch 19/20\n",
            "134/134 [==============================] - 51s 357ms/step - loss: 0.2424 - accuracy: 0.9125 - val_loss: 1.8597 - val_accuracy: 0.6727\n",
            "Epoch 20/20\n",
            "134/134 [==============================] - 52s 365ms/step - loss: 0.1079 - accuracy: 0.9654 - val_loss: 2.3282 - val_accuracy: 0.6364\n"
          ]
        }
      ]
    },
    {
      "cell_type": "code",
      "source": [
        "train_cnn_history = pd.DataFrame(history_cnn.history)\n",
        "train_cnn_history.index.name = 'epochs'\n",
        "\n",
        "col_list = ['loss', 'val_loss']\n",
        "train_cnn_history[col_list].plot()\n",
        "plt.ylabel('Categorical cross entropy')\n",
        "plt.title('Training loss history')\n",
        "plt.show()"
      ],
      "metadata": {
        "id": "5J5oZ2OMmSy4"
      },
      "execution_count": null,
      "outputs": []
    },
    {
      "cell_type": "code",
      "source": [
        "col_list = ['accuracy', 'val_accuracy']\n",
        "train_cnn_history[col_list].plot()\n",
        "plt.ylabel('Accuracy')\n",
        "plt.title('Training loss history')\n",
        "plt.show()"
      ],
      "metadata": {
        "id": "V3vp1r7DmS2Z"
      },
      "execution_count": null,
      "outputs": []
    },
    {
      "cell_type": "markdown",
      "source": [
        "#Use regularizer techniques "
      ],
      "metadata": {
        "id": "EhsCw-nNueBZ"
      }
    },
    {
      "cell_type": "markdown",
      "source": [
        "L1 (Lasso Regression)"
      ],
      "metadata": {
        "id": "QF48ozizuG6N"
      }
    },
    {
      "cell_type": "code",
      "source": [
        "reg = L1(0.1)"
      ],
      "metadata": {
        "id": "Ihi-QvZIuCmG"
      },
      "execution_count": 148,
      "outputs": []
    },
    {
      "cell_type": "code",
      "source": [
        "L1_model = Sequential()\n",
        "# define 3x3 filter window sizes. Create 32 filters.\n",
        "L1_model.add(Conv2D(filters=32,\n",
        "                        kernel_size=(3, 3), strides = (3,3),\n",
        "                        activation='relu',\n",
        "                        input_shape=(256, 256, 3)))\n",
        "\n",
        "# max pool in 2x2 window\n",
        "L1_model.add(MaxPooling2D(pool_size=(4, 4)))\n",
        "# define 3x3 filter window sizes. Create 64 filters.\n",
        "L1_model.add(Conv2D(32, (3, 3), activation='relu', kernel_regularizer = reg))\n",
        "L1_model.add(MaxPooling2D((2, 2)))\n",
        "L1_model.add(Conv2D(32, (3, 3), activation='relu', kernel_regularizer = reg))\n",
        "\n",
        "# transition to dense fully-connected part of network\n",
        "L1_model.add(Flatten())\n",
        "L1_model.add(Dense(64, activation='relu'))\n",
        "L1_model.add(Dense(22, activation='softmax'))"
      ],
      "metadata": {
        "id": "tolOzjc_uCpt"
      },
      "execution_count": 149,
      "outputs": []
    },
    {
      "cell_type": "code",
      "source": [
        "opt = Adam(learning_rate=0.0001, beta_1=0.9, beta_2=0.999, epsilon=1e-05)\n",
        "L1_model.compile(optimizer=opt, loss='categorical_crossentropy',  metrics=['accuracy'])"
      ],
      "metadata": {
        "id": "8F25zKVbuCvf"
      },
      "execution_count": 151,
      "outputs": []
    },
    {
      "cell_type": "code",
      "source": [
        "history_cnn = L1_model.fit(train_ds, epochs= 50, validation_data= validation_ds)"
      ],
      "metadata": {
        "colab": {
          "base_uri": "https://localhost:8080/"
        },
        "id": "tfegnRNfuCyr",
        "outputId": "c4bda972-a5b4-4d15-bfc8-3d62e6f6875f"
      },
      "execution_count": 152,
      "outputs": [
        {
          "output_type": "stream",
          "name": "stdout",
          "text": [
            "Epoch 1/50\n",
            "134/134 [==============================] - 46s 317ms/step - loss: 92.0673 - accuracy: 0.0842 - val_loss: 82.6464 - val_accuracy: 0.1364\n",
            "Epoch 2/50\n",
            "134/134 [==============================] - 46s 316ms/step - loss: 75.2322 - accuracy: 0.1472 - val_loss: 68.0675 - val_accuracy: 0.1909\n",
            "Epoch 3/50\n",
            "134/134 [==============================] - 47s 323ms/step - loss: 61.1754 - accuracy: 0.2232 - val_loss: 54.8041 - val_accuracy: 0.1909\n",
            "Epoch 4/50\n",
            "134/134 [==============================] - 46s 320ms/step - loss: 48.7291 - accuracy: 0.2836 - val_loss: 43.2908 - val_accuracy: 0.2182\n",
            "Epoch 5/50\n",
            "134/134 [==============================] - 46s 319ms/step - loss: 38.1989 - accuracy: 0.3418 - val_loss: 33.8705 - val_accuracy: 0.2636\n",
            "Epoch 6/50\n",
            "134/134 [==============================] - 47s 323ms/step - loss: 29.7338 - accuracy: 0.3933 - val_loss: 26.5250 - val_accuracy: 0.3091\n",
            "Epoch 7/50\n",
            "134/134 [==============================] - 48s 333ms/step - loss: 23.4168 - accuracy: 0.4478 - val_loss: 21.3186 - val_accuracy: 0.4636\n",
            "Epoch 8/50\n",
            "134/134 [==============================] - 47s 324ms/step - loss: 19.1993 - accuracy: 0.4904 - val_loss: 18.1758 - val_accuracy: 0.3818\n",
            "Epoch 9/50\n",
            "134/134 [==============================] - 47s 326ms/step - loss: 16.5857 - accuracy: 0.5262 - val_loss: 15.9482 - val_accuracy: 0.5000\n",
            "Epoch 10/50\n",
            "134/134 [==============================] - 46s 322ms/step - loss: 14.5821 - accuracy: 0.5569 - val_loss: 14.1180 - val_accuracy: 0.4818\n",
            "Epoch 11/50\n",
            "134/134 [==============================] - 46s 320ms/step - loss: 12.9393 - accuracy: 0.5653 - val_loss: 12.6101 - val_accuracy: 0.4545\n",
            "Epoch 12/50\n",
            "134/134 [==============================] - 45s 314ms/step - loss: 11.5325 - accuracy: 0.5882 - val_loss: 11.4042 - val_accuracy: 0.5182\n",
            "Epoch 13/50\n",
            "134/134 [==============================] - 46s 319ms/step - loss: 10.3372 - accuracy: 0.6072 - val_loss: 10.2748 - val_accuracy: 0.5000\n",
            "Epoch 14/50\n",
            "134/134 [==============================] - 50s 349ms/step - loss: 9.3298 - accuracy: 0.6125 - val_loss: 9.3107 - val_accuracy: 0.5091\n",
            "Epoch 15/50\n",
            "134/134 [==============================] - 45s 312ms/step - loss: 8.4441 - accuracy: 0.6383 - val_loss: 8.4792 - val_accuracy: 0.5000\n",
            "Epoch 16/50\n",
            "134/134 [==============================] - 46s 323ms/step - loss: 7.7124 - accuracy: 0.6418 - val_loss: 7.8425 - val_accuracy: 0.5455\n",
            "Epoch 17/50\n",
            "134/134 [==============================] - 49s 339ms/step - loss: 7.0474 - accuracy: 0.6544 - val_loss: 7.2685 - val_accuracy: 0.5455\n",
            "Epoch 18/50\n",
            "134/134 [==============================] - 45s 315ms/step - loss: 6.5201 - accuracy: 0.6481 - val_loss: 6.7200 - val_accuracy: 0.5545\n",
            "Epoch 19/50\n",
            "134/134 [==============================] - 49s 343ms/step - loss: 5.9971 - accuracy: 0.6692 - val_loss: 6.2954 - val_accuracy: 0.5455\n",
            "Epoch 20/50\n",
            "134/134 [==============================] - 47s 326ms/step - loss: 5.6054 - accuracy: 0.6537 - val_loss: 5.9164 - val_accuracy: 0.4909\n",
            "Epoch 21/50\n",
            "134/134 [==============================] - 46s 318ms/step - loss: 5.2153 - accuracy: 0.6689 - val_loss: 5.5354 - val_accuracy: 0.5364\n",
            "Epoch 22/50\n",
            "134/134 [==============================] - 48s 332ms/step - loss: 4.8841 - accuracy: 0.6783 - val_loss: 5.1982 - val_accuracy: 0.6000\n",
            "Epoch 23/50\n",
            "134/134 [==============================] - 47s 329ms/step - loss: 4.5793 - accuracy: 0.6825 - val_loss: 4.9321 - val_accuracy: 0.5636\n",
            "Epoch 24/50\n",
            "134/134 [==============================] - 51s 358ms/step - loss: 4.3251 - accuracy: 0.6839 - val_loss: 4.8399 - val_accuracy: 0.5091\n",
            "Epoch 25/50\n",
            "134/134 [==============================] - 55s 382ms/step - loss: 4.0963 - accuracy: 0.6912 - val_loss: 4.6913 - val_accuracy: 0.5273\n",
            "Epoch 26/50\n",
            "134/134 [==============================] - 46s 320ms/step - loss: 3.8933 - accuracy: 0.6876 - val_loss: 4.2692 - val_accuracy: 0.5455\n",
            "Epoch 27/50\n",
            "134/134 [==============================] - 46s 318ms/step - loss: 3.7049 - accuracy: 0.6998 - val_loss: 4.2256 - val_accuracy: 0.4727\n",
            "Epoch 28/50\n",
            "134/134 [==============================] - 45s 315ms/step - loss: 3.5337 - accuracy: 0.7010 - val_loss: 3.9782 - val_accuracy: 0.5455\n",
            "Epoch 29/50\n",
            "134/134 [==============================] - 49s 343ms/step - loss: 3.3830 - accuracy: 0.7120 - val_loss: 3.7752 - val_accuracy: 0.5636\n",
            "Epoch 30/50\n",
            "134/134 [==============================] - 47s 328ms/step - loss: 3.2375 - accuracy: 0.7050 - val_loss: 3.6507 - val_accuracy: 0.5636\n",
            "Epoch 31/50\n",
            "134/134 [==============================] - 45s 316ms/step - loss: 3.1169 - accuracy: 0.7033 - val_loss: 3.5974 - val_accuracy: 0.5455\n",
            "Epoch 32/50\n",
            "134/134 [==============================] - 47s 328ms/step - loss: 3.0181 - accuracy: 0.7066 - val_loss: 3.4540 - val_accuracy: 0.5727\n",
            "Epoch 33/50\n",
            "134/134 [==============================] - 47s 322ms/step - loss: 2.8831 - accuracy: 0.7209 - val_loss: 3.2623 - val_accuracy: 0.5727\n",
            "Epoch 34/50\n",
            "134/134 [==============================] - 45s 313ms/step - loss: 2.8041 - accuracy: 0.7181 - val_loss: 3.3547 - val_accuracy: 0.5273\n",
            "Epoch 35/50\n",
            "134/134 [==============================] - 46s 317ms/step - loss: 2.6876 - accuracy: 0.7279 - val_loss: 3.2197 - val_accuracy: 0.5727\n",
            "Epoch 36/50\n",
            "134/134 [==============================] - 45s 314ms/step - loss: 2.6040 - accuracy: 0.7342 - val_loss: 3.0036 - val_accuracy: 0.5727\n",
            "Epoch 37/50\n",
            "134/134 [==============================] - 45s 313ms/step - loss: 2.5367 - accuracy: 0.7277 - val_loss: 2.9613 - val_accuracy: 0.5818\n",
            "Epoch 38/50\n",
            "134/134 [==============================] - 44s 308ms/step - loss: 2.4705 - accuracy: 0.7337 - val_loss: 2.8964 - val_accuracy: 0.6000\n",
            "Epoch 39/50\n",
            "134/134 [==============================] - 51s 355ms/step - loss: 2.3874 - accuracy: 0.7422 - val_loss: 2.9114 - val_accuracy: 0.5909\n",
            "Epoch 40/50\n",
            "134/134 [==============================] - 46s 323ms/step - loss: 2.3119 - accuracy: 0.7504 - val_loss: 2.7038 - val_accuracy: 0.5818\n",
            "Epoch 41/50\n",
            "134/134 [==============================] - 46s 320ms/step - loss: 2.2592 - accuracy: 0.7522 - val_loss: 2.8030 - val_accuracy: 0.5727\n",
            "Epoch 42/50\n",
            "134/134 [==============================] - 51s 354ms/step - loss: 2.1993 - accuracy: 0.7541 - val_loss: 2.5575 - val_accuracy: 0.6364\n",
            "Epoch 43/50\n",
            "134/134 [==============================] - 53s 361ms/step - loss: 2.1476 - accuracy: 0.7564 - val_loss: 2.5441 - val_accuracy: 0.6364\n",
            "Epoch 44/50\n",
            "134/134 [==============================] - 46s 316ms/step - loss: 2.0852 - accuracy: 0.7623 - val_loss: 2.6741 - val_accuracy: 0.5818\n",
            "Epoch 45/50\n",
            "134/134 [==============================] - 47s 330ms/step - loss: 2.0452 - accuracy: 0.7581 - val_loss: 2.5311 - val_accuracy: 0.6273\n",
            "Epoch 46/50\n",
            "134/134 [==============================] - 46s 317ms/step - loss: 1.9941 - accuracy: 0.7635 - val_loss: 2.3424 - val_accuracy: 0.6091\n",
            "Epoch 47/50\n",
            "134/134 [==============================] - 46s 321ms/step - loss: 1.9478 - accuracy: 0.7707 - val_loss: 2.3942 - val_accuracy: 0.5727\n",
            "Epoch 48/50\n",
            "134/134 [==============================] - 47s 321ms/step - loss: 1.9232 - accuracy: 0.7672 - val_loss: 2.3138 - val_accuracy: 0.6273\n",
            "Epoch 49/50\n",
            "134/134 [==============================] - 47s 331ms/step - loss: 1.8676 - accuracy: 0.7808 - val_loss: 2.3057 - val_accuracy: 0.6000\n",
            "Epoch 50/50\n",
            "134/134 [==============================] - 45s 314ms/step - loss: 1.8309 - accuracy: 0.7735 - val_loss: 2.3215 - val_accuracy: 0.5909\n"
          ]
        }
      ]
    },
    {
      "cell_type": "code",
      "source": [
        "train_cnn_history = pd.DataFrame(history_cnn.history)\n",
        "train_cnn_history.index.name = 'epochs'\n",
        "\n",
        "col_list = ['loss', 'val_loss']\n",
        "train_cnn_history[col_list].plot()\n",
        "plt.ylabel('Categorical cross entropy')\n",
        "plt.title('Training loss history')\n",
        "plt.show()"
      ],
      "metadata": {
        "colab": {
          "base_uri": "https://localhost:8080/",
          "height": 295
        },
        "id": "vehsogSEvJFs",
        "outputId": "cb7afb43-782f-4d0d-c99a-cce7ad4865c3"
      },
      "execution_count": 153,
      "outputs": [
        {
          "output_type": "display_data",
          "data": {
            "text/plain": [
              "<Figure size 432x288 with 1 Axes>"
            ],
            "image/png": "[encoded data removed]"
          },
          "metadata": {
            "needs_background": "light"
          }
        }
      ]
    },
    {
      "cell_type": "code",
      "source": [
        "col_list = ['accuracy', 'val_accuracy']\n",
        "train_cnn_history[col_list].plot()\n",
        "plt.ylabel('Accuracy')\n",
        "plt.title('Training loss history')\n",
        "plt.show()"
      ],
      "metadata": {
        "colab": {
          "base_uri": "https://localhost:8080/",
          "height": 295
        },
        "id": "s0m9bbpfvJIb",
        "outputId": "ac04ead6-635b-494b-e10f-9a3fb6cd6f77"
      },
      "execution_count": 154,
      "outputs": [
        {
          "output_type": "display_data",
          "data": {
            "text/plain": [
              "<Figure size 432x288 with 1 Axes>"
            ],
            "image/png": "[encoded data removed]"
          },
          "metadata": {
            "needs_background": "light"
          }
        }
      ]
    },
    {
      "cell_type": "markdown",
      "source": [
        "#Model 3 using L2 (Ridge Regression) regularizer"
      ],
      "metadata": {
        "id": "13CYYmPEl7FN"
      }
    },
    {
      "cell_type": "code",
      "source": [
        "reg = L2(1e-3)"
      ],
      "metadata": {
        "id": "zyOqj0Q_bsY-"
      },
      "execution_count": 127,
      "outputs": []
    },
    {
      "cell_type": "code",
      "source": [
        "model3 = Sequential()\n",
        "# define 3x3 filter window sizes. Create 32 filters.\n",
        "model3.add(Conv2D(filters=32,\n",
        "                        kernel_size=(3, 3), strides = (2,2),\n",
        "                        activation='relu',\n",
        "                        input_shape=(256, 256, 3)))\n",
        "\n",
        "# max pool in 2x2 window\n",
        "model3.add(MaxPooling2D(pool_size=(4, 4)))\n",
        "# define 3x3 filter window sizes. Create 64 filters.\n",
        "model3.add(Conv2D(64, (3, 3), activation='relu', kernel_regularizer = reg))\n",
        "model3.add(MaxPooling2D((2, 2)))\n",
        "model3.add(Conv2D(128, (3, 3), activation='relu', kernel_regularizer = reg))\n",
        "model3.add(MaxPooling2D((2, 2)))\n",
        "model3.add(Conv2D(256, (3, 3), activation='relu', kernel_regularizer = reg))\n",
        "\n",
        "# transition to dense fully-connected part of network\n",
        "model3.add(Flatten())\n",
        "model3.add(Dense(64, activation='relu'))\n",
        "model3.add(Dense(22, activation='softmax'))\n",
        "\n",
        "\n"
      ],
      "metadata": {
        "id": "ofABLec6mQn1"
      },
      "execution_count": 128,
      "outputs": []
    },
    {
      "cell_type": "code",
      "source": [
        "model3.compile(optimizer=opt, loss='categorical_crossentropy',  metrics=['accuracy'])"
      ],
      "metadata": {
        "id": "tRSuspJqmmx0"
      },
      "execution_count": 129,
      "outputs": []
    },
    {
      "cell_type": "code",
      "source": [
        "history_cnn = model3.fit(train_ds, epochs= 10, validation_data= validation_ds)"
      ],
      "metadata": {
        "colab": {
          "base_uri": "https://localhost:8080/",
          "height": 570
        },
        "id": "IA2_kPmVmm0R",
        "outputId": "f5d79e65-308a-4a00-93aa-636577b851b3"
      },
      "execution_count": 130,
      "outputs": [
        {
          "output_type": "stream",
          "name": "stdout",
          "text": [
            "Epoch 1/10\n",
            "134/134 [==============================] - 49s 339ms/step - loss: 1656.2992 - accuracy: 0.0751 - val_loss: 20.2089 - val_accuracy: 0.0455\n",
            "Epoch 2/10\n",
            "134/134 [==============================] - 51s 357ms/step - loss: 18.5979 - accuracy: 0.0737 - val_loss: 17.5977 - val_accuracy: 0.0455\n",
            "Epoch 3/10\n",
            "134/134 [==============================] - 49s 340ms/step - loss: 16.6483 - accuracy: 0.0784 - val_loss: 16.1240 - val_accuracy: 0.0455\n",
            "Epoch 4/10\n",
            "134/134 [==============================] - 48s 338ms/step - loss: 15.4322 - accuracy: 0.0763 - val_loss: 15.1213 - val_accuracy: 0.0455\n",
            "Epoch 5/10\n",
            "134/134 [==============================] - 49s 341ms/step - loss: 14.5654 - accuracy: 0.0723 - val_loss: 14.3714 - val_accuracy: 0.0455\n",
            "Epoch 6/10\n",
            " 84/134 [=================>............] - ETA: 17s - loss: 14.0090 - accuracy: 0.0781"
          ]
        },
        {
          "output_type": "error",
          "ename": "KeyboardInterrupt",
          "evalue": "ignored",
          "traceback": [
            "\u001b[0;31m---------------------------------------------------------------------------\u001b[0m",
            "\u001b[0;31mKeyboardInterrupt\u001b[0m                         Traceback (most recent call last)",
            "\u001b[0;32m<ipython-input-130-8e9175ab303d>\u001b[0m in \u001b[0;36m<module>\u001b[0;34m\u001b[0m\n\u001b[0;32m----> 1\u001b[0;31m \u001b[0mhistory_cnn\u001b[0m \u001b[0;34m=\u001b[0m \u001b[0mmodel3\u001b[0m\u001b[0;34m.\u001b[0m\u001b[0mfit\u001b[0m\u001b[0;34m(\u001b[0m\u001b[0mtrain_ds\u001b[0m\u001b[0;34m,\u001b[0m \u001b[0mepochs\u001b[0m\u001b[0;34m=\u001b[0m \u001b[0;36m10\u001b[0m\u001b[0;34m,\u001b[0m \u001b[0mvalidation_data\u001b[0m\u001b[0;34m=\u001b[0m \u001b[0mvalidation_ds\u001b[0m\u001b[0;34m)\u001b[0m\u001b[0;34m\u001b[0m\u001b[0;34m\u001b[0m\u001b[0m\n\u001b[0m",
            "\u001b[0;32m/usr/local/lib/python3.8/dist-packages/keras/utils/traceback_utils.py\u001b[0m in \u001b[0;36merror_handler\u001b[0;34m(*args, **kwargs)\u001b[0m\n\u001b[1;32m     62\u001b[0m     \u001b[0mfiltered_tb\u001b[0m \u001b[0;34m=\u001b[0m \u001b[0;32mNone\u001b[0m\u001b[0;34m\u001b[0m\u001b[0;34m\u001b[0m\u001b[0m\n\u001b[1;32m     63\u001b[0m     \u001b[0;32mtry\u001b[0m\u001b[0;34m:\u001b[0m\u001b[0;34m\u001b[0m\u001b[0;34m\u001b[0m\u001b[0m\n\u001b[0;32m---> 64\u001b[0;31m       \u001b[0;32mreturn\u001b[0m \u001b[0mfn\u001b[0m\u001b[0;34m(\u001b[0m\u001b[0;34m*\u001b[0m\u001b[0margs\u001b[0m\u001b[0;34m,\u001b[0m \u001b[0;34m**\u001b[0m\u001b[0mkwargs\u001b[0m\u001b[0;34m)\u001b[0m\u001b[0;34m\u001b[0m\u001b[0;34m\u001b[0m\u001b[0m\n\u001b[0m\u001b[1;32m     65\u001b[0m     \u001b[0;32mexcept\u001b[0m \u001b[0mException\u001b[0m \u001b[0;32mas\u001b[0m \u001b[0me\u001b[0m\u001b[0;34m:\u001b[0m  \u001b[0;31m# pylint: disable=broad-except\u001b[0m\u001b[0;34m\u001b[0m\u001b[0;34m\u001b[0m\u001b[0m\n\u001b[1;32m     66\u001b[0m       \u001b[0mfiltered_tb\u001b[0m \u001b[0;34m=\u001b[0m \u001b[0m_process_traceback_frames\u001b[0m\u001b[0;34m(\u001b[0m\u001b[0me\u001b[0m\u001b[0;34m.\u001b[0m\u001b[0m__traceback__\u001b[0m\u001b[0;34m)\u001b[0m\u001b[0;34m\u001b[0m\u001b[0;34m\u001b[0m\u001b[0m\n",
            "\u001b[0;32m/usr/local/lib/python3.8/dist-packages/keras/engine/training.py\u001b[0m in \u001b[0;36mfit\u001b[0;34m(self, x, y, batch_size, epochs, verbose, callbacks, validation_split, validation_data, shuffle, class_weight, sample_weight, initial_epoch, steps_per_epoch, validation_steps, validation_batch_size, validation_freq, max_queue_size, workers, use_multiprocessing)\u001b[0m\n\u001b[1;32m   1407\u001b[0m                 _r=1):\n\u001b[1;32m   1408\u001b[0m               \u001b[0mcallbacks\u001b[0m\u001b[0;34m.\u001b[0m\u001b[0mon_train_batch_begin\u001b[0m\u001b[0;34m(\u001b[0m\u001b[0mstep\u001b[0m\u001b[0;34m)\u001b[0m\u001b[0;34m\u001b[0m\u001b[0;34m\u001b[0m\u001b[0m\n\u001b[0;32m-> 1409\u001b[0;31m               \u001b[0mtmp_logs\u001b[0m \u001b[0;34m=\u001b[0m \u001b[0mself\u001b[0m\u001b[0;34m.\u001b[0m\u001b[0mtrain_function\u001b[0m\u001b[0;34m(\u001b[0m\u001b[0miterator\u001b[0m\u001b[0;34m)\u001b[0m\u001b[0;34m\u001b[0m\u001b[0;34m\u001b[0m\u001b[0m\n\u001b[0m\u001b[1;32m   1410\u001b[0m               \u001b[0;32mif\u001b[0m \u001b[0mdata_handler\u001b[0m\u001b[0;34m.\u001b[0m\u001b[0mshould_sync\u001b[0m\u001b[0;34m:\u001b[0m\u001b[0;34m\u001b[0m\u001b[0;34m\u001b[0m\u001b[0m\n\u001b[1;32m   1411\u001b[0m                 \u001b[0mcontext\u001b[0m\u001b[0;34m.\u001b[0m\u001b[0masync_wait\u001b[0m\u001b[0;34m(\u001b[0m\u001b[0;34m)\u001b[0m\u001b[0;34m\u001b[0m\u001b[0;34m\u001b[0m\u001b[0m\n",
            "\u001b[0;32m/usr/local/lib/python3.8/dist-packages/tensorflow/python/util/traceback_utils.py\u001b[0m in \u001b[0;36merror_handler\u001b[0;34m(*args, **kwargs)\u001b[0m\n\u001b[1;32m    148\u001b[0m     \u001b[0mfiltered_tb\u001b[0m \u001b[0;34m=\u001b[0m \u001b[0;32mNone\u001b[0m\u001b[0;34m\u001b[0m\u001b[0;34m\u001b[0m\u001b[0m\n\u001b[1;32m    149\u001b[0m     \u001b[0;32mtry\u001b[0m\u001b[0;34m:\u001b[0m\u001b[0;34m\u001b[0m\u001b[0;34m\u001b[0m\u001b[0m\n\u001b[0;32m--> 150\u001b[0;31m       \u001b[0;32mreturn\u001b[0m \u001b[0mfn\u001b[0m\u001b[0;34m(\u001b[0m\u001b[0;34m*\u001b[0m\u001b[0margs\u001b[0m\u001b[0;34m,\u001b[0m \u001b[0;34m**\u001b[0m\u001b[0mkwargs\u001b[0m\u001b[0;34m)\u001b[0m\u001b[0;34m\u001b[0m\u001b[0;34m\u001b[0m\u001b[0m\n\u001b[0m\u001b[1;32m    151\u001b[0m     \u001b[0;32mexcept\u001b[0m \u001b[0mException\u001b[0m \u001b[0;32mas\u001b[0m \u001b[0me\u001b[0m\u001b[0;34m:\u001b[0m\u001b[0;34m\u001b[0m\u001b[0;34m\u001b[0m\u001b[0m\n\u001b[1;32m    152\u001b[0m       \u001b[0mfiltered_tb\u001b[0m \u001b[0;34m=\u001b[0m \u001b[0m_process_traceback_frames\u001b[0m\u001b[0;34m(\u001b[0m\u001b[0me\u001b[0m\u001b[0;34m.\u001b[0m\u001b[0m__traceback__\u001b[0m\u001b[0;34m)\u001b[0m\u001b[0;34m\u001b[0m\u001b[0;34m\u001b[0m\u001b[0m\n",
            "\u001b[0;32m/usr/local/lib/python3.8/dist-packages/tensorflow/python/eager/def_function.py\u001b[0m in \u001b[0;36m__call__\u001b[0;34m(self, *args, **kwds)\u001b[0m\n\u001b[1;32m    913\u001b[0m \u001b[0;34m\u001b[0m\u001b[0m\n\u001b[1;32m    914\u001b[0m       \u001b[0;32mwith\u001b[0m \u001b[0mOptionalXlaContext\u001b[0m\u001b[0;34m(\u001b[0m\u001b[0mself\u001b[0m\u001b[0;34m.\u001b[0m\u001b[0m_jit_compile\u001b[0m\u001b[0;34m)\u001b[0m\u001b[0;34m:\u001b[0m\u001b[0;34m\u001b[0m\u001b[0;34m\u001b[0m\u001b[0m\n\u001b[0;32m--> 915\u001b[0;31m         \u001b[0mresult\u001b[0m \u001b[0;34m=\u001b[0m \u001b[0mself\u001b[0m\u001b[0;34m.\u001b[0m\u001b[0m_call\u001b[0m\u001b[0;34m(\u001b[0m\u001b[0;34m*\u001b[0m\u001b[0margs\u001b[0m\u001b[0;34m,\u001b[0m \u001b[0;34m**\u001b[0m\u001b[0mkwds\u001b[0m\u001b[0;34m)\u001b[0m\u001b[0;34m\u001b[0m\u001b[0;34m\u001b[0m\u001b[0m\n\u001b[0m\u001b[1;32m    916\u001b[0m \u001b[0;34m\u001b[0m\u001b[0m\n\u001b[1;32m    917\u001b[0m       \u001b[0mnew_tracing_count\u001b[0m \u001b[0;34m=\u001b[0m \u001b[0mself\u001b[0m\u001b[0;34m.\u001b[0m\u001b[0mexperimental_get_tracing_count\u001b[0m\u001b[0;34m(\u001b[0m\u001b[0;34m)\u001b[0m\u001b[0;34m\u001b[0m\u001b[0;34m\u001b[0m\u001b[0m\n",
            "\u001b[0;32m/usr/local/lib/python3.8/dist-packages/tensorflow/python/eager/def_function.py\u001b[0m in \u001b[0;36m_call\u001b[0;34m(self, *args, **kwds)\u001b[0m\n\u001b[1;32m    945\u001b[0m       \u001b[0;31m# In this case we have created variables on the first call, so we run the\u001b[0m\u001b[0;34m\u001b[0m\u001b[0;34m\u001b[0m\u001b[0;34m\u001b[0m\u001b[0m\n\u001b[1;32m    946\u001b[0m       \u001b[0;31m# defunned version which is guaranteed to never create variables.\u001b[0m\u001b[0;34m\u001b[0m\u001b[0;34m\u001b[0m\u001b[0;34m\u001b[0m\u001b[0m\n\u001b[0;32m--> 947\u001b[0;31m       \u001b[0;32mreturn\u001b[0m \u001b[0mself\u001b[0m\u001b[0;34m.\u001b[0m\u001b[0m_stateless_fn\u001b[0m\u001b[0;34m(\u001b[0m\u001b[0;34m*\u001b[0m\u001b[0margs\u001b[0m\u001b[0;34m,\u001b[0m \u001b[0;34m**\u001b[0m\u001b[0mkwds\u001b[0m\u001b[0;34m)\u001b[0m  \u001b[0;31m# pylint: disable=not-callable\u001b[0m\u001b[0;34m\u001b[0m\u001b[0;34m\u001b[0m\u001b[0m\n\u001b[0m\u001b[1;32m    948\u001b[0m     \u001b[0;32melif\u001b[0m \u001b[0mself\u001b[0m\u001b[0;34m.\u001b[0m\u001b[0m_stateful_fn\u001b[0m \u001b[0;32mis\u001b[0m \u001b[0;32mnot\u001b[0m \u001b[0;32mNone\u001b[0m\u001b[0;34m:\u001b[0m\u001b[0;34m\u001b[0m\u001b[0;34m\u001b[0m\u001b[0m\n\u001b[1;32m    949\u001b[0m       \u001b[0;31m# Release the lock early so that multiple threads can perform the call\u001b[0m\u001b[0;34m\u001b[0m\u001b[0;34m\u001b[0m\u001b[0;34m\u001b[0m\u001b[0m\n",
            "\u001b[0;32m/usr/local/lib/python3.8/dist-packages/tensorflow/python/eager/function.py\u001b[0m in \u001b[0;36m__call__\u001b[0;34m(self, *args, **kwargs)\u001b[0m\n\u001b[1;32m   2451\u001b[0m       (graph_function,\n\u001b[1;32m   2452\u001b[0m        filtered_flat_args) = self._maybe_define_function(args, kwargs)\n\u001b[0;32m-> 2453\u001b[0;31m     return graph_function._call_flat(\n\u001b[0m\u001b[1;32m   2454\u001b[0m         filtered_flat_args, captured_inputs=graph_function.captured_inputs)  # pylint: disable=protected-access\n\u001b[1;32m   2455\u001b[0m \u001b[0;34m\u001b[0m\u001b[0m\n",
            "\u001b[0;32m/usr/local/lib/python3.8/dist-packages/tensorflow/python/eager/function.py\u001b[0m in \u001b[0;36m_call_flat\u001b[0;34m(self, args, captured_inputs, cancellation_manager)\u001b[0m\n\u001b[1;32m   1858\u001b[0m         and executing_eagerly):\n\u001b[1;32m   1859\u001b[0m       \u001b[0;31m# No tape is watching; skip to running the function.\u001b[0m\u001b[0;34m\u001b[0m\u001b[0;34m\u001b[0m\u001b[0;34m\u001b[0m\u001b[0m\n\u001b[0;32m-> 1860\u001b[0;31m       return self._build_call_outputs(self._inference_function.call(\n\u001b[0m\u001b[1;32m   1861\u001b[0m           ctx, args, cancellation_manager=cancellation_manager))\n\u001b[1;32m   1862\u001b[0m     forward_backward = self._select_forward_and_backward_functions(\n",
            "\u001b[0;32m/usr/local/lib/python3.8/dist-packages/tensorflow/python/eager/function.py\u001b[0m in \u001b[0;36mcall\u001b[0;34m(self, ctx, args, cancellation_manager)\u001b[0m\n\u001b[1;32m    495\u001b[0m       \u001b[0;32mwith\u001b[0m \u001b[0m_InterpolateFunctionError\u001b[0m\u001b[0;34m(\u001b[0m\u001b[0mself\u001b[0m\u001b[0;34m)\u001b[0m\u001b[0;34m:\u001b[0m\u001b[0;34m\u001b[0m\u001b[0;34m\u001b[0m\u001b[0m\n\u001b[1;32m    496\u001b[0m         \u001b[0;32mif\u001b[0m \u001b[0mcancellation_manager\u001b[0m \u001b[0;32mis\u001b[0m \u001b[0;32mNone\u001b[0m\u001b[0;34m:\u001b[0m\u001b[0;34m\u001b[0m\u001b[0;34m\u001b[0m\u001b[0m\n\u001b[0;32m--> 497\u001b[0;31m           outputs = execute.execute(\n\u001b[0m\u001b[1;32m    498\u001b[0m               \u001b[0mstr\u001b[0m\u001b[0;34m(\u001b[0m\u001b[0mself\u001b[0m\u001b[0;34m.\u001b[0m\u001b[0msignature\u001b[0m\u001b[0;34m.\u001b[0m\u001b[0mname\u001b[0m\u001b[0;34m)\u001b[0m\u001b[0;34m,\u001b[0m\u001b[0;34m\u001b[0m\u001b[0;34m\u001b[0m\u001b[0m\n\u001b[1;32m    499\u001b[0m               \u001b[0mnum_outputs\u001b[0m\u001b[0;34m=\u001b[0m\u001b[0mself\u001b[0m\u001b[0;34m.\u001b[0m\u001b[0m_num_outputs\u001b[0m\u001b[0;34m,\u001b[0m\u001b[0;34m\u001b[0m\u001b[0;34m\u001b[0m\u001b[0m\n",
            "\u001b[0;32m/usr/local/lib/python3.8/dist-packages/tensorflow/python/eager/execute.py\u001b[0m in \u001b[0;36mquick_execute\u001b[0;34m(op_name, num_outputs, inputs, attrs, ctx, name)\u001b[0m\n\u001b[1;32m     52\u001b[0m   \u001b[0;32mtry\u001b[0m\u001b[0;34m:\u001b[0m\u001b[0;34m\u001b[0m\u001b[0;34m\u001b[0m\u001b[0m\n\u001b[1;32m     53\u001b[0m     \u001b[0mctx\u001b[0m\u001b[0;34m.\u001b[0m\u001b[0mensure_initialized\u001b[0m\u001b[0;34m(\u001b[0m\u001b[0;34m)\u001b[0m\u001b[0;34m\u001b[0m\u001b[0;34m\u001b[0m\u001b[0m\n\u001b[0;32m---> 54\u001b[0;31m     tensors = pywrap_tfe.TFE_Py_Execute(ctx._handle, device_name, op_name,\n\u001b[0m\u001b[1;32m     55\u001b[0m                                         inputs, attrs, num_outputs)\n\u001b[1;32m     56\u001b[0m   \u001b[0;32mexcept\u001b[0m \u001b[0mcore\u001b[0m\u001b[0;34m.\u001b[0m\u001b[0m_NotOkStatusException\u001b[0m \u001b[0;32mas\u001b[0m \u001b[0me\u001b[0m\u001b[0;34m:\u001b[0m\u001b[0;34m\u001b[0m\u001b[0;34m\u001b[0m\u001b[0m\n",
            "\u001b[0;31mKeyboardInterrupt\u001b[0m: "
          ]
        }
      ]
    },
    {
      "cell_type": "code",
      "source": [
        "train_cnn_history = pd.DataFrame(history_cnn.history)\n",
        "train_cnn_history.index.name = 'epochs'\n",
        "\n",
        "col_list = ['loss', 'val_loss']\n",
        "train_cnn_history[col_list].plot()\n",
        "plt.ylabel('Categorical cross entropy')\n",
        "plt.title('Training loss history')\n",
        "plt.show()"
      ],
      "metadata": {
        "colab": {
          "base_uri": "https://localhost:8080/",
          "height": 295
        },
        "id": "U9YYVlrAm_dS",
        "outputId": "fc8a8544-1343-42e0-ae3f-e27120a8125b"
      },
      "execution_count": null,
      "outputs": [
        {
          "output_type": "display_data",
          "data": {
            "text/plain": [
              "<Figure size 432x288 with 1 Axes>"
            ],
            "image/png": "[encoded data removed]"
          },
          "metadata": {
            "needs_background": "light"
          }
        }
      ]
    },
    {
      "cell_type": "code",
      "source": [
        "col_list = ['accuracy', 'val_accuracy']\n",
        "train_cnn_history[col_list].plot()\n",
        "plt.ylabel('Accuracy')\n",
        "plt.title('Training loss history')\n",
        "plt.show()"
      ],
      "metadata": {
        "colab": {
          "base_uri": "https://localhost:8080/",
          "height": 295
        },
        "id": "Bzplzke7m_gK",
        "outputId": "d139608f-f23c-429a-efc1-1675b4288e44"
      },
      "execution_count": null,
      "outputs": [
        {
          "output_type": "display_data",
          "data": {
            "text/plain": [
              "<Figure size 432x288 with 1 Axes>"
            ],
            "image/png": "[encoded data removed]"
          },
          "metadata": {
            "needs_background": "light"
          }
        }
      ]
    },
    {
      "cell_type": "code",
      "source": [
        "reg = L1(3e-3)"
      ],
      "metadata": {
        "id": "yB8oVjoNp7TZ"
      },
      "execution_count": null,
      "outputs": []
    },
    {
      "cell_type": "code",
      "source": [
        "model3 = Sequential()\n",
        "# define 3x3 filter window sizes. Create 32 filters.\n",
        "model3.add(Conv2D(filters=32,\n",
        "                        kernel_size=(3, 3), strides = (2,2),\n",
        "                        activation='relu',\n",
        "                        input_shape=(256, 256, 3)))\n",
        "\n",
        "# max pool in 2x2 window\n",
        "model3.add(MaxPooling2D(pool_size=(4, 4)))\n",
        "# define 3x3 filter window sizes. Create 64 filters.\n",
        "model3.add(Conv2D(64, (3, 3), activation='relu', kernel_regularizer = reg))\n",
        "model3.add(Dropout(0.2)) # dropout on previous activations\n",
        "model3.add(MaxPooling2D((2, 2)))\n",
        "model3.add(Conv2D(128, (3, 3), activation='relu', kernel_regularizer = reg))\n",
        "model3.add(Dropout(0.2)) # dropout on previous activations\n",
        "model3.add(MaxPooling2D((2, 2)))\n",
        "model3.add(Conv2D(256, (3, 3), activation='relu', kernel_regularizer = reg))\n",
        "\n",
        "# transition to dense fully-connected part of network\n",
        "model3.add(Flatten())\n",
        "model3.add(Dense(64, activation='relu'))\n",
        "model3.add(Dense(22, activation='softmax'))"
      ],
      "metadata": {
        "id": "1hg9r5C90aks"
      },
      "execution_count": null,
      "outputs": []
    },
    {
      "cell_type": "code",
      "source": [
        "model3.summary()"
      ],
      "metadata": {
        "colab": {
          "base_uri": "https://localhost:8080/"
        },
        "id": "UZeGSZCM0e_F",
        "outputId": "f2bbcef9-5648-408a-ed52-5e40441f572d"
      },
      "execution_count": null,
      "outputs": [
        {
          "output_type": "stream",
          "name": "stdout",
          "text": [
            "Model: \"sequential_9\"\n",
            "_________________________________________________________________\n",
            " Layer (type)                Output Shape              Param #   \n",
            "=================================================================\n",
            " conv2d_30 (Conv2D)          (None, 127, 127, 32)      896       \n",
            "                                                                 \n",
            " max_pooling2d_22 (MaxPoolin  (None, 31, 31, 32)       0         \n",
            " g2D)                                                            \n",
            "                                                                 \n",
            " conv2d_31 (Conv2D)          (None, 29, 29, 64)        18496     \n",
            "                                                                 \n",
            " dropout_11 (Dropout)        (None, 29, 29, 64)        0         \n",
            "                                                                 \n",
            " max_pooling2d_23 (MaxPoolin  (None, 14, 14, 64)       0         \n",
            " g2D)                                                            \n",
            "                                                                 \n",
            " conv2d_32 (Conv2D)          (None, 12, 12, 128)       73856     \n",
            "                                                                 \n",
            " dropout_12 (Dropout)        (None, 12, 12, 128)       0         \n",
            "                                                                 \n",
            " max_pooling2d_24 (MaxPoolin  (None, 6, 6, 128)        0         \n",
            " g2D)                                                            \n",
            "                                                                 \n",
            " conv2d_33 (Conv2D)          (None, 4, 4, 256)         295168    \n",
            "                                                                 \n",
            " flatten_8 (Flatten)         (None, 4096)              0         \n",
            "                                                                 \n",
            " dense_20 (Dense)            (None, 64)                262208    \n",
            "                                                                 \n",
            " dense_21 (Dense)            (None, 22)                1430      \n",
            "                                                                 \n",
            "=================================================================\n",
            "Total params: 652,054\n",
            "Trainable params: 652,054\n",
            "Non-trainable params: 0\n",
            "_________________________________________________________________\n"
          ]
        }
      ]
    },
    {
      "cell_type": "code",
      "source": [
        "model3.compile(optimizer='Adam', loss='categorical_crossentropy',  metrics=['accuracy'])"
      ],
      "metadata": {
        "id": "NlLf3ZJk0fBc"
      },
      "execution_count": null,
      "outputs": []
    },
    {
      "cell_type": "code",
      "source": [
        "history_cnn = model3.fit(train_ds, epochs= 10, validation_data= validation_ds)"
      ],
      "metadata": {
        "colab": {
          "base_uri": "https://localhost:8080/"
        },
        "id": "UPEIGvvl0fEo",
        "outputId": "fbffc022-4600-4a9c-ce55-76319e7941f8"
      },
      "execution_count": null,
      "outputs": [
        {
          "output_type": "stream",
          "name": "stdout",
          "text": [
            "Epoch 1/10\n",
            "134/134 [==============================] - 21s 144ms/step - loss: 15.9485 - accuracy: 0.0760 - val_loss: 10.0420 - val_accuracy: 0.0727\n",
            "Epoch 2/10\n",
            "134/134 [==============================] - 20s 141ms/step - loss: 8.2149 - accuracy: 0.1970 - val_loss: 7.2023 - val_accuracy: 0.1364\n",
            "Epoch 3/10\n",
            "134/134 [==============================] - 20s 141ms/step - loss: 5.8606 - accuracy: 0.2971 - val_loss: 5.5097 - val_accuracy: 0.1636\n",
            "Epoch 4/10\n",
            "134/134 [==============================] - 20s 142ms/step - loss: 4.4222 - accuracy: 0.3992 - val_loss: 4.2973 - val_accuracy: 0.2727\n",
            "Epoch 5/10\n",
            "134/134 [==============================] - 21s 146ms/step - loss: 3.4120 - accuracy: 0.4951 - val_loss: 3.6827 - val_accuracy: 0.3091\n",
            "Epoch 6/10\n",
            "134/134 [==============================] - 20s 142ms/step - loss: 2.7312 - accuracy: 0.5737 - val_loss: 2.9651 - val_accuracy: 0.4364\n",
            "Epoch 7/10\n",
            "134/134 [==============================] - 20s 140ms/step - loss: 2.3261 - accuracy: 0.6102 - val_loss: 2.6139 - val_accuracy: 0.5545\n",
            "Epoch 8/10\n",
            "134/134 [==============================] - 20s 141ms/step - loss: 1.9689 - accuracy: 0.6654 - val_loss: 2.4371 - val_accuracy: 0.5636\n",
            "Epoch 9/10\n",
            "134/134 [==============================] - 20s 141ms/step - loss: 1.8051 - accuracy: 0.6738 - val_loss: 2.2679 - val_accuracy: 0.5636\n",
            "Epoch 10/10\n",
            "134/134 [==============================] - 20s 142ms/step - loss: 1.6443 - accuracy: 0.6928 - val_loss: 2.2214 - val_accuracy: 0.5909\n"
          ]
        }
      ]
    },
    {
      "cell_type": "code",
      "source": [
        "train_cnn_history = pd.DataFrame(history_cnn.history)\n",
        "train_cnn_history.index.name = 'epochs'\n",
        "\n",
        "col_list = ['loss', 'val_loss']\n",
        "train_cnn_history[col_list].plot()\n",
        "plt.ylabel('Categorical cross entropy')\n",
        "plt.title('Training loss history')\n",
        "plt.show()"
      ],
      "metadata": {
        "colab": {
          "base_uri": "https://localhost:8080/",
          "height": 295
        },
        "id": "r5Od0OSK17U4",
        "outputId": "bdc880c1-9460-4146-ddc3-c32bcf0f52b8"
      },
      "execution_count": null,
      "outputs": [
        {
          "output_type": "display_data",
          "data": {
            "text/plain": [
              "<Figure size 432x288 with 1 Axes>"
            ],
            "image/png": "[encoded data removed]"
          },
          "metadata": {
            "needs_background": "light"
          }
        }
      ]
    },
    {
      "cell_type": "code",
      "source": [
        "col_list = ['accuracy', 'val_accuracy']\n",
        "train_cnn_history[col_list].plot()\n",
        "plt.ylabel('Accuracy')\n",
        "plt.title('Training loss history')\n",
        "plt.show()"
      ],
      "metadata": {
        "colab": {
          "base_uri": "https://localhost:8080/",
          "height": 295
        },
        "id": "6rBtuuhh17Yz",
        "outputId": "ea1ed52e-4831-4af2-e31e-1e76591d0b7b"
      },
      "execution_count": null,
      "outputs": [
        {
          "output_type": "display_data",
          "data": {
            "text/plain": [
              "<Figure size 432x288 with 1 Axes>"
            ],
            "image/png": "[encoded data removed]"
          },
          "metadata": {
            "needs_background": "light"
          }
        }
      ]
    },
    {
      "cell_type": "markdown",
      "source": [
        "#try a different value for L1"
      ],
      "metadata": {
        "id": "utHoTj_M3q97"
      }
    },
    {
      "cell_type": "code",
      "source": [
        "reg = L1(3e-5)"
      ],
      "metadata": {
        "id": "vZ7ICYR53kUB"
      },
      "execution_count": null,
      "outputs": []
    },
    {
      "cell_type": "code",
      "source": [
        "model3 = Sequential()\n",
        "# define 3x3 filter window sizes. Create 32 filters.\n",
        "model3.add(Conv2D(filters=32,\n",
        "                        kernel_size=(3, 3), strides = (2,2),\n",
        "                        activation='relu',\n",
        "                        input_shape=(256, 256, 3)))\n",
        "\n",
        "# max pool in 2x2 window\n",
        "model3.add(MaxPooling2D(pool_size=(4, 4)))\n",
        "# define 3x3 filter window sizes. Create 64 filters.\n",
        "model3.add(Conv2D(64, (3, 3), activation='relu', kernel_regularizer = reg))\n",
        "model3.add(MaxPooling2D((2, 2)))\n",
        "model3.add(Conv2D(128, (3, 3), activation='relu', kernel_regularizer = reg))\n",
        "model3.add(MaxPooling2D((2, 2)))\n",
        "model3.add(Conv2D(256, (3, 3), activation='relu', kernel_regularizer = reg))\n",
        "\n",
        "# transition to dense fully-connected part of network\n",
        "model3.add(Flatten())\n",
        "model3.add(Dense(64, activation='relu'))\n",
        "model3.add(Dense(22, activation='softmax'))"
      ],
      "metadata": {
        "id": "cKzWmYop3k7R"
      },
      "execution_count": null,
      "outputs": []
    },
    {
      "cell_type": "code",
      "source": [
        "model3.summary()"
      ],
      "metadata": {
        "colab": {
          "base_uri": "https://localhost:8080/"
        },
        "id": "nlzCEoz73lE1",
        "outputId": "2eaf257c-a87c-4ccf-fb32-1adf24f93cf7"
      },
      "execution_count": null,
      "outputs": [
        {
          "output_type": "stream",
          "name": "stdout",
          "text": [
            "Model: \"sequential_15\"\n",
            "_________________________________________________________________\n",
            " Layer (type)                Output Shape              Param #   \n",
            "=================================================================\n",
            " conv2d_54 (Conv2D)          (None, 127, 127, 32)      896       \n",
            "                                                                 \n",
            " max_pooling2d_40 (MaxPoolin  (None, 31, 31, 32)       0         \n",
            " g2D)                                                            \n",
            "                                                                 \n",
            " conv2d_55 (Conv2D)          (None, 29, 29, 64)        18496     \n",
            "                                                                 \n",
            " max_pooling2d_41 (MaxPoolin  (None, 14, 14, 64)       0         \n",
            " g2D)                                                            \n",
            "                                                                 \n",
            " conv2d_56 (Conv2D)          (None, 12, 12, 128)       73856     \n",
            "                                                                 \n",
            " max_pooling2d_42 (MaxPoolin  (None, 6, 6, 128)        0         \n",
            " g2D)                                                            \n",
            "                                                                 \n",
            " conv2d_57 (Conv2D)          (None, 4, 4, 256)         295168    \n",
            "                                                                 \n",
            " flatten_14 (Flatten)        (None, 4096)              0         \n",
            "                                                                 \n",
            " dense_32 (Dense)            (None, 64)                262208    \n",
            "                                                                 \n",
            " dense_33 (Dense)            (None, 22)                1430      \n",
            "                                                                 \n",
            "=================================================================\n",
            "Total params: 652,054\n",
            "Trainable params: 652,054\n",
            "Non-trainable params: 0\n",
            "_________________________________________________________________\n"
          ]
        }
      ]
    },
    {
      "cell_type": "code",
      "source": [
        "model3.compile(optimizer='Adam', loss='categorical_crossentropy',  metrics=['accuracy'])"
      ],
      "metadata": {
        "id": "FWBzDHl23lLW"
      },
      "execution_count": null,
      "outputs": []
    },
    {
      "cell_type": "code",
      "source": [
        "history_cnn = model3.fit(train_ds, epochs= 10, validation_data= validation_ds)"
      ],
      "metadata": {
        "colab": {
          "base_uri": "https://localhost:8080/"
        },
        "id": "liuycV_1341s",
        "outputId": "3b83ab68-8954-44c3-9df8-e3dbebdf49e3"
      },
      "execution_count": null,
      "outputs": [
        {
          "output_type": "stream",
          "name": "stdout",
          "text": [
            "Epoch 1/10\n",
            "134/134 [==============================] - 21s 143ms/step - loss: 3.3969 - accuracy: 0.2225 - val_loss: 2.7158 - val_accuracy: 0.2182\n",
            "Epoch 2/10\n",
            "134/134 [==============================] - 20s 141ms/step - loss: 1.8118 - accuracy: 0.5005 - val_loss: 2.1233 - val_accuracy: 0.4091\n",
            "Epoch 3/10\n",
            "134/134 [==============================] - 20s 142ms/step - loss: 1.2613 - accuracy: 0.6572 - val_loss: 1.8608 - val_accuracy: 0.5727\n",
            "Epoch 4/10\n",
            "134/134 [==============================] - 20s 141ms/step - loss: 0.9396 - accuracy: 0.7585 - val_loss: 1.4378 - val_accuracy: 0.5727\n",
            "Epoch 5/10\n",
            "134/134 [==============================] - 20s 141ms/step - loss: 0.8151 - accuracy: 0.7934 - val_loss: 1.8834 - val_accuracy: 0.5818\n",
            "Epoch 6/10\n",
            "134/134 [==============================] - 20s 141ms/step - loss: 0.6627 - accuracy: 0.8320 - val_loss: 1.8092 - val_accuracy: 0.6091\n",
            "Epoch 7/10\n",
            "134/134 [==============================] - 20s 143ms/step - loss: 0.5686 - accuracy: 0.8753 - val_loss: 1.7834 - val_accuracy: 0.6727\n",
            "Epoch 8/10\n",
            "134/134 [==============================] - 20s 143ms/step - loss: 0.4581 - accuracy: 0.9066 - val_loss: 2.2492 - val_accuracy: 0.6091\n",
            "Epoch 9/10\n",
            "134/134 [==============================] - 20s 143ms/step - loss: 0.5063 - accuracy: 0.8910 - val_loss: 1.9692 - val_accuracy: 0.6909\n",
            "Epoch 10/10\n",
            "134/134 [==============================] - 20s 142ms/step - loss: 0.4243 - accuracy: 0.9146 - val_loss: 2.0942 - val_accuracy: 0.6000\n"
          ]
        }
      ]
    },
    {
      "cell_type": "code",
      "source": [
        "train_cnn_history = pd.DataFrame(history_cnn.history)\n",
        "train_cnn_history.index.name = 'epochs'\n",
        "\n",
        "col_list = ['loss', 'val_loss']\n",
        "train_cnn_history[col_list].plot()\n",
        "plt.ylabel('Categorical cross entropy')\n",
        "plt.title('Training loss history')\n",
        "plt.show()"
      ],
      "metadata": {
        "colab": {
          "base_uri": "https://localhost:8080/",
          "height": 295
        },
        "id": "0vkFjALn344i",
        "outputId": "0c4bd375-3025-462b-d661-044077d8b13f"
      },
      "execution_count": null,
      "outputs": [
        {
          "output_type": "display_data",
          "data": {
            "text/plain": [
              "<Figure size 432x288 with 1 Axes>"
            ],
            "image/png": "[encoded data removed]"
          },
          "metadata": {
            "needs_background": "light"
          }
        }
      ]
    },
    {
      "cell_type": "code",
      "source": [
        "col_list = ['accuracy', 'val_accuracy']\n",
        "train_cnn_history[col_list].plot()\n",
        "plt.ylabel('Accuracy')\n",
        "plt.title('Training loss history')\n",
        "plt.show()"
      ],
      "metadata": {
        "colab": {
          "base_uri": "https://localhost:8080/",
          "height": 295
        },
        "id": "ZEkOD-qI3lQJ",
        "outputId": "afae18f5-1d22-4678-bbc2-03d1b230f5d5"
      },
      "execution_count": null,
      "outputs": [
        {
          "output_type": "display_data",
          "data": {
            "text/plain": [
              "<Figure size 432x288 with 1 Axes>"
            ],
            "image/png": "[encoded data removed]"
          },
          "metadata": {
            "needs_background": "light"
          }
        }
      ]
    },
    {
      "cell_type": "markdown",
      "source": [
        "#Create KerasTuner "
      ],
      "metadata": {
        "id": "LRfCqmTcC4Hi"
      }
    },
    {
      "cell_type": "code",
      "source": [
        "def build_model(hp):  \n",
        "  model= keras.Sequential([\n",
        "    keras.layers.Conv2D(\n",
        "        filters=hp.Int('conv_1_filter', min_value=32, max_value=64, step=2),\n",
        "        kernel_size=hp.Choice('conv_1_kernel', values = [3,5]),\n",
        "        activation='relu',\n",
        "        input_shape=(256,256,3)\n",
        "    ),\n",
        "    keras.layers.Conv2D(\n",
        "        filters=hp.Int('conv_2_filter', min_value=32, max_value=64, step=2),\n",
        "        kernel_size=hp.Choice('conv_2_kernel', values = [3,5]),\n",
        "        activation='relu'\n",
        "    ),\n",
        "    keras.layers.Flatten(),\n",
        "    keras.layers.Dense(\n",
        "        units=hp.Int('dense_1_units', min_value=32, max_value=64, step=2),\n",
        "        activation='relu'\n",
        "    ),\n",
        "    keras.layers.Dense(10, activation='softmax')\n",
        "  ])\n",
        "  \n",
        "  model.compile(optimizer=keras.optimizers.Adam(hp.Choice('learning_rate', values=[1e-2, 1e-3])),\n",
        "              loss='sparse_categorical_crossentropy',\n",
        "              metrics=['accuracy'])\n",
        "  \n",
        "  return model"
      ],
      "metadata": {
        "id": "amW-2eUP580i"
      },
      "execution_count": null,
      "outputs": []
    },
    {
      "cell_type": "code",
      "source": [
        "tuner = RandomSearch(build_model,\n",
        "                     objective='val_accuracy',\n",
        "                     max_trials=5, \n",
        "                     directory= 'test_dir',\n",
        "                     project_name= 'intro_to_kt')"
      ],
      "metadata": {
        "id": "g8vJIqycDEu6"
      },
      "execution_count": null,
      "outputs": []
    },
    {
      "cell_type": "code",
      "source": [
        "tuner.search(train_ds, epochs=10, validation_data = validation_ds)"
      ],
      "metadata": {
        "colab": {
          "base_uri": "https://localhost:8080/",
          "height": 318
        },
        "id": "RHFJny4WDEyA",
        "outputId": "2c840ffc-1590-4750-b865-9180cad56792"
      },
      "execution_count": null,
      "outputs": [
        {
          "output_type": "error",
          "ename": "KeyError",
          "evalue": "ignored",
          "traceback": [
            "\u001b[0;31m---------------------------------------------------------------------------\u001b[0m",
            "\u001b[0;31mKeyError\u001b[0m                                  Traceback (most recent call last)",
            "\u001b[0;32m<ipython-input-266-437976bd4e11>\u001b[0m in \u001b[0;36m<module>\u001b[0;34m\u001b[0m\n\u001b[0;32m----> 1\u001b[0;31m \u001b[0mtuner\u001b[0m\u001b[0;34m.\u001b[0m\u001b[0msearch\u001b[0m\u001b[0;34m(\u001b[0m\u001b[0mtrain_ds\u001b[0m\u001b[0;34m,\u001b[0m \u001b[0mepochs\u001b[0m\u001b[0;34m=\u001b[0m\u001b[0;36m10\u001b[0m\u001b[0;34m,\u001b[0m \u001b[0mvalidation_data\u001b[0m \u001b[0;34m=\u001b[0m \u001b[0mvalidation_ds\u001b[0m\u001b[0;34m)\u001b[0m\u001b[0;34m\u001b[0m\u001b[0;34m\u001b[0m\u001b[0m\n\u001b[0m",
            "\u001b[0;32m/usr/local/lib/python3.8/dist-packages/keras_tuner/engine/base_tuner.py\u001b[0m in \u001b[0;36msearch\u001b[0;34m(self, *fit_args, **fit_kwargs)\u001b[0m\n\u001b[1;32m    198\u001b[0m         \u001b[0;32mwhile\u001b[0m \u001b[0;32mTrue\u001b[0m\u001b[0;34m:\u001b[0m\u001b[0;34m\u001b[0m\u001b[0;34m\u001b[0m\u001b[0m\n\u001b[1;32m    199\u001b[0m             \u001b[0mself\u001b[0m\u001b[0;34m.\u001b[0m\u001b[0mpre_create_trial\u001b[0m\u001b[0;34m(\u001b[0m\u001b[0;34m)\u001b[0m\u001b[0;34m\u001b[0m\u001b[0;34m\u001b[0m\u001b[0m\n\u001b[0;32m--> 200\u001b[0;31m             \u001b[0mtrial\u001b[0m \u001b[0;34m=\u001b[0m \u001b[0mself\u001b[0m\u001b[0;34m.\u001b[0m\u001b[0moracle\u001b[0m\u001b[0;34m.\u001b[0m\u001b[0mcreate_trial\u001b[0m\u001b[0;34m(\u001b[0m\u001b[0mself\u001b[0m\u001b[0;34m.\u001b[0m\u001b[0mtuner_id\u001b[0m\u001b[0;34m)\u001b[0m\u001b[0;34m\u001b[0m\u001b[0;34m\u001b[0m\u001b[0m\n\u001b[0m\u001b[1;32m    201\u001b[0m             \u001b[0;32mif\u001b[0m \u001b[0mtrial\u001b[0m\u001b[0;34m.\u001b[0m\u001b[0mstatus\u001b[0m \u001b[0;34m==\u001b[0m \u001b[0mtrial_module\u001b[0m\u001b[0;34m.\u001b[0m\u001b[0mTrialStatus\u001b[0m\u001b[0;34m.\u001b[0m\u001b[0mSTOPPED\u001b[0m\u001b[0;34m:\u001b[0m\u001b[0;34m\u001b[0m\u001b[0;34m\u001b[0m\u001b[0m\n\u001b[1;32m    202\u001b[0m                 \u001b[0;31m# Oracle triggered exit.\u001b[0m\u001b[0;34m\u001b[0m\u001b[0;34m\u001b[0m\u001b[0;34m\u001b[0m\u001b[0m\n",
            "\u001b[0;32m/usr/local/lib/python3.8/dist-packages/keras_tuner/engine/oracle.py\u001b[0m in \u001b[0;36mwrapped_func\u001b[0;34m(*args, **kwargs)\u001b[0m\n\u001b[1;32m    102\u001b[0m             \u001b[0mLOCKS\u001b[0m\u001b[0;34m[\u001b[0m\u001b[0moracle\u001b[0m\u001b[0;34m]\u001b[0m\u001b[0;34m.\u001b[0m\u001b[0macquire\u001b[0m\u001b[0;34m(\u001b[0m\u001b[0;34m)\u001b[0m\u001b[0;34m\u001b[0m\u001b[0;34m\u001b[0m\u001b[0m\n\u001b[1;32m    103\u001b[0m             \u001b[0mTHREADS\u001b[0m\u001b[0;34m[\u001b[0m\u001b[0moracle\u001b[0m\u001b[0;34m]\u001b[0m \u001b[0;34m=\u001b[0m \u001b[0mthread_name\u001b[0m\u001b[0;34m\u001b[0m\u001b[0;34m\u001b[0m\u001b[0m\n\u001b[0;32m--> 104\u001b[0;31m         \u001b[0mret_val\u001b[0m \u001b[0;34m=\u001b[0m \u001b[0mfunc\u001b[0m\u001b[0;34m(\u001b[0m\u001b[0;34m*\u001b[0m\u001b[0margs\u001b[0m\u001b[0;34m,\u001b[0m \u001b[0;34m**\u001b[0m\u001b[0mkwargs\u001b[0m\u001b[0;34m)\u001b[0m\u001b[0;34m\u001b[0m\u001b[0;34m\u001b[0m\u001b[0m\n\u001b[0m\u001b[1;32m    105\u001b[0m         \u001b[0;32mif\u001b[0m \u001b[0mneed_acquire\u001b[0m\u001b[0;34m:\u001b[0m\u001b[0;34m\u001b[0m\u001b[0;34m\u001b[0m\u001b[0m\n\u001b[1;32m    106\u001b[0m             \u001b[0mTHREADS\u001b[0m\u001b[0;34m[\u001b[0m\u001b[0moracle\u001b[0m\u001b[0;34m]\u001b[0m \u001b[0;34m=\u001b[0m \u001b[0;32mNone\u001b[0m\u001b[0;34m\u001b[0m\u001b[0;34m\u001b[0m\u001b[0m\n",
            "\u001b[0;32m/usr/local/lib/python3.8/dist-packages/keras_tuner/engine/oracle.py\u001b[0m in \u001b[0;36mcreate_trial\u001b[0;34m(self, tuner_id)\u001b[0m\n\u001b[1;32m    300\u001b[0m         \u001b[0;31m# Pick the Trials waiting for retry first.\u001b[0m\u001b[0;34m\u001b[0m\u001b[0;34m\u001b[0m\u001b[0;34m\u001b[0m\u001b[0m\n\u001b[1;32m    301\u001b[0m         \u001b[0;32mif\u001b[0m \u001b[0mlen\u001b[0m\u001b[0;34m(\u001b[0m\u001b[0mself\u001b[0m\u001b[0;34m.\u001b[0m\u001b[0m_retry_queue\u001b[0m\u001b[0;34m)\u001b[0m \u001b[0;34m>\u001b[0m \u001b[0;36m0\u001b[0m\u001b[0;34m:\u001b[0m\u001b[0;34m\u001b[0m\u001b[0;34m\u001b[0m\u001b[0m\n\u001b[0;32m--> 302\u001b[0;31m             \u001b[0mtrial\u001b[0m \u001b[0;34m=\u001b[0m \u001b[0mself\u001b[0m\u001b[0;34m.\u001b[0m\u001b[0mtrials\u001b[0m\u001b[0;34m[\u001b[0m\u001b[0mself\u001b[0m\u001b[0;34m.\u001b[0m\u001b[0m_retry_queue\u001b[0m\u001b[0;34m.\u001b[0m\u001b[0mpop\u001b[0m\u001b[0;34m(\u001b[0m\u001b[0;34m)\u001b[0m\u001b[0;34m]\u001b[0m\u001b[0;34m\u001b[0m\u001b[0;34m\u001b[0m\u001b[0m\n\u001b[0m\u001b[1;32m    303\u001b[0m             \u001b[0mtrial\u001b[0m\u001b[0;34m.\u001b[0m\u001b[0mstatus\u001b[0m \u001b[0;34m=\u001b[0m \u001b[0mtrial_module\u001b[0m\u001b[0;34m.\u001b[0m\u001b[0mTrialStatus\u001b[0m\u001b[0;34m.\u001b[0m\u001b[0mRUNNING\u001b[0m\u001b[0;34m\u001b[0m\u001b[0;34m\u001b[0m\u001b[0m\n\u001b[1;32m    304\u001b[0m             \u001b[0mself\u001b[0m\u001b[0;34m.\u001b[0m\u001b[0mongoing_trials\u001b[0m\u001b[0;34m[\u001b[0m\u001b[0mtuner_id\u001b[0m\u001b[0;34m]\u001b[0m \u001b[0;34m=\u001b[0m \u001b[0mtrial\u001b[0m\u001b[0;34m\u001b[0m\u001b[0;34m\u001b[0m\u001b[0m\n",
            "\u001b[0;31mKeyError\u001b[0m: <keras_tuner.engine.trial.Trial object at 0x7ff443f2fcd0>"
          ]
        }
      ]
    },
    {
      "cell_type": "code",
      "source": [
        "best_model = tuner.get_best_models()"
      ],
      "metadata": {
        "id": "OOhVtDqHLFSD"
      },
      "execution_count": null,
      "outputs": []
    },
    {
      "cell_type": "markdown",
      "source": [
        "#Use Dropout "
      ],
      "metadata": {
        "id": "QG8xstiRtMG4"
      }
    },
    {
      "cell_type": "code",
      "source": [
        "model2 = Sequential()\n",
        "# define 3x3 filter window sizes. Create 32 filters.\n",
        "model2.add(Conv2D(filters=32,\n",
        "                        kernel_size=(3, 3), strides = (2,2),\n",
        "                        activation='relu',\n",
        "                        input_shape=(256, 256, 3)))\n",
        "\n",
        "# max pool in 2x2 window\n",
        "model2.add(MaxPooling2D(pool_size=(4, 4)))\n",
        "# define 3x3 filter window sizes. Create 64 filters.\n",
        "model2.add(Conv2D(64, (3, 3), activation='relu'))\n",
        "model2.add(Dropout(0.2)) # dropout on previous activations\n",
        "model2.add(MaxPooling2D((2, 2)))\n",
        "model2.add(Conv2D(128, (3, 3), activation='relu'))\n",
        "model2.add(Dropout(0.2)) # dropout on previous activations\n",
        "model2.add(MaxPooling2D((2, 2)))\n",
        "model2.add(Conv2D(256, (3, 3), activation='relu'))\n",
        "\n",
        "# transition to dense fully-connected part of network\n",
        "model2.add(Flatten())\n",
        "model2.add(Dense(64, activation='relu'))\n",
        "model2.add(Dense(22, activation='softmax'))"
      ],
      "metadata": {
        "id": "m_QhfVNwtNjX"
      },
      "execution_count": null,
      "outputs": []
    },
    {
      "cell_type": "code",
      "source": [
        "#Add a dropout rate for regularization \n",
        "opt = Adam(learning_rate=0.01, beta_1=0.9, beta_2=0.999, epsilon=1e-05)"
      ],
      "metadata": {
        "id": "T-4NKDhZtgHv"
      },
      "execution_count": null,
      "outputs": []
    },
    {
      "cell_type": "code",
      "source": [
        "model2.compile(optimizer=opt, loss='categorical_crossentropy',  metrics=['accuracy'])"
      ],
      "metadata": {
        "id": "CdhjeQoCtgKU"
      },
      "execution_count": null,
      "outputs": []
    },
    {
      "cell_type": "code",
      "source": [
        "history_cnn = model2.fit(train_ds, epochs= 10, validation_data= validation_ds)"
      ],
      "metadata": {
        "id": "LkCU3jO_tgMl"
      },
      "execution_count": null,
      "outputs": []
    }
  ]
}