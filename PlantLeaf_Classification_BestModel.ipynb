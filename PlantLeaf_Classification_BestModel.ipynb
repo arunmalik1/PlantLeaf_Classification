{
  "nbformat": 4,
  "nbformat_minor": 0,
  "metadata": {
    "colab": {
      "provenance": [],
      "machine_shape": "hm",
      "authorship_tag": "ABX9TyMFsyJIhupNHNKFZ3yhSXqo",
      "include_colab_link": true
    },
    "kernelspec": {
      "name": "python3",
      "display_name": "Python 3"
    },
    "language_info": {
      "name": "python"
    },
    "accelerator": "TPU",
    "gpuClass": "standard"
  },
  "cells": [
    {
      "cell_type": "markdown",
      "metadata": {
        "id": "view-in-github",
        "colab_type": "text"
      },
      "source": [
        "<a href=\"https://colab.research.google.com/github/arunmalik1/PlantLeaf_Classification/blob/main/PlantLeaf_Classification_BestModel.ipynb\" target=\"_parent\"><img src=\"https://colab.research.google.com/assets/colab-badge.svg\" alt=\"Open In Colab\"/></a>"
      ]
    },
    {
      "cell_type": "markdown",
      "source": [
        "This project is binary classification project using plant images. The idea is to be able to identify diseased vs healthy plants. There are 11 different plants and the entire dataet is divded into 22 categories. \n",
        "\n",
        "The dataset is from Kaggle: \n",
        "This is a collection of about 4503 images of which contains 2278 images of healthy leaf and 2225 images of the diseased leaf. Twelve plants named as Mango, Arjun, Alstonia Scholaris, Guava, Bael, Jamun, Jatropha, Pongamia Pinnata, Basil, Pomegranate, Lemon, and Chinar have been selected. Images are split between training, test, validating and prediction datasets for model training and testing purposes.\n",
        "\n"
      ],
      "metadata": {
        "id": "FIf7BhdskduB"
      }
    },
    {
      "cell_type": "markdown",
      "source": [
        "#Import Packages"
      ],
      "metadata": {
        "id": "B8VGKk0ooOn0"
      }
    },
    {
      "cell_type": "code",
      "source": [
        "#install and upgrade packages \n",
        "\n",
        "#need pydicom for images\n",
        "!pip install pydicom --quiet\n",
        "\n",
        "#install opendatasets to get the data from Kaggle\n",
        "!pip install opendatasets --upgrade --quiet\n",
        "\n",
        "#installing keras tuner \n",
        "!pip install keras-tuner --quiet\n",
        "!pip install -q -U keras-tuner --quiet\n",
        "!pip install git+https://github.com/keras-team/keras-preprocessing.git --quiet\n",
        "!pip install --upgrade transformers --quiet\n",
        "!pip install --upgrade datasets --quiet\n",
        "!pip install -Uqq fastbook --quiet"
      ],
      "metadata": {
        "colab": {
          "base_uri": "https://localhost:8080/"
        },
        "id": "TmFyTHVmx4iO",
        "outputId": "4bd6e5dc-2f71-4f87-ec61-54912a49ff70"
      },
      "execution_count": 1,
      "outputs": [
        {
          "output_type": "stream",
          "name": "stdout",
          "text": [
            "\u001b[2K     \u001b[90m━━━━━━━━━━━━━━━━━━━━━━━━━━━━━━━━━━━━━━━━\u001b[0m \u001b[32m2.0/2.0 MB\u001b[0m \u001b[31m24.5 MB/s\u001b[0m eta \u001b[36m0:00:00\u001b[0m\n",
            "\u001b[2K     \u001b[90m━━━━━━━━━━━━━━━━━━━━━━━━━━━━━━━━━━━━━━━\u001b[0m \u001b[32m168.1/168.1 KB\u001b[0m \u001b[31m4.4 MB/s\u001b[0m eta \u001b[36m0:00:00\u001b[0m\n",
            "\u001b[2K     \u001b[90m━━━━━━━━━━━━━━━━━━━━━━━━━━━━━━━━━━━━━━━━\u001b[0m \u001b[32m1.6/1.6 MB\u001b[0m \u001b[31m31.1 MB/s\u001b[0m eta \u001b[36m0:00:00\u001b[0m\n",
            "\u001b[?25h  Preparing metadata (setup.py) ... \u001b[?25l\u001b[?25hdone\n",
            "\u001b[2K     \u001b[90m━━━━━━━━━━━━━━━━━━━━━━━━━━━━━━━━━━━━━━━━\u001b[0m \u001b[32m6.3/6.3 MB\u001b[0m \u001b[31m52.0 MB/s\u001b[0m eta \u001b[36m0:00:00\u001b[0m\n",
            "\u001b[2K     \u001b[90m━━━━━━━━━━━━━━━━━━━━━━━━━━━━━━━━━━━━━━━━\u001b[0m \u001b[32m7.6/7.6 MB\u001b[0m \u001b[31m92.3 MB/s\u001b[0m eta \u001b[36m0:00:00\u001b[0m\n",
            "\u001b[2K     \u001b[90m━━━━━━━━━━━━━━━━━━━━━━━━━━━━━━━━━━━━━━\u001b[0m \u001b[32m190.3/190.3 KB\u001b[0m \u001b[31m22.3 MB/s\u001b[0m eta \u001b[36m0:00:00\u001b[0m\n",
            "\u001b[2K     \u001b[90m━━━━━━━━━━━━━━━━━━━━━━━━━━━━━━━━━━━━━━━\u001b[0m \u001b[32m462.8/462.8 KB\u001b[0m \u001b[31m9.2 MB/s\u001b[0m eta \u001b[36m0:00:00\u001b[0m\n",
            "\u001b[2K     \u001b[90m━━━━━━━━━━━━━━━━━━━━━━━━━━━━━━━━━━━━━━\u001b[0m \u001b[32m132.0/132.0 KB\u001b[0m \u001b[31m15.0 MB/s\u001b[0m eta \u001b[36m0:00:00\u001b[0m\n",
            "\u001b[2K     \u001b[90m━━━━━━━━━━━━━━━━━━━━━━━━━━━━━━━━━━━━━━\u001b[0m \u001b[32m213.0/213.0 KB\u001b[0m \u001b[31m23.3 MB/s\u001b[0m eta \u001b[36m0:00:00\u001b[0m\n",
            "\u001b[2K     \u001b[90m━━━━━━━━━━━━━━━━━━━━━━━━━━━━━━━━━━━━━━\u001b[0m \u001b[32m140.6/140.6 KB\u001b[0m \u001b[31m16.1 MB/s\u001b[0m eta \u001b[36m0:00:00\u001b[0m\n",
            "\u001b[2K     \u001b[90m━━━━━━━━━━━━━━━━━━━━━━━━━━━━━━━━━━━━━━\u001b[0m \u001b[32m719.8/719.8 KB\u001b[0m \u001b[31m12.5 MB/s\u001b[0m eta \u001b[36m0:00:00\u001b[0m\n",
            "\u001b[2K     \u001b[90m━━━━━━━━━━━━━━━━━━━━━━━━━━━━━━━━━━━━━━━━\u001b[0m \u001b[32m1.3/1.3 MB\u001b[0m \u001b[31m48.2 MB/s\u001b[0m eta \u001b[36m0:00:00\u001b[0m\n",
            "\u001b[?25h"
          ]
        }
      ]
    },
    {
      "cell_type": "code",
      "source": [
        "#import packages \n",
        "import pandas as pd\n",
        "import numpy as np\n",
        "import scipy\n",
        "from fastbook import *\n",
        "\n",
        "\n",
        "#import plot \n",
        "from pathlib import Path\n",
        "import matplotlib.pyplot as plt\n",
        "import matplotlib.image as mpimg\n",
        "from IPython.display import Image\n",
        "%matplotlib inline\n",
        "from PIL import Image\n",
        "import PIL.Image\n",
        "import seaborn as sns\n",
        "from tabulate import tabulate\n",
        "import os\n",
        "import sklearn.metrics as metrics\n",
        "from sklearn.metrics import ConfusionMatrixDisplay\n",
        "from sklearn.metrics._plot.confusion_matrix import confusion_matrix\n",
        "from sklearn.metrics import accuracy_score, classification_report\n",
        "\n",
        "#import keras and tenserflow and pydicom\n",
        "import keras\n",
        "import pydicom\n",
        "import keras_tuner as kt\n",
        "from keras import layers\n",
        "from kerastuner import RandomSearch\n",
        "from keras.utils import to_categorical\n",
        "from keras.callbacks import learning_rate_schedule\n",
        "from kerastuner.engine.hyperparameters import HyperParameters\n",
        "\n",
        "\n",
        "#import tenserflow functions\n",
        "import tensorflow as tf\n",
        "from tensorflow.keras.preprocessing import image\n",
        "from tensorflow.keras.utils import to_categorical\n",
        "from tensorflow.keras.models import Sequential\n",
        "from tensorflow.keras.layers import Dropout\n",
        "from tensorflow.keras.regularizers import L1, L2\n",
        "from tensorflow.keras.optimizers import Adam\n",
        "from tensorflow.keras.layers import BatchNormalization\n",
        "from tensorflow.keras.layers import Dense # creates densely connected layer object\n",
        "from tensorflow.keras.layers import Flatten # takes 2D input and turns into 1D array\n",
        "from tensorflow.keras.layers import Conv2D # convolution layer\n",
        "from tensorflow.keras.layers import MaxPooling2D # max pooling layer\n",
        "from tensorflow.keras.preprocessing.image import ImageDataGenerator\n",
        "from keras.layers import Dense, Activation, Flatten, Dropout, BatchNormalization\n",
        "\n",
        "\n"
      ],
      "metadata": {
        "id": "ucxWiFiglXiU",
        "colab": {
          "base_uri": "https://localhost:8080/"
        },
        "outputId": "36083f5c-4e43-4fa1-a4fc-bb2537e4ccb7"
      },
      "execution_count": 2,
      "outputs": [
        {
          "output_type": "stream",
          "name": "stderr",
          "text": [
            "<ipython-input-2-90d8f49e3433>:29: DeprecationWarning: `import kerastuner` is deprecated, please use `import keras_tuner`.\n",
            "  from kerastuner import RandomSearch\n"
          ]
        }
      ]
    },
    {
      "cell_type": "markdown",
      "source": [
        "#Import Data"
      ],
      "metadata": {
        "id": "DjiRCnKGoRxZ"
      }
    },
    {
      "cell_type": "code",
      "source": [
        "#load the data \n",
        "import opendatasets as od\n",
        "od.download(\"https://www.kaggle.com/datasets/csafrit2/plant-leaves-for-image-classification?select=Plants_2\", force=True)"
      ],
      "metadata": {
        "colab": {
          "base_uri": "https://localhost:8080/"
        },
        "id": "ZCxWYHuUouTs",
        "outputId": "a310ea01-a501-40ce-d3e2-782fb2fb12d9"
      },
      "execution_count": 3,
      "outputs": [
        {
          "output_type": "stream",
          "name": "stdout",
          "text": [
            "Please provide your Kaggle credentials to download this dataset. Learn more: http://bit.ly/kaggle-creds\n",
            "Your Kaggle username: arunmalik78\n",
            "Your Kaggle Key: ··········\n",
            "Downloading plant-leaves-for-image-classification.zip to ./plant-leaves-for-image-classification\n"
          ]
        },
        {
          "output_type": "stream",
          "name": "stderr",
          "text": [
            "100%|██████████| 6.56G/6.56G [00:53<00:00, 131MB/s]\n"
          ]
        },
        {
          "output_type": "stream",
          "name": "stdout",
          "text": [
            "\n"
          ]
        }
      ]
    },
    {
      "cell_type": "code",
      "source": [
        "#load the train set\n",
        "train_ds = keras.utils.image_dataset_from_directory(\n",
        "    directory='/content/plant-leaves-for-image-classification/Plants_2/train',\n",
        "    labels = 'inferred',\n",
        "    label_mode = 'categorical',\n",
        "    image_size = (256,256),\n",
        "    batch_size = 32)"
      ],
      "metadata": {
        "colab": {
          "base_uri": "https://localhost:8080/"
        },
        "id": "GryhUdXMvevF",
        "outputId": "57edf4c7-aeb3-4958-cc74-9ae30ce90899"
      },
      "execution_count": 6,
      "outputs": [
        {
          "output_type": "stream",
          "name": "stdout",
          "text": [
            "Found 4274 files belonging to 22 classes.\n"
          ]
        }
      ]
    },
    {
      "cell_type": "code",
      "source": [
        "#load the test set\n",
        "test_ds = keras.utils.image_dataset_from_directory(\n",
        "    directory='/content/plant-leaves-for-image-classification/Plants_2/test',\n",
        "    labels = 'inferred',\n",
        "    label_mode = 'categorical',\n",
        "    image_size = (256,256)\n",
        "    )"
      ],
      "metadata": {
        "colab": {
          "base_uri": "https://localhost:8080/"
        },
        "id": "DXw9daiHxwpq",
        "outputId": "500be75f-68eb-4b1e-c752-9384ca82db96"
      },
      "execution_count": 7,
      "outputs": [
        {
          "output_type": "stream",
          "name": "stdout",
          "text": [
            "Found 110 files belonging to 22 classes.\n"
          ]
        }
      ]
    },
    {
      "cell_type": "code",
      "source": [
        "#load the validation set\n",
        "validation_ds = keras.utils.image_dataset_from_directory(\n",
        "    directory='/content/plant-leaves-for-image-classification/Plants_2/valid',\n",
        "    labels = 'inferred',\n",
        "    label_mode = 'categorical',\n",
        "    image_size = (256,256)\n",
        "    )"
      ],
      "metadata": {
        "colab": {
          "base_uri": "https://localhost:8080/"
        },
        "id": "DGANvpmF1QGU",
        "outputId": "a55fe7d5-dc6a-45e6-b194-1574a1cceadc"
      },
      "execution_count": 8,
      "outputs": [
        {
          "output_type": "stream",
          "name": "stdout",
          "text": [
            "Found 110 files belonging to 22 classes.\n"
          ]
        }
      ]
    },
    {
      "cell_type": "markdown",
      "source": [
        "#Create a base CNN Model"
      ],
      "metadata": {
        "id": "46M1Mclc5P3j"
      }
    },
    {
      "cell_type": "code",
      "source": [
        "base_model1 = Sequential()\n",
        "# define 3x3 filter window sizes. Create 32 filters.\n",
        "base_model1.add(Conv2D(filters=32,\n",
        "                        kernel_size=(3, 3), strides = (2,2),\n",
        "                        activation='relu',\n",
        "                        input_shape=(256, 256, 3)))\n",
        "\n",
        "# max pool in 2x2 window\n",
        "base_model1.add(MaxPooling2D(pool_size=(4, 4)))\n",
        "# define 3x3 filter window sizes. Create 64 filters.\n",
        "base_model1.add(Conv2D(64, (3, 3), activation='relu'))\n",
        "base_model1.add(MaxPooling2D((2, 2)))\n",
        "base_model1.add(Conv2D(128, (3, 3), activation='relu'))\n",
        "base_model1.add(MaxPooling2D((2, 2)))\n",
        "base_model1.add(Conv2D(256, (3, 3), activation='relu'))\n",
        "\n",
        "# transition to dense fully-connected part of network\n",
        "base_model1.add(Flatten())\n",
        "base_model1.add(Dense(64, activation='relu'))\n",
        "base_model1.add(Dense(22, activation='softmax'))"
      ],
      "metadata": {
        "id": "IueRCtd42d1B"
      },
      "execution_count": null,
      "outputs": []
    },
    {
      "cell_type": "code",
      "source": [
        "base_model1.compile(optimizer='Adam', loss='categorical_crossentropy',  metrics=['accuracy'])"
      ],
      "metadata": {
        "id": "7yWIF4k75X85"
      },
      "execution_count": null,
      "outputs": []
    },
    {
      "cell_type": "code",
      "source": [
        "history_cnn = base_model1.fit(train_ds, epochs= 20, validation_data= validation_ds)"
      ],
      "metadata": {
        "id": "bBUiNhCl5qbB"
      },
      "execution_count": null,
      "outputs": []
    },
    {
      "cell_type": "code",
      "source": [
        "train_cnn_history = pd.DataFrame(history_cnn.history)\n",
        "train_cnn_history.index.name = 'epochs'\n",
        "\n",
        "col_list = ['loss', 'val_loss']\n",
        "train_cnn_history[col_list].plot()\n",
        "plt.ylabel('Categorical cross entropy')\n",
        "plt.title('Training loss history')\n",
        "plt.show()"
      ],
      "metadata": {
        "id": "Aitj47MV-Ew6"
      },
      "execution_count": null,
      "outputs": []
    },
    {
      "cell_type": "code",
      "source": [
        "col_list = ['accuracy', 'val_accuracy']\n",
        "train_cnn_history[col_list].plot()\n",
        "plt.ylabel('Accuracy')\n",
        "plt.title('Training loss history')\n",
        "plt.show()"
      ],
      "metadata": {
        "id": "WkmJcsc_PjLQ"
      },
      "execution_count": null,
      "outputs": []
    },
    {
      "cell_type": "code",
      "source": [
        "base_model1.save('BaseModel.h5')"
      ],
      "metadata": {
        "id": "wNrhgLaO-c3Y"
      },
      "execution_count": null,
      "outputs": []
    },
    {
      "cell_type": "markdown",
      "source": [
        "#Building in a simpler base model because of over fitting "
      ],
      "metadata": {
        "id": "yF6dlxz_mcia"
      }
    },
    {
      "cell_type": "code",
      "source": [
        "base_model2 = Sequential()\n",
        "# define 3x3 filter window sizes. Create 32 filters.\n",
        "base_model2.add(Conv2D(filters=32,\n",
        "                        kernel_size=(3, 3), strides = (2,2),\n",
        "                        activation='relu',\n",
        "                        input_shape=(256, 256, 3)))\n",
        "\n",
        "# max pool in 2x2 window\n",
        "# define 3x3 filter window sizes. Create 32 filters.\n",
        "base_model2.add(MaxPooling2D((2, 2)))\n",
        "base_model2.add(Conv2D(32, (3, 3), activation='relu'))\n",
        "\n",
        "base_model2.add(MaxPooling2D((2, 2)))\n",
        "base_model2.add(Conv2D(32, (3, 3), activation='relu'))\n",
        "\n",
        "# transition to dense fully-connected part of network\n",
        "base_model2.add(Flatten())\n",
        "base_model2.add(Dense(32, activation='relu'))\n",
        "base_model2.add(Dense(22, activation='softmax'))"
      ],
      "metadata": {
        "id": "JonLGT9AmSnJ"
      },
      "execution_count": null,
      "outputs": []
    },
    {
      "cell_type": "code",
      "source": [
        "base_model2.compile(optimizer='Adam', loss='categorical_crossentropy',  metrics=['accuracy'])"
      ],
      "metadata": {
        "id": "deDRtXJMmSre"
      },
      "execution_count": null,
      "outputs": []
    },
    {
      "cell_type": "code",
      "source": [
        "history_cnn = base_model2.fit(train_ds, epochs= 20, validation_data= validation_ds)"
      ],
      "metadata": {
        "id": "zNSMtxBimSvZ"
      },
      "execution_count": null,
      "outputs": []
    },
    {
      "cell_type": "code",
      "source": [
        "train_cnn_history = pd.DataFrame(history_cnn.history)\n",
        "train_cnn_history.index.name = 'epochs'\n",
        "\n",
        "col_list = ['loss', 'val_loss']\n",
        "train_cnn_history[col_list].plot()\n",
        "plt.ylabel('Categorical cross entropy')\n",
        "plt.title('Training loss history')\n",
        "plt.show()"
      ],
      "metadata": {
        "id": "5J5oZ2OMmSy4"
      },
      "execution_count": null,
      "outputs": []
    },
    {
      "cell_type": "code",
      "source": [
        "col_list = ['accuracy', 'val_accuracy']\n",
        "train_cnn_history[col_list].plot()\n",
        "plt.ylabel('Accuracy')\n",
        "plt.title('Training loss history')\n",
        "plt.show()"
      ],
      "metadata": {
        "id": "V3vp1r7DmS2Z"
      },
      "execution_count": null,
      "outputs": []
    },
    {
      "cell_type": "markdown",
      "source": [
        "#Use regularizer techniques "
      ],
      "metadata": {
        "id": "EhsCw-nNueBZ"
      }
    },
    {
      "cell_type": "markdown",
      "source": [
        "L1 (Lasso Regression)"
      ],
      "metadata": {
        "id": "QF48ozizuG6N"
      }
    },
    {
      "cell_type": "code",
      "source": [
        "reg = L1(1e-5)"
      ],
      "metadata": {
        "id": "Ihi-QvZIuCmG"
      },
      "execution_count": null,
      "outputs": []
    },
    {
      "cell_type": "code",
      "source": [
        "L1_model = Sequential()\n",
        "# define 3x3 filter window sizes. Create 32 filters.\n",
        "L1_model.add(Conv2D(filters=32,\n",
        "                        kernel_size=(3, 3), strides = (3,3),\n",
        "                        activation='relu',\n",
        "                        input_shape=(256, 256, 3)))\n",
        "\n",
        "# max pool in 2x2 window\n",
        "L1_model.add(BatchNormalization())\n",
        "L1_model.add(MaxPooling2D(pool_size=(4, 4)))\n",
        "L1_model.add(Conv2D(32, (3, 3), activation='relu', kernel_regularizer = reg))\n",
        "\n",
        "L1_model.add(BatchNormalization())\n",
        "L1_model.add(MaxPooling2D((2, 2)))\n",
        "L1_model.add(Conv2D(32, (3, 3), activation='relu', kernel_regularizer = reg))\n",
        "\n",
        "# transition to dense fully-connected part of network\n",
        "L1_model.add(Flatten())\n",
        "L1_model.add(Dense(64, activation='relu'))\n",
        "L1_model.add(Dropout(0.5)) \n",
        "L1_model.add(Dense(22, activation='softmax'))"
      ],
      "metadata": {
        "id": "tolOzjc_uCpt"
      },
      "execution_count": null,
      "outputs": []
    },
    {
      "cell_type": "code",
      "source": [
        "opt = Adam(learning_rate=0.00001, beta_1=0.9, beta_2=0.999, epsilon=1e-05)\n",
        "L1_model.compile(optimizer=opt, loss='categorical_crossentropy',  metrics=['accuracy'])"
      ],
      "metadata": {
        "id": "8F25zKVbuCvf"
      },
      "execution_count": null,
      "outputs": []
    },
    {
      "cell_type": "code",
      "source": [
        "history_cnn = L1_model.fit(train_ds, epochs= 50, validation_data= validation_ds)"
      ],
      "metadata": {
        "id": "tfegnRNfuCyr"
      },
      "execution_count": null,
      "outputs": []
    },
    {
      "cell_type": "code",
      "source": [
        "train_cnn_history = pd.DataFrame(history_cnn.history)\n",
        "train_cnn_history.index.name = 'epochs'\n",
        "\n",
        "col_list = ['loss', 'val_loss']\n",
        "train_cnn_history[col_list].plot()\n",
        "plt.ylabel('Categorical cross entropy')\n",
        "plt.title('Training loss history')\n",
        "plt.show()"
      ],
      "metadata": {
        "id": "vehsogSEvJFs"
      },
      "execution_count": null,
      "outputs": []
    },
    {
      "cell_type": "code",
      "source": [
        "col_list = ['accuracy', 'val_accuracy']\n",
        "train_cnn_history[col_list].plot()\n",
        "plt.ylabel('Accuracy')\n",
        "plt.title('Training loss history')\n",
        "plt.show()"
      ],
      "metadata": {
        "id": "s0m9bbpfvJIb"
      },
      "execution_count": null,
      "outputs": []
    },
    {
      "cell_type": "markdown",
      "source": [
        "#Add data augmentation to further enchance model capabilities"
      ],
      "metadata": {
        "id": "e6Fce9u9txYq"
      }
    },
    {
      "cell_type": "markdown",
      "source": [
        "L1 (Lasso Regression) + Data Augmentation"
      ],
      "metadata": {
        "id": "2KuLCaTIt84v"
      }
    },
    {
      "cell_type": "code",
      "source": [
        "reg = L1(3e-5)"
      ],
      "metadata": {
        "id": "TXlgFW-ztxnm"
      },
      "execution_count": 9,
      "outputs": []
    },
    {
      "cell_type": "code",
      "source": [
        "data_augmentation = tf.keras.Sequential([\n",
        "  layers.RandomFlip(\"horizontal_and_vertical\"),\n",
        "  layers.RandomRotation(0.5),\n",
        "])"
      ],
      "metadata": {
        "id": "wZrTO8Qrvnlq"
      },
      "execution_count": 10,
      "outputs": []
    },
    {
      "cell_type": "code",
      "source": [
        "L1_model2 = Sequential()\n",
        "# define 3x3 filter window sizes. Create 32 filters.\n",
        "L1_model2.add(Conv2D(filters=32, kernel_size=(3, 3), strides = (2,2),\n",
        "                     activation='relu', input_shape=(256, 256, 3),\n",
        "                     kernel_regularizer = reg))\n",
        "\n",
        "# max pool in 2x2 window\n",
        "L1_model2.add(BatchNormalization())\n",
        "L1_model2.add(MaxPooling2D(pool_size=(4, 4)))\n",
        "data_augmentation\n",
        "L1_model2.add(Conv2D(32, (3, 3), activation='relu', kernel_regularizer = reg))\n",
        "\n",
        "L1_model2.add(BatchNormalization())\n",
        "L1_model2.add(MaxPooling2D((2, 2)))\n",
        "data_augmentation\n",
        "L1_model2.add(Conv2D(32, (3, 3), activation='relu', kernel_regularizer = reg))\n",
        "\n",
        "L1_model2.add(BatchNormalization())\n",
        "L1_model2.add(MaxPooling2D((2, 2)))\n",
        "data_augmentation\n",
        "L1_model2.add(Conv2D(32, (3, 3), activation='relu', kernel_regularizer = reg))\n",
        "\n",
        "# transition to dense fully-connected part of network\n",
        "L1_model2.add(Flatten())\n",
        "L1_model2.add(Dense(64, activation='relu'))\n",
        "L1_model2.add(Dropout(0.6)) \n",
        "L1_model2.add(Dense(22, activation='softmax'))"
      ],
      "metadata": {
        "id": "n_34WvQPuGAD"
      },
      "execution_count": 11,
      "outputs": []
    },
    {
      "cell_type": "code",
      "source": [
        "opt = Adam(learning_rate=0.0001, beta_1=0.9, beta_2=0.999, epsilon=1e-05)\n",
        "L1_model2.compile(optimizer=opt, loss='categorical_crossentropy',  metrics=['accuracy'])"
      ],
      "metadata": {
        "id": "wyzb9dlWuGDD"
      },
      "execution_count": 12,
      "outputs": []
    },
    {
      "cell_type": "code",
      "source": [
        "history_cnn = L1_model2.fit(train_ds, epochs= 50, validation_data= validation_ds)"
      ],
      "metadata": {
        "colab": {
          "base_uri": "https://localhost:8080/"
        },
        "id": "pmEK4yo_txqJ",
        "outputId": "3503342d-6e90-436f-8d5a-4a583ec11988"
      },
      "execution_count": 13,
      "outputs": [
        {
          "output_type": "stream",
          "name": "stdout",
          "text": [
            "Epoch 1/50\n",
            "134/134 [==============================] - 48s 327ms/step - loss: 3.5432 - accuracy: 0.0767 - val_loss: 3.1581 - val_accuracy: 0.0909\n",
            "Epoch 2/50\n",
            "134/134 [==============================] - 47s 329ms/step - loss: 2.9369 - accuracy: 0.1561 - val_loss: 2.8941 - val_accuracy: 0.1273\n",
            "Epoch 3/50\n",
            "134/134 [==============================] - 46s 326ms/step - loss: 2.7108 - accuracy: 0.2188 - val_loss: 2.6859 - val_accuracy: 0.2182\n",
            "Epoch 4/50\n",
            "134/134 [==============================] - 47s 328ms/step - loss: 2.5128 - accuracy: 0.2588 - val_loss: 2.5144 - val_accuracy: 0.2727\n",
            "Epoch 5/50\n",
            "134/134 [==============================] - 47s 329ms/step - loss: 2.3553 - accuracy: 0.3044 - val_loss: 2.3529 - val_accuracy: 0.3091\n",
            "Epoch 6/50\n",
            "134/134 [==============================] - 48s 338ms/step - loss: 2.1814 - accuracy: 0.3608 - val_loss: 2.1737 - val_accuracy: 0.4000\n",
            "Epoch 7/50\n",
            "134/134 [==============================] - 48s 336ms/step - loss: 2.0691 - accuracy: 0.3832 - val_loss: 2.0426 - val_accuracy: 0.4273\n",
            "Epoch 8/50\n",
            "134/134 [==============================] - 48s 336ms/step - loss: 1.9491 - accuracy: 0.4237 - val_loss: 1.9435 - val_accuracy: 0.4182\n",
            "Epoch 9/50\n",
            "134/134 [==============================] - 46s 326ms/step - loss: 1.8300 - accuracy: 0.4539 - val_loss: 1.8398 - val_accuracy: 0.4455\n",
            "Epoch 10/50\n",
            "134/134 [==============================] - 47s 330ms/step - loss: 1.7246 - accuracy: 0.4951 - val_loss: 1.7418 - val_accuracy: 0.4909\n",
            "Epoch 11/50\n",
            "134/134 [==============================] - 47s 328ms/step - loss: 1.6330 - accuracy: 0.5122 - val_loss: 1.6329 - val_accuracy: 0.5545\n",
            "Epoch 12/50\n",
            "134/134 [==============================] - 47s 328ms/step - loss: 1.5437 - accuracy: 0.5426 - val_loss: 1.5135 - val_accuracy: 0.5545\n",
            "Epoch 13/50\n",
            "134/134 [==============================] - 47s 328ms/step - loss: 1.4745 - accuracy: 0.5533 - val_loss: 1.4523 - val_accuracy: 0.5909\n",
            "Epoch 14/50\n",
            "134/134 [==============================] - 47s 328ms/step - loss: 1.3981 - accuracy: 0.5788 - val_loss: 1.3167 - val_accuracy: 0.6455\n",
            "Epoch 15/50\n",
            "134/134 [==============================] - 47s 330ms/step - loss: 1.3636 - accuracy: 0.5884 - val_loss: 1.4114 - val_accuracy: 0.5727\n",
            "Epoch 16/50\n",
            "134/134 [==============================] - 47s 330ms/step - loss: 1.3047 - accuracy: 0.6128 - val_loss: 1.4255 - val_accuracy: 0.5909\n",
            "Epoch 17/50\n",
            "134/134 [==============================] - 47s 331ms/step - loss: 1.2169 - accuracy: 0.6355 - val_loss: 1.1771 - val_accuracy: 0.6545\n",
            "Epoch 18/50\n",
            "134/134 [==============================] - 47s 330ms/step - loss: 1.1907 - accuracy: 0.6411 - val_loss: 1.1927 - val_accuracy: 0.6636\n",
            "Epoch 19/50\n",
            "134/134 [==============================] - 48s 335ms/step - loss: 1.1259 - accuracy: 0.6593 - val_loss: 1.1322 - val_accuracy: 0.6636\n",
            "Epoch 20/50\n",
            "134/134 [==============================] - 48s 337ms/step - loss: 1.1061 - accuracy: 0.6696 - val_loss: 1.1894 - val_accuracy: 0.6364\n",
            "Epoch 21/50\n",
            "134/134 [==============================] - 48s 335ms/step - loss: 1.0744 - accuracy: 0.6759 - val_loss: 1.1131 - val_accuracy: 0.6636\n",
            "Epoch 22/50\n",
            "134/134 [==============================] - 47s 333ms/step - loss: 1.0491 - accuracy: 0.6926 - val_loss: 1.1231 - val_accuracy: 0.6727\n",
            "Epoch 23/50\n",
            "134/134 [==============================] - 47s 332ms/step - loss: 1.0059 - accuracy: 0.6982 - val_loss: 1.0676 - val_accuracy: 0.6636\n",
            "Epoch 24/50\n",
            "134/134 [==============================] - 47s 333ms/step - loss: 0.9347 - accuracy: 0.7171 - val_loss: 1.1091 - val_accuracy: 0.6909\n",
            "Epoch 25/50\n",
            "134/134 [==============================] - 47s 328ms/step - loss: 0.9456 - accuracy: 0.7115 - val_loss: 1.0715 - val_accuracy: 0.6818\n",
            "Epoch 26/50\n",
            "134/134 [==============================] - 46s 327ms/step - loss: 0.9006 - accuracy: 0.7351 - val_loss: 1.0998 - val_accuracy: 0.6455\n",
            "Epoch 27/50\n",
            "134/134 [==============================] - 47s 328ms/step - loss: 0.8600 - accuracy: 0.7380 - val_loss: 1.0775 - val_accuracy: 0.6636\n",
            "Epoch 28/50\n",
            "134/134 [==============================] - 46s 327ms/step - loss: 0.8456 - accuracy: 0.7480 - val_loss: 1.0675 - val_accuracy: 0.6636\n",
            "Epoch 29/50\n",
            "134/134 [==============================] - 46s 326ms/step - loss: 0.8256 - accuracy: 0.7471 - val_loss: 1.0016 - val_accuracy: 0.7182\n",
            "Epoch 30/50\n",
            "134/134 [==============================] - 46s 328ms/step - loss: 0.7895 - accuracy: 0.7595 - val_loss: 1.0270 - val_accuracy: 0.6818\n",
            "Epoch 31/50\n",
            "134/134 [==============================] - 47s 327ms/step - loss: 0.7690 - accuracy: 0.7714 - val_loss: 0.9374 - val_accuracy: 0.6909\n",
            "Epoch 32/50\n",
            "134/134 [==============================] - 47s 330ms/step - loss: 0.7576 - accuracy: 0.7693 - val_loss: 0.9692 - val_accuracy: 0.6909\n",
            "Epoch 33/50\n",
            "134/134 [==============================] - 47s 329ms/step - loss: 0.7439 - accuracy: 0.7803 - val_loss: 0.9823 - val_accuracy: 0.7000\n",
            "Epoch 34/50\n",
            "134/134 [==============================] - 47s 328ms/step - loss: 0.7192 - accuracy: 0.7752 - val_loss: 1.1161 - val_accuracy: 0.6455\n",
            "Epoch 35/50\n",
            "134/134 [==============================] - 46s 326ms/step - loss: 0.6934 - accuracy: 0.7978 - val_loss: 0.9535 - val_accuracy: 0.7182\n",
            "Epoch 36/50\n",
            "134/134 [==============================] - 46s 325ms/step - loss: 0.6949 - accuracy: 0.7892 - val_loss: 0.9429 - val_accuracy: 0.7091\n",
            "Epoch 37/50\n",
            "134/134 [==============================] - 47s 328ms/step - loss: 0.6873 - accuracy: 0.7887 - val_loss: 0.9681 - val_accuracy: 0.7273\n",
            "Epoch 38/50\n",
            "134/134 [==============================] - 47s 329ms/step - loss: 0.6589 - accuracy: 0.7988 - val_loss: 0.8920 - val_accuracy: 0.7273\n",
            "Epoch 39/50\n",
            "134/134 [==============================] - 46s 325ms/step - loss: 0.6603 - accuracy: 0.8002 - val_loss: 0.9278 - val_accuracy: 0.7364\n",
            "Epoch 40/50\n",
            "134/134 [==============================] - 46s 327ms/step - loss: 0.6207 - accuracy: 0.8102 - val_loss: 1.0928 - val_accuracy: 0.6818\n",
            "Epoch 41/50\n",
            "134/134 [==============================] - 46s 326ms/step - loss: 0.6264 - accuracy: 0.8156 - val_loss: 1.0580 - val_accuracy: 0.7000\n",
            "Epoch 42/50\n",
            "134/134 [==============================] - 46s 327ms/step - loss: 0.6114 - accuracy: 0.8131 - val_loss: 1.1090 - val_accuracy: 0.6909\n",
            "Epoch 43/50\n",
            "134/134 [==============================] - 47s 327ms/step - loss: 0.5913 - accuracy: 0.8201 - val_loss: 1.0119 - val_accuracy: 0.7000\n",
            "Epoch 44/50\n",
            "134/134 [==============================] - 46s 325ms/step - loss: 0.5682 - accuracy: 0.8292 - val_loss: 1.0247 - val_accuracy: 0.6909\n",
            "Epoch 45/50\n",
            "134/134 [==============================] - 47s 331ms/step - loss: 0.5747 - accuracy: 0.8231 - val_loss: 1.0299 - val_accuracy: 0.7182\n",
            "Epoch 46/50\n",
            "134/134 [==============================] - 47s 331ms/step - loss: 0.5747 - accuracy: 0.8280 - val_loss: 0.9902 - val_accuracy: 0.7182\n",
            "Epoch 47/50\n",
            "134/134 [==============================] - 48s 335ms/step - loss: 0.5429 - accuracy: 0.8388 - val_loss: 1.0311 - val_accuracy: 0.7091\n",
            "Epoch 48/50\n",
            "134/134 [==============================] - 47s 334ms/step - loss: 0.5357 - accuracy: 0.8336 - val_loss: 1.0234 - val_accuracy: 0.7182\n",
            "Epoch 49/50\n",
            "134/134 [==============================] - 47s 331ms/step - loss: 0.5376 - accuracy: 0.8372 - val_loss: 1.0470 - val_accuracy: 0.7364\n",
            "Epoch 50/50\n",
            "134/134 [==============================] - 47s 328ms/step - loss: 0.5125 - accuracy: 0.8418 - val_loss: 0.9357 - val_accuracy: 0.7364\n"
          ]
        }
      ]
    },
    {
      "cell_type": "code",
      "source": [
        "L1_model2.evaluate(validation_ds)"
      ],
      "metadata": {
        "colab": {
          "base_uri": "https://localhost:8080/"
        },
        "id": "dP1wUbACGW9u",
        "outputId": "00018b23-bb3c-4fbf-cac7-8b425b0123e1"
      },
      "execution_count": 14,
      "outputs": [
        {
          "output_type": "stream",
          "name": "stdout",
          "text": [
            "4/4 [==============================] - 1s 23ms/step - loss: 0.9357 - accuracy: 0.7364\n"
          ]
        },
        {
          "output_type": "execute_result",
          "data": {
            "text/plain": [
              "[0.9356732368469238, 0.7363636493682861]"
            ]
          },
          "metadata": {},
          "execution_count": 14
        }
      ]
    },
    {
      "cell_type": "code",
      "source": [
        "L1_model2.evaluate(test_ds)"
      ],
      "metadata": {
        "colab": {
          "base_uri": "https://localhost:8080/"
        },
        "id": "RwMAaLIbMa7V",
        "outputId": "7760c430-8f8e-45a0-a26a-6ec41b79e4c3"
      },
      "execution_count": 15,
      "outputs": [
        {
          "output_type": "stream",
          "name": "stdout",
          "text": [
            "4/4 [==============================] - 1s 23ms/step - loss: 0.7553 - accuracy: 0.7818\n"
          ]
        },
        {
          "output_type": "execute_result",
          "data": {
            "text/plain": [
              "[0.7552722692489624, 0.7818182110786438]"
            ]
          },
          "metadata": {},
          "execution_count": 15
        }
      ]
    },
    {
      "cell_type": "code",
      "source": [
        "L1_model2.save('/content/gdrive/MyDrive/Colab Notebooks/Plant_Leaf_Classitication/Models')"
      ],
      "metadata": {
        "colab": {
          "base_uri": "https://localhost:8080/"
        },
        "id": "PJeCHrlxNamJ",
        "outputId": "c0f91701-cd4e-4efc-febc-557d08eb5fce"
      },
      "execution_count": 18,
      "outputs": [
        {
          "output_type": "stream",
          "name": "stderr",
          "text": [
            "WARNING:absl:Found untraced functions such as _jit_compiled_convolution_op, _jit_compiled_convolution_op, _jit_compiled_convolution_op, _jit_compiled_convolution_op while saving (showing 4 of 4). These functions will not be directly callable after loading.\n"
          ]
        }
      ]
    },
    {
      "cell_type": "code",
      "source": [
        "from google.colab import drive\n",
        "drive.mount('/content/gdrive')"
      ],
      "metadata": {
        "colab": {
          "base_uri": "https://localhost:8080/"
        },
        "id": "Wnzfe2itOKTu",
        "outputId": "5016df48-f7d5-4d99-a2ae-d187610a120f"
      },
      "execution_count": 17,
      "outputs": [
        {
          "output_type": "stream",
          "name": "stdout",
          "text": [
            "Mounted at /content/gdrive\n"
          ]
        }
      ]
    },
    {
      "cell_type": "code",
      "source": [
        "train_cnn_history = pd.DataFrame(history_cnn.history)\n",
        "train_cnn_history.index.name = 'epochs'\n",
        "\n",
        "col_list = ['loss', 'val_loss']\n",
        "train_cnn_history[col_list].plot()\n",
        "plt.ylabel('Categorical cross entropy')\n",
        "plt.title('Training loss history')\n",
        "plt.show()"
      ],
      "metadata": {
        "colab": {
          "base_uri": "https://localhost:8080/",
          "height": 295
        },
        "id": "AwBjxTC8txs6",
        "outputId": "7ac0ae87-52b5-47c1-e5ff-0cb8622c9c4b"
      },
      "execution_count": 172,
      "outputs": [
        {
          "output_type": "display_data",
          "data": {
            "text/plain": [
              "<Figure size 432x288 with 1 Axes>"
            ],
            "image/png": "[encoded data removed]"
          },
          "metadata": {
            "needs_background": "light"
          }
        }
      ]
    },
    {
      "cell_type": "code",
      "source": [
        "col_list = ['accuracy', 'val_accuracy']\n",
        "train_cnn_history[col_list].plot()\n",
        "plt.ylabel('Accuracy')\n",
        "plt.title('Training loss history')\n",
        "plt.show()"
      ],
      "metadata": {
        "colab": {
          "base_uri": "https://localhost:8080/",
          "height": 295
        },
        "id": "KVLLrEqk9BsQ",
        "outputId": "a3e5163d-c48e-4e11-e04a-20ffc2d48dc8"
      },
      "execution_count": 173,
      "outputs": [
        {
          "output_type": "display_data",
          "data": {
            "text/plain": [
              "<Figure size 432x288 with 1 Axes>"
            ],
            "image/png": "[encoded data removed]"
          },
          "metadata": {
            "needs_background": "light"
          }
        }
      ]
    },
    {
      "cell_type": "code",
      "source": [
        "test_generator = ImageDataGenerator()\n",
        "img_width, img_height = 256, 256\n",
        "test_data_generator = test_generator.flow_from_directory(\n",
        "     '/content/plant-leaves-for-image-classification/Plants_2/valid',\n",
        "     target_size=(img_width, img_height),\n",
        "    batch_size=32,\n",
        "    shuffle=False)\n",
        "test_steps_per_epoch = np.math.ceil(test_data_generator.samples / test_data_generator.batch_size)\n",
        "\n",
        "predictions = L1_model2.predict(test_data_generator, steps=test_steps_per_epoch)\n",
        "# Get most likely class\n",
        "predicted_classes = np.argmax(predictions, axis=1)"
      ],
      "metadata": {
        "colab": {
          "base_uri": "https://localhost:8080/"
        },
        "id": "ms-VaeVqunYX",
        "outputId": "af05f9b6-264b-4035-c227-0727d3b27d8d"
      },
      "execution_count": 211,
      "outputs": [
        {
          "output_type": "stream",
          "name": "stdout",
          "text": [
            "Found 110 images belonging to 22 classes.\n",
            "4/4 [==============================] - 33s 8s/step\n"
          ]
        }
      ]
    },
    {
      "cell_type": "code",
      "source": [
        "true_classes = test_data_generator.classes\n",
        "class_labels = list(test_data_generator.class_indices.keys()) "
      ],
      "metadata": {
        "id": "lfPVgf0Uunc-"
      },
      "execution_count": 212,
      "outputs": []
    },
    {
      "cell_type": "code",
      "source": [
        "plt.figure(figsize=(15, 10))\n",
        "ax= plt.subplot()\n",
        "sns.heatmap(confusion_matrix(predicted_classes, true_classes), annot=True, fmt='g', ax=ax)"
      ],
      "metadata": {
        "colab": {
          "base_uri": "https://localhost:8080/",
          "height": 614
        },
        "id": "6udE_D7DxEhf",
        "outputId": "e5bc2c51-0f63-4d34-d850-ae9b774ddf9c"
      },
      "execution_count": 213,
      "outputs": [
        {
          "output_type": "execute_result",
          "data": {
            "text/plain": [
              "<matplotlib.axes._subplots.AxesSubplot at 0x7efea05d5dc0>"
            ]
          },
          "metadata": {},
          "execution_count": 213
        },
        {
          "output_type": "display_data",
          "data": {
            "text/plain": [
              "<Figure size 1080x720 with 2 Axes>"
            ],
            "image/png": "[encoded data removed]"
          },
          "metadata": {
            "needs_background": "light"
          }
        }
      ]
    },
    {
      "cell_type": "code",
      "source": [
        "report = metrics.classification_report(true_classes, predicted_classes, target_names=class_labels)\n",
        "print(report)"
      ],
      "metadata": {
        "colab": {
          "base_uri": "https://localhost:8080/"
        },
        "id": "op2JtN8dwe-9",
        "outputId": "c2b84cfe-1ed5-4bd6-e758-f260f8dbe4fd"
      },
      "execution_count": 177,
      "outputs": [
        {
          "output_type": "stream",
          "name": "stdout",
          "text": [
            "                                   precision    recall  f1-score   support\n",
            "\n",
            "Alstonia Scholaris diseased (P2a)       1.00      0.80      0.89         5\n",
            " Alstonia Scholaris healthy (P2b)       0.83      1.00      0.91         5\n",
            "             Arjun diseased (P1a)       0.80      0.80      0.80         5\n",
            "              Arjun healthy (P1b)       0.83      1.00      0.91         5\n",
            "              Bael diseased (P4b)       1.00      0.40      0.57         5\n",
            "               Basil healthy (P8)       0.71      1.00      0.83         5\n",
            "           Chinar diseased (P11b)       0.33      0.40      0.36         5\n",
            "            Chinar healthy (P11a)       0.67      0.40      0.50         5\n",
            "             Gauva diseased (P3b)       0.57      0.80      0.67         5\n",
            "              Gauva healthy (P3a)       0.80      0.80      0.80         5\n",
            "             Jamun diseased (P5b)       0.29      0.80      0.42         5\n",
            "              Jamun healthy (P5a)       0.00      0.00      0.00         5\n",
            "          Jatropha diseased (P6b)       0.71      1.00      0.83         5\n",
            "           Jatropha healthy (P6a)       1.00      0.80      0.89         5\n",
            "            Lemon diseased (P10b)       1.00      0.60      0.75         5\n",
            "             Lemon healthy (P10a)       0.83      1.00      0.91         5\n",
            "             Mango diseased (P0b)       1.00      0.80      0.89         5\n",
            "              Mango healthy (P0a)       1.00      1.00      1.00         5\n",
            "       Pomegranate diseased (P9b)       1.00      0.80      0.89         5\n",
            "        Pomegranate healthy (P9a)       0.80      0.80      0.80         5\n",
            "  Pongamia Pinnata diseased (P7b)       0.00      0.00      0.00         5\n",
            "   Pongamia Pinnata healthy (P7a)       1.00      1.00      1.00         5\n",
            "\n",
            "                         accuracy                           0.73       110\n",
            "                        macro avg       0.74      0.73      0.71       110\n",
            "                     weighted avg       0.74      0.73      0.71       110\n",
            "\n"
          ]
        },
        {
          "output_type": "stream",
          "name": "stderr",
          "text": [
            "/usr/local/lib/python3.8/dist-packages/sklearn/metrics/_classification.py:1318: UndefinedMetricWarning: Precision and F-score are ill-defined and being set to 0.0 in labels with no predicted samples. Use `zero_division` parameter to control this behavior.\n",
            "  _warn_prf(average, modifier, msg_start, len(result))\n",
            "/usr/local/lib/python3.8/dist-packages/sklearn/metrics/_classification.py:1318: UndefinedMetricWarning: Precision and F-score are ill-defined and being set to 0.0 in labels with no predicted samples. Use `zero_division` parameter to control this behavior.\n",
            "  _warn_prf(average, modifier, msg_start, len(result))\n",
            "/usr/local/lib/python3.8/dist-packages/sklearn/metrics/_classification.py:1318: UndefinedMetricWarning: Precision and F-score are ill-defined and being set to 0.0 in labels with no predicted samples. Use `zero_division` parameter to control this behavior.\n",
            "  _warn_prf(average, modifier, msg_start, len(result))\n"
          ]
        }
      ]
    },
    {
      "cell_type": "markdown",
      "source": [],
      "metadata": {
        "id": "2qJkADwfDDjQ"
      }
    },
    {
      "cell_type": "code",
      "source": [
        "L1_model2.save('BestL1Model.h5')"
      ],
      "metadata": {
        "id": "DrUgxCKE-HSA"
      },
      "execution_count": 199,
      "outputs": []
    },
    {
      "cell_type": "markdown",
      "source": [
        "#L2 (Ridge Regression) regularizer with Augmentation"
      ],
      "metadata": {
        "id": "13CYYmPEl7FN"
      }
    },
    {
      "cell_type": "code",
      "source": [
        "#setup a regularizer \n",
        "reg = L2(3e-5)"
      ],
      "metadata": {
        "id": "zyOqj0Q_bsY-"
      },
      "execution_count": 192,
      "outputs": []
    },
    {
      "cell_type": "code",
      "source": [
        "#since I only have 4K data points for 22 classifications, using augments to create more data\n",
        "data_augmentation = tf.keras.Sequential([\n",
        "  layers.RandomFlip(\"horizontal_and_vertical\"),\n",
        "  layers.RandomRotation(0.5),\n",
        "])"
      ],
      "metadata": {
        "id": "W1z9LGmTNhH0"
      },
      "execution_count": 193,
      "outputs": []
    },
    {
      "cell_type": "code",
      "source": [
        "#making a learning rate schedule to decay the learning rate \n",
        "lr_schedule = tf.keras.optimizers.schedules.ExponentialDecay(\n",
        "    initial_learning_rate=3e-5,\n",
        "    decay_steps=50,\n",
        "    decay_rate=0.9)"
      ],
      "metadata": {
        "id": "vSvbOLHITQJZ"
      },
      "execution_count": 194,
      "outputs": []
    },
    {
      "cell_type": "code",
      "source": [
        "L2_model = Sequential()\n",
        "# define 3x3 filter window sizes. Create 32 filters.\n",
        "L2_model.add(Conv2D(filters=32,\n",
        "                        kernel_size=(3, 3), strides = (2,2),\n",
        "                        activation='relu',\n",
        "                        input_shape=(256, 256, 3),\n",
        "                        kernel_regularizer = reg))\n",
        "\n",
        "# max pool in 2x2 window\n",
        "L2_model.add(BatchNormalization())\n",
        "L2_model.add(MaxPooling2D(pool_size=(4, 4)))\n",
        "data_augmentation\n",
        "L2_model.add(Conv2D(32, (3, 3), activation='relu', kernel_regularizer = reg))\n",
        "\n",
        "#L2_model.add(BatchNormalization())\n",
        "#L2_model.add(MaxPooling2D((2, 2)))\n",
        "#data_augmentation\n",
        "#L2_model.add(Conv2D(32, (3, 3), activation='relu', kernel_regularizer = reg))\n",
        "\n",
        "# transition to dense fully-connected part of network\n",
        "L2_model.add(Flatten())\n",
        "L2_model.add(Dense(64, activation='relu'))\n",
        "L1_model2.add(Dropout(0.6)) \n",
        "L2_model.add(Dense(22, activation='softmax'))"
      ],
      "metadata": {
        "id": "ofABLec6mQn1"
      },
      "execution_count": 195,
      "outputs": []
    },
    {
      "cell_type": "code",
      "source": [
        "opt = Adam(learning_rate = lr_schedule, beta_1=0.9, beta_2=0.999, epsilon=1e-05)\n",
        "L2_model.compile(optimizer=opt, loss='categorical_crossentropy',  metrics=['accuracy'])\n"
      ],
      "metadata": {
        "id": "tRSuspJqmmx0"
      },
      "execution_count": 197,
      "outputs": []
    },
    {
      "cell_type": "code",
      "source": [
        "history_cnn = L2_model.fit(train_ds, epochs= 50, validation_data= validation_ds)"
      ],
      "metadata": {
        "colab": {
          "base_uri": "https://localhost:8080/",
          "height": 836
        },
        "id": "IA2_kPmVmm0R",
        "outputId": "18c5796f-9ce3-483c-e0ae-adc797b85332"
      },
      "execution_count": 198,
      "outputs": [
        {
          "output_type": "stream",
          "name": "stdout",
          "text": [
            "Epoch 1/50\n",
            "134/134 [==============================] - 50s 351ms/step - loss: 2.4366 - accuracy: 0.3084 - val_loss: 2.9401 - val_accuracy: 0.2273\n",
            "Epoch 2/50\n",
            "134/134 [==============================] - 50s 354ms/step - loss: 1.2970 - accuracy: 0.6259 - val_loss: 1.9748 - val_accuracy: 0.5091\n",
            "Epoch 3/50\n",
            "134/134 [==============================] - 50s 354ms/step - loss: 0.8184 - accuracy: 0.7756 - val_loss: 1.7359 - val_accuracy: 0.5545\n",
            "Epoch 4/50\n",
            "134/134 [==============================] - 51s 356ms/step - loss: 0.6087 - accuracy: 0.8372 - val_loss: 1.6258 - val_accuracy: 0.6091\n",
            "Epoch 5/50\n",
            "134/134 [==============================] - 50s 351ms/step - loss: 0.4753 - accuracy: 0.8858 - val_loss: 1.6268 - val_accuracy: 0.6273\n",
            "Epoch 6/50\n",
            "134/134 [==============================] - 50s 354ms/step - loss: 0.4027 - accuracy: 0.9073 - val_loss: 1.6221 - val_accuracy: 0.6545\n",
            "Epoch 7/50\n",
            "134/134 [==============================] - 50s 353ms/step - loss: 0.3588 - accuracy: 0.9207 - val_loss: 1.6344 - val_accuracy: 0.6545\n",
            "Epoch 8/50\n",
            "134/134 [==============================] - 50s 353ms/step - loss: 0.3291 - accuracy: 0.9314 - val_loss: 1.5990 - val_accuracy: 0.6545\n",
            "Epoch 9/50\n",
            "134/134 [==============================] - 50s 349ms/step - loss: 0.2993 - accuracy: 0.9420 - val_loss: 1.5871 - val_accuracy: 0.6455\n",
            "Epoch 10/50\n",
            "134/134 [==============================] - 50s 350ms/step - loss: 0.2866 - accuracy: 0.9453 - val_loss: 1.5782 - val_accuracy: 0.6545\n",
            "Epoch 11/50\n",
            "134/134 [==============================] - 50s 353ms/step - loss: 0.2751 - accuracy: 0.9460 - val_loss: 1.5745 - val_accuracy: 0.6545\n",
            "Epoch 12/50\n",
            "134/134 [==============================] - 60s 429ms/step - loss: 0.2635 - accuracy: 0.9520 - val_loss: 1.5653 - val_accuracy: 0.6545\n",
            "Epoch 13/50\n",
            "134/134 [==============================] - 50s 353ms/step - loss: 0.2610 - accuracy: 0.9481 - val_loss: 1.5577 - val_accuracy: 0.6545\n",
            "Epoch 14/50\n",
            "  2/134 [..............................] - ETA: 45s - loss: 0.1979 - accuracy: 0.9688 "
          ]
        },
        {
          "output_type": "error",
          "ename": "KeyboardInterrupt",
          "evalue": "ignored",
          "traceback": [
            "\u001b[0;31m---------------------------------------------------------------------------\u001b[0m",
            "\u001b[0;31mKeyboardInterrupt\u001b[0m                         Traceback (most recent call last)",
            "\u001b[0;32m<ipython-input-198-eb40fda3927a>\u001b[0m in \u001b[0;36m<module>\u001b[0;34m\u001b[0m\n\u001b[0;32m----> 1\u001b[0;31m \u001b[0mhistory_cnn\u001b[0m \u001b[0;34m=\u001b[0m \u001b[0mL2_model\u001b[0m\u001b[0;34m.\u001b[0m\u001b[0mfit\u001b[0m\u001b[0;34m(\u001b[0m\u001b[0mtrain_ds\u001b[0m\u001b[0;34m,\u001b[0m \u001b[0mepochs\u001b[0m\u001b[0;34m=\u001b[0m \u001b[0;36m50\u001b[0m\u001b[0;34m,\u001b[0m \u001b[0mvalidation_data\u001b[0m\u001b[0;34m=\u001b[0m \u001b[0mvalidation_ds\u001b[0m\u001b[0;34m)\u001b[0m\u001b[0;34m\u001b[0m\u001b[0;34m\u001b[0m\u001b[0m\n\u001b[0m",
            "\u001b[0;32m/usr/local/lib/python3.8/dist-packages/keras/utils/traceback_utils.py\u001b[0m in \u001b[0;36merror_handler\u001b[0;34m(*args, **kwargs)\u001b[0m\n\u001b[1;32m     62\u001b[0m     \u001b[0mfiltered_tb\u001b[0m \u001b[0;34m=\u001b[0m \u001b[0;32mNone\u001b[0m\u001b[0;34m\u001b[0m\u001b[0;34m\u001b[0m\u001b[0m\n\u001b[1;32m     63\u001b[0m     \u001b[0;32mtry\u001b[0m\u001b[0;34m:\u001b[0m\u001b[0;34m\u001b[0m\u001b[0;34m\u001b[0m\u001b[0m\n\u001b[0;32m---> 64\u001b[0;31m       \u001b[0;32mreturn\u001b[0m \u001b[0mfn\u001b[0m\u001b[0;34m(\u001b[0m\u001b[0;34m*\u001b[0m\u001b[0margs\u001b[0m\u001b[0;34m,\u001b[0m \u001b[0;34m**\u001b[0m\u001b[0mkwargs\u001b[0m\u001b[0;34m)\u001b[0m\u001b[0;34m\u001b[0m\u001b[0;34m\u001b[0m\u001b[0m\n\u001b[0m\u001b[1;32m     65\u001b[0m     \u001b[0;32mexcept\u001b[0m \u001b[0mException\u001b[0m \u001b[0;32mas\u001b[0m \u001b[0me\u001b[0m\u001b[0;34m:\u001b[0m  \u001b[0;31m# pylint: disable=broad-except\u001b[0m\u001b[0;34m\u001b[0m\u001b[0;34m\u001b[0m\u001b[0m\n\u001b[1;32m     66\u001b[0m       \u001b[0mfiltered_tb\u001b[0m \u001b[0;34m=\u001b[0m \u001b[0m_process_traceback_frames\u001b[0m\u001b[0;34m(\u001b[0m\u001b[0me\u001b[0m\u001b[0;34m.\u001b[0m\u001b[0m__traceback__\u001b[0m\u001b[0;34m)\u001b[0m\u001b[0;34m\u001b[0m\u001b[0;34m\u001b[0m\u001b[0m\n",
            "\u001b[0;32m/usr/local/lib/python3.8/dist-packages/keras/engine/training.py\u001b[0m in \u001b[0;36mfit\u001b[0;34m(self, x, y, batch_size, epochs, verbose, callbacks, validation_split, validation_data, shuffle, class_weight, sample_weight, initial_epoch, steps_per_epoch, validation_steps, validation_batch_size, validation_freq, max_queue_size, workers, use_multiprocessing)\u001b[0m\n\u001b[1;32m   1407\u001b[0m                 _r=1):\n\u001b[1;32m   1408\u001b[0m               \u001b[0mcallbacks\u001b[0m\u001b[0;34m.\u001b[0m\u001b[0mon_train_batch_begin\u001b[0m\u001b[0;34m(\u001b[0m\u001b[0mstep\u001b[0m\u001b[0;34m)\u001b[0m\u001b[0;34m\u001b[0m\u001b[0;34m\u001b[0m\u001b[0m\n\u001b[0;32m-> 1409\u001b[0;31m               \u001b[0mtmp_logs\u001b[0m \u001b[0;34m=\u001b[0m \u001b[0mself\u001b[0m\u001b[0;34m.\u001b[0m\u001b[0mtrain_function\u001b[0m\u001b[0;34m(\u001b[0m\u001b[0miterator\u001b[0m\u001b[0;34m)\u001b[0m\u001b[0;34m\u001b[0m\u001b[0;34m\u001b[0m\u001b[0m\n\u001b[0m\u001b[1;32m   1410\u001b[0m               \u001b[0;32mif\u001b[0m \u001b[0mdata_handler\u001b[0m\u001b[0;34m.\u001b[0m\u001b[0mshould_sync\u001b[0m\u001b[0;34m:\u001b[0m\u001b[0;34m\u001b[0m\u001b[0;34m\u001b[0m\u001b[0m\n\u001b[1;32m   1411\u001b[0m                 \u001b[0mcontext\u001b[0m\u001b[0;34m.\u001b[0m\u001b[0masync_wait\u001b[0m\u001b[0;34m(\u001b[0m\u001b[0;34m)\u001b[0m\u001b[0;34m\u001b[0m\u001b[0;34m\u001b[0m\u001b[0m\n",
            "\u001b[0;32m/usr/local/lib/python3.8/dist-packages/tensorflow/python/util/traceback_utils.py\u001b[0m in \u001b[0;36merror_handler\u001b[0;34m(*args, **kwargs)\u001b[0m\n\u001b[1;32m    148\u001b[0m     \u001b[0mfiltered_tb\u001b[0m \u001b[0;34m=\u001b[0m \u001b[0;32mNone\u001b[0m\u001b[0;34m\u001b[0m\u001b[0;34m\u001b[0m\u001b[0m\n\u001b[1;32m    149\u001b[0m     \u001b[0;32mtry\u001b[0m\u001b[0;34m:\u001b[0m\u001b[0;34m\u001b[0m\u001b[0;34m\u001b[0m\u001b[0m\n\u001b[0;32m--> 150\u001b[0;31m       \u001b[0;32mreturn\u001b[0m \u001b[0mfn\u001b[0m\u001b[0;34m(\u001b[0m\u001b[0;34m*\u001b[0m\u001b[0margs\u001b[0m\u001b[0;34m,\u001b[0m \u001b[0;34m**\u001b[0m\u001b[0mkwargs\u001b[0m\u001b[0;34m)\u001b[0m\u001b[0;34m\u001b[0m\u001b[0;34m\u001b[0m\u001b[0m\n\u001b[0m\u001b[1;32m    151\u001b[0m     \u001b[0;32mexcept\u001b[0m \u001b[0mException\u001b[0m \u001b[0;32mas\u001b[0m \u001b[0me\u001b[0m\u001b[0;34m:\u001b[0m\u001b[0;34m\u001b[0m\u001b[0;34m\u001b[0m\u001b[0m\n\u001b[1;32m    152\u001b[0m       \u001b[0mfiltered_tb\u001b[0m \u001b[0;34m=\u001b[0m \u001b[0m_process_traceback_frames\u001b[0m\u001b[0;34m(\u001b[0m\u001b[0me\u001b[0m\u001b[0;34m.\u001b[0m\u001b[0m__traceback__\u001b[0m\u001b[0;34m)\u001b[0m\u001b[0;34m\u001b[0m\u001b[0;34m\u001b[0m\u001b[0m\n",
            "\u001b[0;32m/usr/local/lib/python3.8/dist-packages/tensorflow/python/eager/def_function.py\u001b[0m in \u001b[0;36m__call__\u001b[0;34m(self, *args, **kwds)\u001b[0m\n\u001b[1;32m    913\u001b[0m \u001b[0;34m\u001b[0m\u001b[0m\n\u001b[1;32m    914\u001b[0m       \u001b[0;32mwith\u001b[0m \u001b[0mOptionalXlaContext\u001b[0m\u001b[0;34m(\u001b[0m\u001b[0mself\u001b[0m\u001b[0;34m.\u001b[0m\u001b[0m_jit_compile\u001b[0m\u001b[0;34m)\u001b[0m\u001b[0;34m:\u001b[0m\u001b[0;34m\u001b[0m\u001b[0;34m\u001b[0m\u001b[0m\n\u001b[0;32m--> 915\u001b[0;31m         \u001b[0mresult\u001b[0m \u001b[0;34m=\u001b[0m \u001b[0mself\u001b[0m\u001b[0;34m.\u001b[0m\u001b[0m_call\u001b[0m\u001b[0;34m(\u001b[0m\u001b[0;34m*\u001b[0m\u001b[0margs\u001b[0m\u001b[0;34m,\u001b[0m \u001b[0;34m**\u001b[0m\u001b[0mkwds\u001b[0m\u001b[0;34m)\u001b[0m\u001b[0;34m\u001b[0m\u001b[0;34m\u001b[0m\u001b[0m\n\u001b[0m\u001b[1;32m    916\u001b[0m \u001b[0;34m\u001b[0m\u001b[0m\n\u001b[1;32m    917\u001b[0m       \u001b[0mnew_tracing_count\u001b[0m \u001b[0;34m=\u001b[0m \u001b[0mself\u001b[0m\u001b[0;34m.\u001b[0m\u001b[0mexperimental_get_tracing_count\u001b[0m\u001b[0;34m(\u001b[0m\u001b[0;34m)\u001b[0m\u001b[0;34m\u001b[0m\u001b[0;34m\u001b[0m\u001b[0m\n",
            "\u001b[0;32m/usr/local/lib/python3.8/dist-packages/tensorflow/python/eager/def_function.py\u001b[0m in \u001b[0;36m_call\u001b[0;34m(self, *args, **kwds)\u001b[0m\n\u001b[1;32m    945\u001b[0m       \u001b[0;31m# In this case we have created variables on the first call, so we run the\u001b[0m\u001b[0;34m\u001b[0m\u001b[0;34m\u001b[0m\u001b[0;34m\u001b[0m\u001b[0m\n\u001b[1;32m    946\u001b[0m       \u001b[0;31m# defunned version which is guaranteed to never create variables.\u001b[0m\u001b[0;34m\u001b[0m\u001b[0;34m\u001b[0m\u001b[0;34m\u001b[0m\u001b[0m\n\u001b[0;32m--> 947\u001b[0;31m       \u001b[0;32mreturn\u001b[0m \u001b[0mself\u001b[0m\u001b[0;34m.\u001b[0m\u001b[0m_stateless_fn\u001b[0m\u001b[0;34m(\u001b[0m\u001b[0;34m*\u001b[0m\u001b[0margs\u001b[0m\u001b[0;34m,\u001b[0m \u001b[0;34m**\u001b[0m\u001b[0mkwds\u001b[0m\u001b[0;34m)\u001b[0m  \u001b[0;31m# pylint: disable=not-callable\u001b[0m\u001b[0;34m\u001b[0m\u001b[0;34m\u001b[0m\u001b[0m\n\u001b[0m\u001b[1;32m    948\u001b[0m     \u001b[0;32melif\u001b[0m \u001b[0mself\u001b[0m\u001b[0;34m.\u001b[0m\u001b[0m_stateful_fn\u001b[0m \u001b[0;32mis\u001b[0m \u001b[0;32mnot\u001b[0m \u001b[0;32mNone\u001b[0m\u001b[0;34m:\u001b[0m\u001b[0;34m\u001b[0m\u001b[0;34m\u001b[0m\u001b[0m\n\u001b[1;32m    949\u001b[0m       \u001b[0;31m# Release the lock early so that multiple threads can perform the call\u001b[0m\u001b[0;34m\u001b[0m\u001b[0;34m\u001b[0m\u001b[0;34m\u001b[0m\u001b[0m\n",
            "\u001b[0;32m/usr/local/lib/python3.8/dist-packages/tensorflow/python/eager/function.py\u001b[0m in \u001b[0;36m__call__\u001b[0;34m(self, *args, **kwargs)\u001b[0m\n\u001b[1;32m   2451\u001b[0m       (graph_function,\n\u001b[1;32m   2452\u001b[0m        filtered_flat_args) = self._maybe_define_function(args, kwargs)\n\u001b[0;32m-> 2453\u001b[0;31m     return graph_function._call_flat(\n\u001b[0m\u001b[1;32m   2454\u001b[0m         filtered_flat_args, captured_inputs=graph_function.captured_inputs)  # pylint: disable=protected-access\n\u001b[1;32m   2455\u001b[0m \u001b[0;34m\u001b[0m\u001b[0m\n",
            "\u001b[0;32m/usr/local/lib/python3.8/dist-packages/tensorflow/python/eager/function.py\u001b[0m in \u001b[0;36m_call_flat\u001b[0;34m(self, args, captured_inputs, cancellation_manager)\u001b[0m\n\u001b[1;32m   1858\u001b[0m         and executing_eagerly):\n\u001b[1;32m   1859\u001b[0m       \u001b[0;31m# No tape is watching; skip to running the function.\u001b[0m\u001b[0;34m\u001b[0m\u001b[0;34m\u001b[0m\u001b[0;34m\u001b[0m\u001b[0m\n\u001b[0;32m-> 1860\u001b[0;31m       return self._build_call_outputs(self._inference_function.call(\n\u001b[0m\u001b[1;32m   1861\u001b[0m           ctx, args, cancellation_manager=cancellation_manager))\n\u001b[1;32m   1862\u001b[0m     forward_backward = self._select_forward_and_backward_functions(\n",
            "\u001b[0;32m/usr/local/lib/python3.8/dist-packages/tensorflow/python/eager/function.py\u001b[0m in \u001b[0;36mcall\u001b[0;34m(self, ctx, args, cancellation_manager)\u001b[0m\n\u001b[1;32m    495\u001b[0m       \u001b[0;32mwith\u001b[0m \u001b[0m_InterpolateFunctionError\u001b[0m\u001b[0;34m(\u001b[0m\u001b[0mself\u001b[0m\u001b[0;34m)\u001b[0m\u001b[0;34m:\u001b[0m\u001b[0;34m\u001b[0m\u001b[0;34m\u001b[0m\u001b[0m\n\u001b[1;32m    496\u001b[0m         \u001b[0;32mif\u001b[0m \u001b[0mcancellation_manager\u001b[0m \u001b[0;32mis\u001b[0m \u001b[0;32mNone\u001b[0m\u001b[0;34m:\u001b[0m\u001b[0;34m\u001b[0m\u001b[0;34m\u001b[0m\u001b[0m\n\u001b[0;32m--> 497\u001b[0;31m           outputs = execute.execute(\n\u001b[0m\u001b[1;32m    498\u001b[0m               \u001b[0mstr\u001b[0m\u001b[0;34m(\u001b[0m\u001b[0mself\u001b[0m\u001b[0;34m.\u001b[0m\u001b[0msignature\u001b[0m\u001b[0;34m.\u001b[0m\u001b[0mname\u001b[0m\u001b[0;34m)\u001b[0m\u001b[0;34m,\u001b[0m\u001b[0;34m\u001b[0m\u001b[0;34m\u001b[0m\u001b[0m\n\u001b[1;32m    499\u001b[0m               \u001b[0mnum_outputs\u001b[0m\u001b[0;34m=\u001b[0m\u001b[0mself\u001b[0m\u001b[0;34m.\u001b[0m\u001b[0m_num_outputs\u001b[0m\u001b[0;34m,\u001b[0m\u001b[0;34m\u001b[0m\u001b[0;34m\u001b[0m\u001b[0m\n",
            "\u001b[0;32m/usr/local/lib/python3.8/dist-packages/tensorflow/python/eager/execute.py\u001b[0m in \u001b[0;36mquick_execute\u001b[0;34m(op_name, num_outputs, inputs, attrs, ctx, name)\u001b[0m\n\u001b[1;32m     52\u001b[0m   \u001b[0;32mtry\u001b[0m\u001b[0;34m:\u001b[0m\u001b[0;34m\u001b[0m\u001b[0;34m\u001b[0m\u001b[0m\n\u001b[1;32m     53\u001b[0m     \u001b[0mctx\u001b[0m\u001b[0;34m.\u001b[0m\u001b[0mensure_initialized\u001b[0m\u001b[0;34m(\u001b[0m\u001b[0;34m)\u001b[0m\u001b[0;34m\u001b[0m\u001b[0;34m\u001b[0m\u001b[0m\n\u001b[0;32m---> 54\u001b[0;31m     tensors = pywrap_tfe.TFE_Py_Execute(ctx._handle, device_name, op_name,\n\u001b[0m\u001b[1;32m     55\u001b[0m                                         inputs, attrs, num_outputs)\n\u001b[1;32m     56\u001b[0m   \u001b[0;32mexcept\u001b[0m \u001b[0mcore\u001b[0m\u001b[0;34m.\u001b[0m\u001b[0m_NotOkStatusException\u001b[0m \u001b[0;32mas\u001b[0m \u001b[0me\u001b[0m\u001b[0;34m:\u001b[0m\u001b[0;34m\u001b[0m\u001b[0;34m\u001b[0m\u001b[0m\n",
            "\u001b[0;31mKeyboardInterrupt\u001b[0m: "
          ]
        }
      ]
    },
    {
      "cell_type": "code",
      "source": [
        "train_cnn_history = pd.DataFrame(history_cnn.history)\n",
        "train_cnn_history.index.name = 'epochs'\n",
        "\n",
        "col_list = ['loss', 'val_loss']\n",
        "train_cnn_history[col_list].plot()\n",
        "plt.ylabel('Categorical cross entropy')\n",
        "plt.title('Training loss history')\n",
        "plt.show()"
      ],
      "metadata": {
        "id": "U9YYVlrAm_dS"
      },
      "execution_count": null,
      "outputs": []
    },
    {
      "cell_type": "code",
      "source": [
        "col_list = ['accuracy', 'val_accuracy']\n",
        "train_cnn_history[col_list].plot()\n",
        "plt.ylabel('Accuracy')\n",
        "plt.title('Training loss history')\n",
        "plt.show()"
      ],
      "metadata": {
        "id": "Bzplzke7m_gK"
      },
      "execution_count": null,
      "outputs": []
    },
    {
      "cell_type": "code",
      "source": [
        "test_generator = ImageDataGenerator()\n",
        "img_width, img_height = 256, 256\n",
        "test_data_generator = test_generator.flow_from_directory(\n",
        "     '/content/plant-leaves-for-image-classification/Plants_2/valid',\n",
        "     target_size=(img_width, img_height),\n",
        "    batch_size=32,\n",
        "    shuffle=False)\n",
        "test_steps_per_epoch = np.math.ceil(test_data_generator.samples / test_data_generator.batch_size)\n",
        "\n",
        "predictions = L2_model.predict(test_data_generator, steps=test_steps_per_epoch)\n",
        "# Get most likely class\n",
        "predicted_classes = np.argmax(predictions, axis=1)"
      ],
      "metadata": {
        "id": "M0hjmbQ34-8K"
      },
      "execution_count": null,
      "outputs": []
    },
    {
      "cell_type": "code",
      "source": [
        "plt.figure(figsize=(15, 10))\n",
        "ax= plt.subplot()\n",
        "sns.heatmap(confusion_matrix(predicted_classes, true_classes), annot=True, fmt='g', ax=ax)"
      ],
      "metadata": {
        "id": "FxiqjQZt4_3C"
      },
      "execution_count": null,
      "outputs": []
    },
    {
      "cell_type": "code",
      "source": [
        "report = metrics.classification_report(true_classes, predicted_classes, target_names=class_labels)\n",
        "print(report)"
      ],
      "metadata": {
        "id": "iPcnDCDQAB45"
      },
      "execution_count": null,
      "outputs": []
    },
    {
      "cell_type": "code",
      "source": [
        "L2_model.save('L2Model.h5')"
      ],
      "metadata": {
        "id": "NJI6KmiZihMB"
      },
      "execution_count": null,
      "outputs": []
    },
    {
      "cell_type": "markdown",
      "source": [
        "#Evalute on the test set"
      ],
      "metadata": {
        "id": "YnCoA1gzxTJd"
      }
    },
    {
      "cell_type": "code",
      "source": [
        "L1_model2.evaluate(test_ds)"
      ],
      "metadata": {
        "colab": {
          "base_uri": "https://localhost:8080/"
        },
        "id": "SYthcI5Cmb2P",
        "outputId": "ce7e243f-254f-449a-886d-65420acc5ec2"
      },
      "execution_count": 207,
      "outputs": [
        {
          "output_type": "stream",
          "name": "stdout",
          "text": [
            "4/4 [==============================] - 1s 23ms/step - loss: 3.2805 - accuracy: 0.0727\n"
          ]
        },
        {
          "output_type": "execute_result",
          "data": {
            "text/plain": [
              "[3.2804791927337646, 0.072727270424366]"
            ]
          },
          "metadata": {},
          "execution_count": 207
        }
      ]
    },
    {
      "cell_type": "code",
      "source": [],
      "metadata": {
        "id": "ID4J3QlsAS0a"
      },
      "execution_count": null,
      "outputs": []
    }
  ]
}